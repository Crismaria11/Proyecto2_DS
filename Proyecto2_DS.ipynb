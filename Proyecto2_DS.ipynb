{
 "cells": [
  {
   "cell_type": "code",
   "execution_count": 1,
   "metadata": {},
   "outputs": [],
   "source": [
    "import numpy as np\n",
    "import pandas as pd"
   ]
  },
  {
   "cell_type": "code",
   "execution_count": 2,
   "metadata": {},
   "outputs": [],
   "source": [
    "import matplotlib.pyplot as plt\n",
    "from matplotlib.ticker import StrMethodFormatter\n",
    "%matplotlib inline"
   ]
  },
  {
   "cell_type": "code",
   "execution_count": 3,
   "metadata": {},
   "outputs": [],
   "source": [
    "df1 = pd.read_csv('train_image_level.csv')\n",
    "df1['StudyInstanceUID'] = df1['StudyInstanceUID'].str.rstrip(' ')\n",
    "df1.StudyInstanceUID = df1.StudyInstanceUID.astype(str)"
   ]
  },
  {
   "cell_type": "code",
   "execution_count": 4,
   "metadata": {},
   "outputs": [],
   "source": [
    "df2 = pd.read_csv('train_study_level.csv')\n",
    "df2['id'] = df2['id'].str.rstrip('_study ')\n",
    "df2['id'] = df2['id'].str.rstrip('_study')\n",
    "df2['id'] = df2['id'].str.rstrip(' ')\n",
    "df2.id = df2.id.astype(str)"
   ]
  },
  {
   "cell_type": "code",
   "execution_count": 5,
   "metadata": {},
   "outputs": [
    {
     "data": {
      "text/html": [
       "<div>\n",
       "<style scoped>\n",
       "    .dataframe tbody tr th:only-of-type {\n",
       "        vertical-align: middle;\n",
       "    }\n",
       "\n",
       "    .dataframe tbody tr th {\n",
       "        vertical-align: top;\n",
       "    }\n",
       "\n",
       "    .dataframe thead th {\n",
       "        text-align: right;\n",
       "    }\n",
       "</style>\n",
       "<table border=\"1\" class=\"dataframe\">\n",
       "  <thead>\n",
       "    <tr style=\"text-align: right;\">\n",
       "      <th></th>\n",
       "      <th>id</th>\n",
       "      <th>boxes</th>\n",
       "      <th>label</th>\n",
       "      <th>StudyInstanceUID</th>\n",
       "    </tr>\n",
       "  </thead>\n",
       "  <tbody>\n",
       "    <tr>\n",
       "      <td>0</td>\n",
       "      <td>000a312787f2_image</td>\n",
       "      <td>[{'x': 789.28836, 'y': 582.43035, 'width': 102...</td>\n",
       "      <td>opacity 1 789.28836 582.43035 1815.94498 2499....</td>\n",
       "      <td>5776db0cec75</td>\n",
       "    </tr>\n",
       "    <tr>\n",
       "      <td>1</td>\n",
       "      <td>000c3a3f293f_image</td>\n",
       "      <td>NaN</td>\n",
       "      <td>none 1 0 0 1 1</td>\n",
       "      <td>ff0879eb20ed</td>\n",
       "    </tr>\n",
       "    <tr>\n",
       "      <td>2</td>\n",
       "      <td>0012ff7358bc_image</td>\n",
       "      <td>[{'x': 677.42216, 'y': 197.97662, 'width': 867...</td>\n",
       "      <td>opacity 1 677.42216 197.97662 1545.21983 1197....</td>\n",
       "      <td>9d514ce429a7</td>\n",
       "    </tr>\n",
       "    <tr>\n",
       "      <td>3</td>\n",
       "      <td>001398f4ff4f_image</td>\n",
       "      <td>[{'x': 2729, 'y': 2181.33331, 'width': 948.000...</td>\n",
       "      <td>opacity 1 2729 2181.33331 3677.00012 2785.33331</td>\n",
       "      <td>28dddc8559b2</td>\n",
       "    </tr>\n",
       "    <tr>\n",
       "      <td>4</td>\n",
       "      <td>001bd15d1891_image</td>\n",
       "      <td>[{'x': 623.23328, 'y': 1050, 'width': 714, 'he...</td>\n",
       "      <td>opacity 1 623.23328 1050 1337.23328 2156 opaci...</td>\n",
       "      <td>dfd9fdd85a3e</td>\n",
       "    </tr>\n",
       "  </tbody>\n",
       "</table>\n",
       "</div>"
      ],
      "text/plain": [
       "                   id                                              boxes  \\\n",
       "0  000a312787f2_image  [{'x': 789.28836, 'y': 582.43035, 'width': 102...   \n",
       "1  000c3a3f293f_image                                                NaN   \n",
       "2  0012ff7358bc_image  [{'x': 677.42216, 'y': 197.97662, 'width': 867...   \n",
       "3  001398f4ff4f_image  [{'x': 2729, 'y': 2181.33331, 'width': 948.000...   \n",
       "4  001bd15d1891_image  [{'x': 623.23328, 'y': 1050, 'width': 714, 'he...   \n",
       "\n",
       "                                               label StudyInstanceUID  \n",
       "0  opacity 1 789.28836 582.43035 1815.94498 2499....     5776db0cec75  \n",
       "1                                     none 1 0 0 1 1     ff0879eb20ed  \n",
       "2  opacity 1 677.42216 197.97662 1545.21983 1197....     9d514ce429a7  \n",
       "3    opacity 1 2729 2181.33331 3677.00012 2785.33331     28dddc8559b2  \n",
       "4  opacity 1 623.23328 1050 1337.23328 2156 opaci...     dfd9fdd85a3e  "
      ]
     },
     "execution_count": 5,
     "metadata": {},
     "output_type": "execute_result"
    }
   ],
   "source": [
    "df1.head()"
   ]
  },
  {
   "cell_type": "code",
   "execution_count": 6,
   "metadata": {},
   "outputs": [
    {
     "name": "stdout",
     "output_type": "stream",
     "text": [
      "<class 'pandas.core.frame.DataFrame'>\n",
      "RangeIndex: 6334 entries, 0 to 6333\n",
      "Data columns (total 4 columns):\n",
      "id                  6334 non-null object\n",
      "boxes               4294 non-null object\n",
      "label               6334 non-null object\n",
      "StudyInstanceUID    6334 non-null object\n",
      "dtypes: object(4)\n",
      "memory usage: 198.1+ KB\n"
     ]
    }
   ],
   "source": [
    "df1.info()"
   ]
  },
  {
   "cell_type": "code",
   "execution_count": 7,
   "metadata": {},
   "outputs": [
    {
     "data": {
      "text/html": [
       "<div>\n",
       "<style scoped>\n",
       "    .dataframe tbody tr th:only-of-type {\n",
       "        vertical-align: middle;\n",
       "    }\n",
       "\n",
       "    .dataframe tbody tr th {\n",
       "        vertical-align: top;\n",
       "    }\n",
       "\n",
       "    .dataframe thead th {\n",
       "        text-align: right;\n",
       "    }\n",
       "</style>\n",
       "<table border=\"1\" class=\"dataframe\">\n",
       "  <thead>\n",
       "    <tr style=\"text-align: right;\">\n",
       "      <th></th>\n",
       "      <th>id</th>\n",
       "      <th>Negative for Pneumonia</th>\n",
       "      <th>Typical Appearance</th>\n",
       "      <th>Indeterminate Appearance</th>\n",
       "      <th>Atypical Appearance</th>\n",
       "    </tr>\n",
       "  </thead>\n",
       "  <tbody>\n",
       "    <tr>\n",
       "      <td>0</td>\n",
       "      <td>00086460a852</td>\n",
       "      <td>0</td>\n",
       "      <td>1</td>\n",
       "      <td>0</td>\n",
       "      <td>0</td>\n",
       "    </tr>\n",
       "    <tr>\n",
       "      <td>1</td>\n",
       "      <td>000c9c05fd14</td>\n",
       "      <td>0</td>\n",
       "      <td>0</td>\n",
       "      <td>0</td>\n",
       "      <td>1</td>\n",
       "    </tr>\n",
       "    <tr>\n",
       "      <td>2</td>\n",
       "      <td>00292f8c37b</td>\n",
       "      <td>1</td>\n",
       "      <td>0</td>\n",
       "      <td>0</td>\n",
       "      <td>0</td>\n",
       "    </tr>\n",
       "    <tr>\n",
       "      <td>3</td>\n",
       "      <td>005057b3f880</td>\n",
       "      <td>1</td>\n",
       "      <td>0</td>\n",
       "      <td>0</td>\n",
       "      <td>0</td>\n",
       "    </tr>\n",
       "    <tr>\n",
       "      <td>4</td>\n",
       "      <td>0051d9b12e72</td>\n",
       "      <td>0</td>\n",
       "      <td>0</td>\n",
       "      <td>0</td>\n",
       "      <td>1</td>\n",
       "    </tr>\n",
       "  </tbody>\n",
       "</table>\n",
       "</div>"
      ],
      "text/plain": [
       "             id  Negative for Pneumonia  Typical Appearance  \\\n",
       "0  00086460a852                       0                   1   \n",
       "1  000c9c05fd14                       0                   0   \n",
       "2   00292f8c37b                       1                   0   \n",
       "3  005057b3f880                       1                   0   \n",
       "4  0051d9b12e72                       0                   0   \n",
       "\n",
       "   Indeterminate Appearance  Atypical Appearance  \n",
       "0                         0                    0  \n",
       "1                         0                    1  \n",
       "2                         0                    0  \n",
       "3                         0                    0  \n",
       "4                         0                    1  "
      ]
     },
     "execution_count": 7,
     "metadata": {},
     "output_type": "execute_result"
    }
   ],
   "source": [
    "df2.head()"
   ]
  },
  {
   "cell_type": "code",
   "execution_count": 8,
   "metadata": {},
   "outputs": [
    {
     "name": "stdout",
     "output_type": "stream",
     "text": [
      "<class 'pandas.core.frame.DataFrame'>\n",
      "RangeIndex: 6054 entries, 0 to 6053\n",
      "Data columns (total 5 columns):\n",
      "id                          6054 non-null object\n",
      "Negative for Pneumonia      6054 non-null int64\n",
      "Typical Appearance          6054 non-null int64\n",
      "Indeterminate Appearance    6054 non-null int64\n",
      "Atypical Appearance         6054 non-null int64\n",
      "dtypes: int64(4), object(1)\n",
      "memory usage: 236.6+ KB\n"
     ]
    }
   ],
   "source": [
    "df2.info()"
   ]
  },
  {
   "cell_type": "code",
   "execution_count": 9,
   "metadata": {},
   "outputs": [],
   "source": [
    "df = pd.merge(df1, df2, left_on='StudyInstanceUID', right_on='id', how='outer')"
   ]
  },
  {
   "cell_type": "code",
   "execution_count": 10,
   "metadata": {},
   "outputs": [
    {
     "data": {
      "text/html": [
       "<div>\n",
       "<style scoped>\n",
       "    .dataframe tbody tr th:only-of-type {\n",
       "        vertical-align: middle;\n",
       "    }\n",
       "\n",
       "    .dataframe tbody tr th {\n",
       "        vertical-align: top;\n",
       "    }\n",
       "\n",
       "    .dataframe thead th {\n",
       "        text-align: right;\n",
       "    }\n",
       "</style>\n",
       "<table border=\"1\" class=\"dataframe\">\n",
       "  <thead>\n",
       "    <tr style=\"text-align: right;\">\n",
       "      <th></th>\n",
       "      <th>id_x</th>\n",
       "      <th>boxes</th>\n",
       "      <th>label</th>\n",
       "      <th>StudyInstanceUID</th>\n",
       "      <th>id_y</th>\n",
       "      <th>Negative for Pneumonia</th>\n",
       "      <th>Typical Appearance</th>\n",
       "      <th>Indeterminate Appearance</th>\n",
       "      <th>Atypical Appearance</th>\n",
       "    </tr>\n",
       "  </thead>\n",
       "  <tbody>\n",
       "    <tr>\n",
       "      <td>0</td>\n",
       "      <td>000a312787f2_image</td>\n",
       "      <td>[{'x': 789.28836, 'y': 582.43035, 'width': 102...</td>\n",
       "      <td>opacity 1 789.28836 582.43035 1815.94498 2499....</td>\n",
       "      <td>5776db0cec75</td>\n",
       "      <td>5776db0cec75</td>\n",
       "      <td>0.0</td>\n",
       "      <td>1.0</td>\n",
       "      <td>0.0</td>\n",
       "      <td>0.0</td>\n",
       "    </tr>\n",
       "    <tr>\n",
       "      <td>1</td>\n",
       "      <td>000c3a3f293f_image</td>\n",
       "      <td>NaN</td>\n",
       "      <td>none 1 0 0 1 1</td>\n",
       "      <td>ff0879eb20ed</td>\n",
       "      <td>NaN</td>\n",
       "      <td>NaN</td>\n",
       "      <td>NaN</td>\n",
       "      <td>NaN</td>\n",
       "      <td>NaN</td>\n",
       "    </tr>\n",
       "    <tr>\n",
       "      <td>2</td>\n",
       "      <td>0012ff7358bc_image</td>\n",
       "      <td>[{'x': 677.42216, 'y': 197.97662, 'width': 867...</td>\n",
       "      <td>opacity 1 677.42216 197.97662 1545.21983 1197....</td>\n",
       "      <td>9d514ce429a7</td>\n",
       "      <td>9d514ce429a7</td>\n",
       "      <td>0.0</td>\n",
       "      <td>1.0</td>\n",
       "      <td>0.0</td>\n",
       "      <td>0.0</td>\n",
       "    </tr>\n",
       "    <tr>\n",
       "      <td>3</td>\n",
       "      <td>001398f4ff4f_image</td>\n",
       "      <td>[{'x': 2729, 'y': 2181.33331, 'width': 948.000...</td>\n",
       "      <td>opacity 1 2729 2181.33331 3677.00012 2785.33331</td>\n",
       "      <td>28dddc8559b2</td>\n",
       "      <td>28dddc8559b2</td>\n",
       "      <td>0.0</td>\n",
       "      <td>0.0</td>\n",
       "      <td>0.0</td>\n",
       "      <td>1.0</td>\n",
       "    </tr>\n",
       "    <tr>\n",
       "      <td>4</td>\n",
       "      <td>001bd15d1891_image</td>\n",
       "      <td>[{'x': 623.23328, 'y': 1050, 'width': 714, 'he...</td>\n",
       "      <td>opacity 1 623.23328 1050 1337.23328 2156 opaci...</td>\n",
       "      <td>dfd9fdd85a3e</td>\n",
       "      <td>dfd9fdd85a3e</td>\n",
       "      <td>0.0</td>\n",
       "      <td>1.0</td>\n",
       "      <td>0.0</td>\n",
       "      <td>0.0</td>\n",
       "    </tr>\n",
       "  </tbody>\n",
       "</table>\n",
       "</div>"
      ],
      "text/plain": [
       "                 id_x                                              boxes  \\\n",
       "0  000a312787f2_image  [{'x': 789.28836, 'y': 582.43035, 'width': 102...   \n",
       "1  000c3a3f293f_image                                                NaN   \n",
       "2  0012ff7358bc_image  [{'x': 677.42216, 'y': 197.97662, 'width': 867...   \n",
       "3  001398f4ff4f_image  [{'x': 2729, 'y': 2181.33331, 'width': 948.000...   \n",
       "4  001bd15d1891_image  [{'x': 623.23328, 'y': 1050, 'width': 714, 'he...   \n",
       "\n",
       "                                               label StudyInstanceUID  \\\n",
       "0  opacity 1 789.28836 582.43035 1815.94498 2499....     5776db0cec75   \n",
       "1                                     none 1 0 0 1 1     ff0879eb20ed   \n",
       "2  opacity 1 677.42216 197.97662 1545.21983 1197....     9d514ce429a7   \n",
       "3    opacity 1 2729 2181.33331 3677.00012 2785.33331     28dddc8559b2   \n",
       "4  opacity 1 623.23328 1050 1337.23328 2156 opaci...     dfd9fdd85a3e   \n",
       "\n",
       "           id_y  Negative for Pneumonia  Typical Appearance  \\\n",
       "0  5776db0cec75                     0.0                 1.0   \n",
       "1           NaN                     NaN                 NaN   \n",
       "2  9d514ce429a7                     0.0                 1.0   \n",
       "3  28dddc8559b2                     0.0                 0.0   \n",
       "4  dfd9fdd85a3e                     0.0                 1.0   \n",
       "\n",
       "   Indeterminate Appearance  Atypical Appearance  \n",
       "0                       0.0                  0.0  \n",
       "1                       NaN                  NaN  \n",
       "2                       0.0                  0.0  \n",
       "3                       0.0                  1.0  \n",
       "4                       0.0                  0.0  "
      ]
     },
     "execution_count": 10,
     "metadata": {},
     "output_type": "execute_result"
    }
   ],
   "source": [
    "df.head()"
   ]
  },
  {
   "cell_type": "code",
   "execution_count": 11,
   "metadata": {},
   "outputs": [
    {
     "name": "stdout",
     "output_type": "stream",
     "text": [
      "<class 'pandas.core.frame.DataFrame'>\n",
      "Int64Index: 6708 entries, 0 to 6707\n",
      "Data columns (total 9 columns):\n",
      "id_x                        6334 non-null object\n",
      "boxes                       4294 non-null object\n",
      "label                       6334 non-null object\n",
      "StudyInstanceUID            6334 non-null object\n",
      "id_y                        6310 non-null object\n",
      "Negative for Pneumonia      6310 non-null float64\n",
      "Typical Appearance          6310 non-null float64\n",
      "Indeterminate Appearance    6310 non-null float64\n",
      "Atypical Appearance         6310 non-null float64\n",
      "dtypes: float64(4), object(5)\n",
      "memory usage: 524.1+ KB\n"
     ]
    }
   ],
   "source": [
    "df.info()"
   ]
  },
  {
   "cell_type": "code",
   "execution_count": 12,
   "metadata": {},
   "outputs": [
    {
     "data": {
      "text/html": [
       "<div>\n",
       "<style scoped>\n",
       "    .dataframe tbody tr th:only-of-type {\n",
       "        vertical-align: middle;\n",
       "    }\n",
       "\n",
       "    .dataframe tbody tr th {\n",
       "        vertical-align: top;\n",
       "    }\n",
       "\n",
       "    .dataframe thead th {\n",
       "        text-align: right;\n",
       "    }\n",
       "</style>\n",
       "<table border=\"1\" class=\"dataframe\">\n",
       "  <thead>\n",
       "    <tr style=\"text-align: right;\">\n",
       "      <th></th>\n",
       "      <th>Negative for Pneumonia</th>\n",
       "      <th>Typical Appearance</th>\n",
       "      <th>Indeterminate Appearance</th>\n",
       "      <th>Atypical Appearance</th>\n",
       "    </tr>\n",
       "  </thead>\n",
       "  <tbody>\n",
       "    <tr>\n",
       "      <td>count</td>\n",
       "      <td>6310.000000</td>\n",
       "      <td>6310.000000</td>\n",
       "      <td>6310.000000</td>\n",
       "      <td>6310.000000</td>\n",
       "    </tr>\n",
       "    <tr>\n",
       "      <td>mean</td>\n",
       "      <td>0.274326</td>\n",
       "      <td>0.474168</td>\n",
       "      <td>0.175119</td>\n",
       "      <td>0.076387</td>\n",
       "    </tr>\n",
       "    <tr>\n",
       "      <td>std</td>\n",
       "      <td>0.446210</td>\n",
       "      <td>0.499372</td>\n",
       "      <td>0.380099</td>\n",
       "      <td>0.265637</td>\n",
       "    </tr>\n",
       "    <tr>\n",
       "      <td>min</td>\n",
       "      <td>0.000000</td>\n",
       "      <td>0.000000</td>\n",
       "      <td>0.000000</td>\n",
       "      <td>0.000000</td>\n",
       "    </tr>\n",
       "    <tr>\n",
       "      <td>25%</td>\n",
       "      <td>0.000000</td>\n",
       "      <td>0.000000</td>\n",
       "      <td>0.000000</td>\n",
       "      <td>0.000000</td>\n",
       "    </tr>\n",
       "    <tr>\n",
       "      <td>50%</td>\n",
       "      <td>0.000000</td>\n",
       "      <td>0.000000</td>\n",
       "      <td>0.000000</td>\n",
       "      <td>0.000000</td>\n",
       "    </tr>\n",
       "    <tr>\n",
       "      <td>75%</td>\n",
       "      <td>1.000000</td>\n",
       "      <td>1.000000</td>\n",
       "      <td>0.000000</td>\n",
       "      <td>0.000000</td>\n",
       "    </tr>\n",
       "    <tr>\n",
       "      <td>max</td>\n",
       "      <td>1.000000</td>\n",
       "      <td>1.000000</td>\n",
       "      <td>1.000000</td>\n",
       "      <td>1.000000</td>\n",
       "    </tr>\n",
       "  </tbody>\n",
       "</table>\n",
       "</div>"
      ],
      "text/plain": [
       "       Negative for Pneumonia  Typical Appearance  Indeterminate Appearance  \\\n",
       "count             6310.000000         6310.000000               6310.000000   \n",
       "mean                 0.274326            0.474168                  0.175119   \n",
       "std                  0.446210            0.499372                  0.380099   \n",
       "min                  0.000000            0.000000                  0.000000   \n",
       "25%                  0.000000            0.000000                  0.000000   \n",
       "50%                  0.000000            0.000000                  0.000000   \n",
       "75%                  1.000000            1.000000                  0.000000   \n",
       "max                  1.000000            1.000000                  1.000000   \n",
       "\n",
       "       Atypical Appearance  \n",
       "count          6310.000000  \n",
       "mean              0.076387  \n",
       "std               0.265637  \n",
       "min               0.000000  \n",
       "25%               0.000000  \n",
       "50%               0.000000  \n",
       "75%               0.000000  \n",
       "max               1.000000  "
      ]
     },
     "execution_count": 12,
     "metadata": {},
     "output_type": "execute_result"
    }
   ],
   "source": [
    "df.describe()"
   ]
  },
  {
   "cell_type": "code",
   "execution_count": 13,
   "metadata": {},
   "outputs": [],
   "source": [
    "colNegPneu = df['Negative for Pneumonia'].value_counts()\n",
    "colTypApp = df['Typical Appearance'].value_counts()\n",
    "colIntApp = df['Indeterminate Appearance'].value_counts()\n",
    "colAtyApp = df['Atypical Appearance'].value_counts()"
   ]
  },
  {
   "cell_type": "code",
   "execution_count": 14,
   "metadata": {},
   "outputs": [
    {
     "name": "stdout",
     "output_type": "stream",
     "text": [
      "La proporcion de 0's en  Negative for Pneumonia es: \t 72.56735340729001\n",
      "La proporcion de 1's en  Negative for Pneumonia es: \t 27.432646592709983\n",
      "La proporcion de 0's en  Typical Appearance es: \t 52.58320126782884\n",
      "La proporcion de 1's en  Typical Appearance es: \t 47.41679873217116\n",
      "La proporcion de 0's en  Indeterminate Appearance es: \t 82.48811410459588\n",
      "La proporcion de 1's en  Indeterminate Appearance es: \t 17.51188589540412\n",
      "La proporcion de 0's en  Atypical Appearance es: \t 92.36133122028527\n",
      "La proporcion de 1's en  Atypical Appearance es: \t 7.638668779714738\n"
     ]
    }
   ],
   "source": [
    "listColumns = [colNegPneu, colTypApp, colIntApp, colAtyApp]\n",
    "listColumnsNames = ['Negative for Pneumonia', 'Typical Appearance', 'Indeterminate Appearance', 'Atypical Appearance']\n",
    "for i in range(len(listColumnsNames)):\n",
    "    a = (100*listColumns[i][0])/sum(listColumns[i])\n",
    "    print(\"La proporcion de 0's en \", listColumnsNames[i], \"es: \\t\", a)\n",
    "    b = (100*listColumns[i][1])/sum(listColumns[i])\n",
    "    print(\"La proporcion de 1's en \", listColumnsNames[i], \"es: \\t\", b)"
   ]
  },
  {
   "cell_type": "code",
   "execution_count": 15,
   "metadata": {},
   "outputs": [
    {
     "data": {
      "text/plain": [
       "([Text(0, 0, '4579'), Text(0, 0, '1731')],)"
      ]
     },
     "execution_count": 15,
     "metadata": {},
     "output_type": "execute_result"
    },
    {
     "data": {
      "image/png": "[encoded data removed]",
      "text/plain": [
       "<Figure size 432x288 with 1 Axes>"
      ]
     },
     "metadata": {
      "needs_background": "light"
     },
     "output_type": "display_data"
    }
   ],
   "source": [
    "ax = colNegPneu.plot.bar()\n",
    "ax.set_title(listColumnsNames[0])\n",
    "ax.bar_label(ax.containers[0]),"
   ]
  },
  {
   "cell_type": "code",
   "execution_count": 16,
   "metadata": {},
   "outputs": [
    {
     "data": {
      "text/plain": [
       "[Text(0, 0, '3318'), Text(0, 0, '2992')]"
      ]
     },
     "execution_count": 16,
     "metadata": {},
     "output_type": "execute_result"
    },
    {
     "data": {
      "image/png": "[encoded data removed]",
      "text/plain": [
       "<Figure size 432x288 with 1 Axes>"
      ]
     },
     "metadata": {
      "needs_background": "light"
     },
     "output_type": "display_data"
    }
   ],
   "source": [
    "ax = colTypApp.plot.bar()\n",
    "ax.set_title(listColumnsNames[1])\n",
    "ax.bar_label(ax.containers[0])"
   ]
  },
  {
   "cell_type": "code",
   "execution_count": 17,
   "metadata": {},
   "outputs": [
    {
     "data": {
      "text/plain": [
       "[Text(0, 0, '5205'), Text(0, 0, '1105')]"
      ]
     },
     "execution_count": 17,
     "metadata": {},
     "output_type": "execute_result"
    },
    {
     "data": {
      "image/png": "[encoded data removed]",
      "text/plain": [
       "<Figure size 432x288 with 1 Axes>"
      ]
     },
     "metadata": {
      "needs_background": "light"
     },
     "output_type": "display_data"
    }
   ],
   "source": [
    "ax = colIntApp.plot.bar()\n",
    "ax.set_title(listColumnsNames[2])\n",
    "ax.bar_label(ax.containers[0])"
   ]
  },
  {
   "cell_type": "code",
   "execution_count": 18,
   "metadata": {},
   "outputs": [
    {
     "data": {
      "text/plain": [
       "[Text(0, 0, '5828'), Text(0, 0, '482')]"
      ]
     },
     "execution_count": 18,
     "metadata": {},
     "output_type": "execute_result"
    },
    {
     "data": {
      "image/png": "[encoded data removed]",
      "text/plain": [
       "<Figure size 432x288 with 1 Axes>"
      ]
     },
     "metadata": {
      "needs_background": "light"
     },
     "output_type": "display_data"
    }
   ],
   "source": [
    "ax = colAtyApp.plot.bar()\n",
    "ax.set_title(listColumnsNames[3])\n",
    "ax.bar_label(ax.containers[0])"
   ]
  },
  {
   "cell_type": "code",
   "execution_count": 19,
   "metadata": {},
   "outputs": [
    {
     "data": {
      "text/html": [
       "<div>\n",
       "<style scoped>\n",
       "    .dataframe tbody tr th:only-of-type {\n",
       "        vertical-align: middle;\n",
       "    }\n",
       "\n",
       "    .dataframe tbody tr th {\n",
       "        vertical-align: top;\n",
       "    }\n",
       "\n",
       "    .dataframe thead th {\n",
       "        text-align: right;\n",
       "    }\n",
       "</style>\n",
       "<table border=\"1\" class=\"dataframe\">\n",
       "  <thead>\n",
       "    <tr style=\"text-align: right;\">\n",
       "      <th></th>\n",
       "      <th>id</th>\n",
       "      <th>boxes</th>\n",
       "      <th>label</th>\n",
       "      <th>StudyInstanceUID</th>\n",
       "    </tr>\n",
       "  </thead>\n",
       "  <tbody>\n",
       "    <tr>\n",
       "      <td>1</td>\n",
       "      <td>000c3a3f293f_image</td>\n",
       "      <td>NaN</td>\n",
       "      <td>none 1 0 0 1 1</td>\n",
       "      <td>ff0879eb20ed</td>\n",
       "    </tr>\n",
       "    <tr>\n",
       "      <td>6</td>\n",
       "      <td>0023f02ae886_image</td>\n",
       "      <td>NaN</td>\n",
       "      <td>none 1 0 0 1 1</td>\n",
       "      <td>2fa400b873f5</td>\n",
       "    </tr>\n",
       "    <tr>\n",
       "      <td>22</td>\n",
       "      <td>00c1515729a8_image</td>\n",
       "      <td>NaN</td>\n",
       "      <td>none 1 0 0 1 1</td>\n",
       "      <td>1a58b43cf286</td>\n",
       "    </tr>\n",
       "    <tr>\n",
       "      <td>24</td>\n",
       "      <td>00e3a7e91a34_image</td>\n",
       "      <td>NaN</td>\n",
       "      <td>none 1 0 0 1 1</td>\n",
       "      <td>74ba8f2badcb</td>\n",
       "    </tr>\n",
       "    <tr>\n",
       "      <td>26</td>\n",
       "      <td>010214f9b600_image</td>\n",
       "      <td>NaN</td>\n",
       "      <td>none 1 0 0 1 1</td>\n",
       "      <td>2a7b4e669dda</td>\n",
       "    </tr>\n",
       "    <tr>\n",
       "      <td>...</td>\n",
       "      <td>...</td>\n",
       "      <td>...</td>\n",
       "      <td>...</td>\n",
       "      <td>...</td>\n",
       "    </tr>\n",
       "    <tr>\n",
       "      <td>6322</td>\n",
       "      <td>ff7659762b75_image</td>\n",
       "      <td>NaN</td>\n",
       "      <td>none 1 0 0 1 1</td>\n",
       "      <td>4aa11ef1fd38</td>\n",
       "    </tr>\n",
       "    <tr>\n",
       "      <td>6324</td>\n",
       "      <td>ff9f10a24c27_image</td>\n",
       "      <td>NaN</td>\n",
       "      <td>none 1 0 0 1 1</td>\n",
       "      <td>a937614104e3</td>\n",
       "    </tr>\n",
       "    <tr>\n",
       "      <td>6325</td>\n",
       "      <td>ffa9fef3c7bf_image</td>\n",
       "      <td>NaN</td>\n",
       "      <td>none 1 0 0 1 1</td>\n",
       "      <td>5133bbb7b75c</td>\n",
       "    </tr>\n",
       "    <tr>\n",
       "      <td>6329</td>\n",
       "      <td>ffcc6edd9445_image</td>\n",
       "      <td>NaN</td>\n",
       "      <td>none 1 0 0 1 1</td>\n",
       "      <td>7e6c68462e06</td>\n",
       "    </tr>\n",
       "    <tr>\n",
       "      <td>6330</td>\n",
       "      <td>ffd91a2c4ca0_image</td>\n",
       "      <td>NaN</td>\n",
       "      <td>none 1 0 0 1 1</td>\n",
       "      <td>8332bdaddb6e</td>\n",
       "    </tr>\n",
       "  </tbody>\n",
       "</table>\n",
       "<p>2040 rows × 4 columns</p>\n",
       "</div>"
      ],
      "text/plain": [
       "                      id boxes           label StudyInstanceUID\n",
       "1     000c3a3f293f_image   NaN  none 1 0 0 1 1     ff0879eb20ed\n",
       "6     0023f02ae886_image   NaN  none 1 0 0 1 1     2fa400b873f5\n",
       "22    00c1515729a8_image   NaN  none 1 0 0 1 1     1a58b43cf286\n",
       "24    00e3a7e91a34_image   NaN  none 1 0 0 1 1     74ba8f2badcb\n",
       "26    010214f9b600_image   NaN  none 1 0 0 1 1     2a7b4e669dda\n",
       "...                  ...   ...             ...              ...\n",
       "6322  ff7659762b75_image   NaN  none 1 0 0 1 1     4aa11ef1fd38\n",
       "6324  ff9f10a24c27_image   NaN  none 1 0 0 1 1     a937614104e3\n",
       "6325  ffa9fef3c7bf_image   NaN  none 1 0 0 1 1     5133bbb7b75c\n",
       "6329  ffcc6edd9445_image   NaN  none 1 0 0 1 1     7e6c68462e06\n",
       "6330  ffd91a2c4ca0_image   NaN  none 1 0 0 1 1     8332bdaddb6e\n",
       "\n",
       "[2040 rows x 4 columns]"
      ]
     },
     "execution_count": 19,
     "metadata": {},
     "output_type": "execute_result"
    }
   ],
   "source": [
    "df1.loc[df1['label'] == 'none 1 0 0 1 1']"
   ]
  },
  {
   "cell_type": "code",
   "execution_count": 20,
   "metadata": {},
   "outputs": [],
   "source": [
    "dfLabel = df.loc[df['label'] == 'none 1 0 0 1 1']"
   ]
  },
  {
   "cell_type": "code",
   "execution_count": 21,
   "metadata": {},
   "outputs": [
    {
     "data": {
      "text/html": [
       "<div>\n",
       "<style scoped>\n",
       "    .dataframe tbody tr th:only-of-type {\n",
       "        vertical-align: middle;\n",
       "    }\n",
       "\n",
       "    .dataframe tbody tr th {\n",
       "        vertical-align: top;\n",
       "    }\n",
       "\n",
       "    .dataframe thead th {\n",
       "        text-align: right;\n",
       "    }\n",
       "</style>\n",
       "<table border=\"1\" class=\"dataframe\">\n",
       "  <thead>\n",
       "    <tr style=\"text-align: right;\">\n",
       "      <th></th>\n",
       "      <th>id_x</th>\n",
       "      <th>boxes</th>\n",
       "      <th>label</th>\n",
       "      <th>StudyInstanceUID</th>\n",
       "      <th>id_y</th>\n",
       "      <th>Negative for Pneumonia</th>\n",
       "      <th>Typical Appearance</th>\n",
       "      <th>Indeterminate Appearance</th>\n",
       "      <th>Atypical Appearance</th>\n",
       "    </tr>\n",
       "  </thead>\n",
       "  <tbody>\n",
       "    <tr>\n",
       "      <td>1</td>\n",
       "      <td>000c3a3f293f_image</td>\n",
       "      <td>NaN</td>\n",
       "      <td>none 1 0 0 1 1</td>\n",
       "      <td>ff0879eb20ed</td>\n",
       "      <td>NaN</td>\n",
       "      <td>NaN</td>\n",
       "      <td>NaN</td>\n",
       "      <td>NaN</td>\n",
       "      <td>NaN</td>\n",
       "    </tr>\n",
       "    <tr>\n",
       "      <td>6</td>\n",
       "      <td>0023f02ae886_image</td>\n",
       "      <td>NaN</td>\n",
       "      <td>none 1 0 0 1 1</td>\n",
       "      <td>2fa400b873f5</td>\n",
       "      <td>2fa400b873f5</td>\n",
       "      <td>1.0</td>\n",
       "      <td>0.0</td>\n",
       "      <td>0.0</td>\n",
       "      <td>0.0</td>\n",
       "    </tr>\n",
       "    <tr>\n",
       "      <td>22</td>\n",
       "      <td>00c1515729a8_image</td>\n",
       "      <td>NaN</td>\n",
       "      <td>none 1 0 0 1 1</td>\n",
       "      <td>1a58b43cf286</td>\n",
       "      <td>1a58b43cf286</td>\n",
       "      <td>0.0</td>\n",
       "      <td>1.0</td>\n",
       "      <td>0.0</td>\n",
       "      <td>0.0</td>\n",
       "    </tr>\n",
       "    <tr>\n",
       "      <td>25</td>\n",
       "      <td>00e3a7e91a34_image</td>\n",
       "      <td>NaN</td>\n",
       "      <td>none 1 0 0 1 1</td>\n",
       "      <td>74ba8f2badcb</td>\n",
       "      <td>74ba8f2badcb</td>\n",
       "      <td>1.0</td>\n",
       "      <td>0.0</td>\n",
       "      <td>0.0</td>\n",
       "      <td>0.0</td>\n",
       "    </tr>\n",
       "    <tr>\n",
       "      <td>26</td>\n",
       "      <td>0d4d6acc9ed3_image</td>\n",
       "      <td>NaN</td>\n",
       "      <td>none 1 0 0 1 1</td>\n",
       "      <td>74ba8f2badcb</td>\n",
       "      <td>74ba8f2badcb</td>\n",
       "      <td>1.0</td>\n",
       "      <td>0.0</td>\n",
       "      <td>0.0</td>\n",
       "      <td>0.0</td>\n",
       "    </tr>\n",
       "    <tr>\n",
       "      <td>...</td>\n",
       "      <td>...</td>\n",
       "      <td>...</td>\n",
       "      <td>...</td>\n",
       "      <td>...</td>\n",
       "      <td>...</td>\n",
       "      <td>...</td>\n",
       "      <td>...</td>\n",
       "      <td>...</td>\n",
       "      <td>...</td>\n",
       "    </tr>\n",
       "    <tr>\n",
       "      <td>6322</td>\n",
       "      <td>ff7659762b75_image</td>\n",
       "      <td>NaN</td>\n",
       "      <td>none 1 0 0 1 1</td>\n",
       "      <td>4aa11ef1fd38</td>\n",
       "      <td>4aa11ef1fd38</td>\n",
       "      <td>1.0</td>\n",
       "      <td>0.0</td>\n",
       "      <td>0.0</td>\n",
       "      <td>0.0</td>\n",
       "    </tr>\n",
       "    <tr>\n",
       "      <td>6324</td>\n",
       "      <td>ff9f10a24c27_image</td>\n",
       "      <td>NaN</td>\n",
       "      <td>none 1 0 0 1 1</td>\n",
       "      <td>a937614104e3</td>\n",
       "      <td>a937614104e3</td>\n",
       "      <td>1.0</td>\n",
       "      <td>0.0</td>\n",
       "      <td>0.0</td>\n",
       "      <td>0.0</td>\n",
       "    </tr>\n",
       "    <tr>\n",
       "      <td>6325</td>\n",
       "      <td>ffa9fef3c7bf_image</td>\n",
       "      <td>NaN</td>\n",
       "      <td>none 1 0 0 1 1</td>\n",
       "      <td>5133bbb7b75c</td>\n",
       "      <td>5133bbb7b75c</td>\n",
       "      <td>1.0</td>\n",
       "      <td>0.0</td>\n",
       "      <td>0.0</td>\n",
       "      <td>0.0</td>\n",
       "    </tr>\n",
       "    <tr>\n",
       "      <td>6329</td>\n",
       "      <td>ffcc6edd9445_image</td>\n",
       "      <td>NaN</td>\n",
       "      <td>none 1 0 0 1 1</td>\n",
       "      <td>7e6c68462e06</td>\n",
       "      <td>7e6c68462e06</td>\n",
       "      <td>1.0</td>\n",
       "      <td>0.0</td>\n",
       "      <td>0.0</td>\n",
       "      <td>0.0</td>\n",
       "    </tr>\n",
       "    <tr>\n",
       "      <td>6330</td>\n",
       "      <td>ffd91a2c4ca0_image</td>\n",
       "      <td>NaN</td>\n",
       "      <td>none 1 0 0 1 1</td>\n",
       "      <td>8332bdaddb6e</td>\n",
       "      <td>8332bdaddb6e</td>\n",
       "      <td>1.0</td>\n",
       "      <td>0.0</td>\n",
       "      <td>0.0</td>\n",
       "      <td>0.0</td>\n",
       "    </tr>\n",
       "  </tbody>\n",
       "</table>\n",
       "<p>2040 rows × 9 columns</p>\n",
       "</div>"
      ],
      "text/plain": [
       "                    id_x boxes           label StudyInstanceUID          id_y  \\\n",
       "1     000c3a3f293f_image   NaN  none 1 0 0 1 1     ff0879eb20ed           NaN   \n",
       "6     0023f02ae886_image   NaN  none 1 0 0 1 1     2fa400b873f5  2fa400b873f5   \n",
       "22    00c1515729a8_image   NaN  none 1 0 0 1 1     1a58b43cf286  1a58b43cf286   \n",
       "25    00e3a7e91a34_image   NaN  none 1 0 0 1 1     74ba8f2badcb  74ba8f2badcb   \n",
       "26    0d4d6acc9ed3_image   NaN  none 1 0 0 1 1     74ba8f2badcb  74ba8f2badcb   \n",
       "...                  ...   ...             ...              ...           ...   \n",
       "6322  ff7659762b75_image   NaN  none 1 0 0 1 1     4aa11ef1fd38  4aa11ef1fd38   \n",
       "6324  ff9f10a24c27_image   NaN  none 1 0 0 1 1     a937614104e3  a937614104e3   \n",
       "6325  ffa9fef3c7bf_image   NaN  none 1 0 0 1 1     5133bbb7b75c  5133bbb7b75c   \n",
       "6329  ffcc6edd9445_image   NaN  none 1 0 0 1 1     7e6c68462e06  7e6c68462e06   \n",
       "6330  ffd91a2c4ca0_image   NaN  none 1 0 0 1 1     8332bdaddb6e  8332bdaddb6e   \n",
       "\n",
       "      Negative for Pneumonia  Typical Appearance  Indeterminate Appearance  \\\n",
       "1                        NaN                 NaN                       NaN   \n",
       "6                        1.0                 0.0                       0.0   \n",
       "22                       0.0                 1.0                       0.0   \n",
       "25                       1.0                 0.0                       0.0   \n",
       "26                       1.0                 0.0                       0.0   \n",
       "...                      ...                 ...                       ...   \n",
       "6322                     1.0                 0.0                       0.0   \n",
       "6324                     1.0                 0.0                       0.0   \n",
       "6325                     1.0                 0.0                       0.0   \n",
       "6329                     1.0                 0.0                       0.0   \n",
       "6330                     1.0                 0.0                       0.0   \n",
       "\n",
       "      Atypical Appearance  \n",
       "1                     NaN  \n",
       "6                     0.0  \n",
       "22                    0.0  \n",
       "25                    0.0  \n",
       "26                    0.0  \n",
       "...                   ...  \n",
       "6322                  0.0  \n",
       "6324                  0.0  \n",
       "6325                  0.0  \n",
       "6329                  0.0  \n",
       "6330                  0.0  \n",
       "\n",
       "[2040 rows x 9 columns]"
      ]
     },
     "execution_count": 21,
     "metadata": {},
     "output_type": "execute_result"
    }
   ],
   "source": [
    "dfLabel"
   ]
  },
  {
   "cell_type": "code",
   "execution_count": 22,
   "metadata": {},
   "outputs": [],
   "source": [
    "colNegPneuLabel = dfLabel['Negative for Pneumonia'].value_counts()\n",
    "colTypAppLabel = dfLabel['Typical Appearance'].value_counts()\n",
    "colIntAppLabel = dfLabel['Indeterminate Appearance'].value_counts()\n",
    "colAtyAppLabel = dfLabel['Atypical Appearance'].value_counts()"
   ]
  },
  {
   "cell_type": "code",
   "execution_count": 23,
   "metadata": {},
   "outputs": [
    {
     "name": "stdout",
     "output_type": "stream",
     "text": [
      "La proporcion de 0's en  Negative for Pneumonia es: \t 14.976353126642143\n",
      "La proporcion de 1's en  Negative for Pneumonia es: \t 85.02364687335786\n",
      "La proporcion de 0's en  Typical Appearance es: \t 92.74829217025749\n",
      "La proporcion de 1's en  Typical Appearance es: \t 7.251707829742512\n",
      "La proporcion de 0's en  Indeterminate Appearance es: \t 97.05727798213347\n",
      "La proporcion de 1's en  Indeterminate Appearance es: \t 2.9427220178665263\n",
      "La proporcion de 0's en  Atypical Appearance es: \t 95.21807672096689\n",
      "La proporcion de 1's en  Atypical Appearance es: \t 4.781923279033106\n"
     ]
    }
   ],
   "source": [
    "listColumns = [colNegPneuLabel, colTypAppLabel, colIntAppLabel, colAtyAppLabel]\n",
    "listColumnsNames = ['Negative for Pneumonia', 'Typical Appearance', 'Indeterminate Appearance', 'Atypical Appearance']\n",
    "for i in range(len(listColumnsNames)):\n",
    "    a = (100*listColumns[i][0])/sum(listColumns[i])\n",
    "    print(\"La proporcion de 0's en \", listColumnsNames[i], \"es: \\t\", a)\n",
    "    b = (100*listColumns[i][1])/sum(listColumns[i])\n",
    "    print(\"La proporcion de 1's en \", listColumnsNames[i], \"es: \\t\", b)"
   ]
  },
  {
   "cell_type": "code",
   "execution_count": 24,
   "metadata": {},
   "outputs": [
    {
     "data": {
      "text/plain": [
       "[Text(0, 0, '1618'), Text(0, 0, '285')]"
      ]
     },
     "execution_count": 24,
     "metadata": {},
     "output_type": "execute_result"
    },
    {
     "data": {
      "image/png": "[encoded data removed]",
      "text/plain": [
       "<Figure size 432x288 with 1 Axes>"
      ]
     },
     "metadata": {
      "needs_background": "light"
     },
     "output_type": "display_data"
    }
   ],
   "source": [
    "ax = colNegPneuLabel.plot.bar()\n",
    "ax.set_title(listColumnsNames[0])\n",
    "ax.bar_label(ax.containers[0])"
   ]
  },
  {
   "cell_type": "code",
   "execution_count": 25,
   "metadata": {},
   "outputs": [
    {
     "data": {
      "text/plain": [
       "[Text(0, 0, '1765'), Text(0, 0, '138')]"
      ]
     },
     "execution_count": 25,
     "metadata": {},
     "output_type": "execute_result"
    },
    {
     "data": {
      "image/png": "[encoded data removed]",
      "text/plain": [
       "<Figure size 432x288 with 1 Axes>"
      ]
     },
     "metadata": {
      "needs_background": "light"
     },
     "output_type": "display_data"
    }
   ],
   "source": [
    "ax = colTypAppLabel.plot.bar()\n",
    "ax.set_title(listColumnsNames[1])\n",
    "ax.bar_label(ax.containers[0])"
   ]
  },
  {
   "cell_type": "code",
   "execution_count": 26,
   "metadata": {},
   "outputs": [
    {
     "data": {
      "text/plain": [
       "[Text(0, 0, '1847'), Text(0, 0, '56')]"
      ]
     },
     "execution_count": 26,
     "metadata": {},
     "output_type": "execute_result"
    },
    {
     "data": {
      "image/png": "[encoded data removed]",
      "text/plain": [
       "<Figure size 432x288 with 1 Axes>"
      ]
     },
     "metadata": {
      "needs_background": "light"
     },
     "output_type": "display_data"
    }
   ],
   "source": [
    "ax = colIntAppLabel.plot.bar()\n",
    "ax.set_title(listColumnsNames[2])\n",
    "ax.bar_label(ax.containers[0])"
   ]
  },
  {
   "cell_type": "code",
   "execution_count": 27,
   "metadata": {},
   "outputs": [
    {
     "data": {
      "text/plain": [
       "[Text(0, 0, '1812'), Text(0, 0, '91')]"
      ]
     },
     "execution_count": 27,
     "metadata": {},
     "output_type": "execute_result"
    },
    {
     "data": {
      "image/png": "[encoded data removed]",
      "text/plain": [
       "<Figure size 432x288 with 1 Axes>"
      ]
     },
     "metadata": {
      "needs_background": "light"
     },
     "output_type": "display_data"
    }
   ],
   "source": [
    "ax = colAtyAppLabel.plot.bar()\n",
    "ax.set_title(listColumnsNames[3])\n",
    "ax.bar_label(ax.containers[0])"
   ]
  }
 ],
 "metadata": {
  "kernelspec": {
   "display_name": "Python 3",
   "language": "python",
   "name": "python3"
  },
  "language_info": {
   "codemirror_mode": {
    "name": "ipython",
    "version": 3
   },
   "file_extension": ".py",
   "mimetype": "text/x-python",
   "name": "python",
   "nbconvert_exporter": "python",
   "pygments_lexer": "ipython3",
   "version": "3.7.4"
  }
 },
 "nbformat": 4,
 "nbformat_minor": 4
}
