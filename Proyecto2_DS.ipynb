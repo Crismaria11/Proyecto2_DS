{
  "nbformat": 4,
  "nbformat_minor": 0,
  "metadata": {
    "kernelspec": {
      "display_name": "Python 3",
      "language": "python",
      "name": "python3"
    },
    "language_info": {
      "codemirror_mode": {
        "name": "ipython",
        "version": 3
      },
      "file_extension": ".py",
      "mimetype": "text/x-python",
      "name": "python",
      "nbconvert_exporter": "python",
      "pygments_lexer": "ipython3",
      "version": "3.7.4"
    },
    "colab": {
      "name": "Proyecto2_DS.ipynb",
      "provenance": []
    }
  },
  "cells": [
    {
      "cell_type": "markdown",
      "metadata": {
        "id": "M_zohOEdk7hZ"
      },
      "source": [
        "# Proyecto 2. Analisis Exploratorio"
      ]
    },
    {
      "cell_type": "markdown",
      "metadata": {
        "id": "Yg5WAZkkk7hc"
      },
      "source": [
        "## Deteccion de covid en radiografias de torax"
      ]
    },
    {
      "cell_type": "markdown",
      "metadata": {
        "id": "G7tl7zbKk7hc"
      },
      "source": [
        "### Integrantes\n",
        "#### Cristina Bautista 161260\n",
        "#### Jose Block 18935\n",
        "#### Esteban Cabrera 17781"
      ]
    },
    {
      "cell_type": "code",
      "metadata": {
        "id": "5Mx3taIXk7hd"
      },
      "source": [
        "import numpy as np\n",
        "import pandas as pd\n",
        "import matplotlib.pyplot as plt\n",
        "%matplotlib inline"
      ],
      "execution_count": null,
      "outputs": []
    },
    {
      "cell_type": "code",
      "metadata": {
        "id": "6tuvsdAPk7he"
      },
      "source": [
        "df1 = pd.read_csv('train_image_level.csv')\n",
        "df1['StudyInstanceUID'] = df1['StudyInstanceUID'].str.rstrip(' ')\n",
        "df1.StudyInstanceUID = df1.StudyInstanceUID.astype(str)\n",
        "df1.StudyInstanceUID = df1.StudyInstanceUID.apply(str)"
      ],
      "execution_count": null,
      "outputs": []
    },
    {
      "cell_type": "code",
      "metadata": {
        "id": "cLzaIWTDk7he"
      },
      "source": [
        "df2 = pd.read_csv('train_study_level.csv')\n",
        "df2['id'] = df2['id'].str.replace('_study', '')\n",
        "df2['id'] = df2['id'].str.rstrip(' ')\n",
        "df2.id = df2.id.astype(str)\n",
        "df2.id = df2.id.apply(str)"
      ],
      "execution_count": null,
      "outputs": []
    },
    {
      "cell_type": "code",
      "metadata": {
        "id": "QbmpL3HJk7he",
        "outputId": "ba2a208f-fc7a-485e-cc15-d60afe486cd5"
      },
      "source": [
        "df1.head()"
      ],
      "execution_count": null,
      "outputs": [
        {
          "data": {
            "text/html": [
              "<div>\n",
              "<style scoped>\n",
              "    .dataframe tbody tr th:only-of-type {\n",
              "        vertical-align: middle;\n",
              "    }\n",
              "\n",
              "    .dataframe tbody tr th {\n",
              "        vertical-align: top;\n",
              "    }\n",
              "\n",
              "    .dataframe thead th {\n",
              "        text-align: right;\n",
              "    }\n",
              "</style>\n",
              "<table border=\"1\" class=\"dataframe\">\n",
              "  <thead>\n",
              "    <tr style=\"text-align: right;\">\n",
              "      <th></th>\n",
              "      <th>id</th>\n",
              "      <th>boxes</th>\n",
              "      <th>label</th>\n",
              "      <th>StudyInstanceUID</th>\n",
              "    </tr>\n",
              "  </thead>\n",
              "  <tbody>\n",
              "    <tr>\n",
              "      <td>0</td>\n",
              "      <td>000a312787f2_image</td>\n",
              "      <td>[{'x': 789.28836, 'y': 582.43035, 'width': 102...</td>\n",
              "      <td>opacity 1 789.28836 582.43035 1815.94498 2499....</td>\n",
              "      <td>5776db0cec75</td>\n",
              "    </tr>\n",
              "    <tr>\n",
              "      <td>1</td>\n",
              "      <td>000c3a3f293f_image</td>\n",
              "      <td>NaN</td>\n",
              "      <td>none 1 0 0 1 1</td>\n",
              "      <td>ff0879eb20ed</td>\n",
              "    </tr>\n",
              "    <tr>\n",
              "      <td>2</td>\n",
              "      <td>0012ff7358bc_image</td>\n",
              "      <td>[{'x': 677.42216, 'y': 197.97662, 'width': 867...</td>\n",
              "      <td>opacity 1 677.42216 197.97662 1545.21983 1197....</td>\n",
              "      <td>9d514ce429a7</td>\n",
              "    </tr>\n",
              "    <tr>\n",
              "      <td>3</td>\n",
              "      <td>001398f4ff4f_image</td>\n",
              "      <td>[{'x': 2729, 'y': 2181.33331, 'width': 948.000...</td>\n",
              "      <td>opacity 1 2729 2181.33331 3677.00012 2785.33331</td>\n",
              "      <td>28dddc8559b2</td>\n",
              "    </tr>\n",
              "    <tr>\n",
              "      <td>4</td>\n",
              "      <td>001bd15d1891_image</td>\n",
              "      <td>[{'x': 623.23328, 'y': 1050, 'width': 714, 'he...</td>\n",
              "      <td>opacity 1 623.23328 1050 1337.23328 2156 opaci...</td>\n",
              "      <td>dfd9fdd85a3e</td>\n",
              "    </tr>\n",
              "  </tbody>\n",
              "</table>\n",
              "</div>"
            ],
            "text/plain": [
              "                   id                                              boxes  \\\n",
              "0  000a312787f2_image  [{'x': 789.28836, 'y': 582.43035, 'width': 102...   \n",
              "1  000c3a3f293f_image                                                NaN   \n",
              "2  0012ff7358bc_image  [{'x': 677.42216, 'y': 197.97662, 'width': 867...   \n",
              "3  001398f4ff4f_image  [{'x': 2729, 'y': 2181.33331, 'width': 948.000...   \n",
              "4  001bd15d1891_image  [{'x': 623.23328, 'y': 1050, 'width': 714, 'he...   \n",
              "\n",
              "                                               label StudyInstanceUID  \n",
              "0  opacity 1 789.28836 582.43035 1815.94498 2499....     5776db0cec75  \n",
              "1                                     none 1 0 0 1 1     ff0879eb20ed  \n",
              "2  opacity 1 677.42216 197.97662 1545.21983 1197....     9d514ce429a7  \n",
              "3    opacity 1 2729 2181.33331 3677.00012 2785.33331     28dddc8559b2  \n",
              "4  opacity 1 623.23328 1050 1337.23328 2156 opaci...     dfd9fdd85a3e  "
            ]
          },
          "execution_count": 4,
          "metadata": {},
          "output_type": "execute_result"
        }
      ]
    },
    {
      "cell_type": "code",
      "metadata": {
        "id": "K1abplf-k7hf",
        "outputId": "58efc576-546f-4a40-8d14-243c1d47ddb0"
      },
      "source": [
        "df1['boxes'][0]"
      ],
      "execution_count": null,
      "outputs": [
        {
          "data": {
            "text/plain": [
              "\"[{'x': 789.28836, 'y': 582.43035, 'width': 1026.65662, 'height': 1917.30292}, {'x': 2245.91208, 'y': 591.20528, 'width': 1094.66162, 'height': 1761.54944}]\""
            ]
          },
          "execution_count": 5,
          "metadata": {},
          "output_type": "execute_result"
        }
      ]
    },
    {
      "cell_type": "code",
      "metadata": {
        "id": "y_yd79R4k7hf",
        "outputId": "7d027720-edd0-4860-fb8e-4be368541662"
      },
      "source": [
        "df1.info()"
      ],
      "execution_count": null,
      "outputs": [
        {
          "name": "stdout",
          "output_type": "stream",
          "text": [
            "<class 'pandas.core.frame.DataFrame'>\n",
            "RangeIndex: 6334 entries, 0 to 6333\n",
            "Data columns (total 4 columns):\n",
            "id                  6334 non-null object\n",
            "boxes               4294 non-null object\n",
            "label               6334 non-null object\n",
            "StudyInstanceUID    6334 non-null object\n",
            "dtypes: object(4)\n",
            "memory usage: 198.1+ KB\n"
          ]
        }
      ]
    },
    {
      "cell_type": "code",
      "metadata": {
        "id": "XOnZXrTok7hg",
        "outputId": "0b54694a-e306-49db-db95-2bc8a4ee0457"
      },
      "source": [
        "df2.head()"
      ],
      "execution_count": null,
      "outputs": [
        {
          "data": {
            "text/html": [
              "<div>\n",
              "<style scoped>\n",
              "    .dataframe tbody tr th:only-of-type {\n",
              "        vertical-align: middle;\n",
              "    }\n",
              "\n",
              "    .dataframe tbody tr th {\n",
              "        vertical-align: top;\n",
              "    }\n",
              "\n",
              "    .dataframe thead th {\n",
              "        text-align: right;\n",
              "    }\n",
              "</style>\n",
              "<table border=\"1\" class=\"dataframe\">\n",
              "  <thead>\n",
              "    <tr style=\"text-align: right;\">\n",
              "      <th></th>\n",
              "      <th>id</th>\n",
              "      <th>Negative for Pneumonia</th>\n",
              "      <th>Typical Appearance</th>\n",
              "      <th>Indeterminate Appearance</th>\n",
              "      <th>Atypical Appearance</th>\n",
              "    </tr>\n",
              "  </thead>\n",
              "  <tbody>\n",
              "    <tr>\n",
              "      <td>0</td>\n",
              "      <td>00086460a852</td>\n",
              "      <td>0</td>\n",
              "      <td>1</td>\n",
              "      <td>0</td>\n",
              "      <td>0</td>\n",
              "    </tr>\n",
              "    <tr>\n",
              "      <td>1</td>\n",
              "      <td>000c9c05fd14</td>\n",
              "      <td>0</td>\n",
              "      <td>0</td>\n",
              "      <td>0</td>\n",
              "      <td>1</td>\n",
              "    </tr>\n",
              "    <tr>\n",
              "      <td>2</td>\n",
              "      <td>00292f8c37bd</td>\n",
              "      <td>1</td>\n",
              "      <td>0</td>\n",
              "      <td>0</td>\n",
              "      <td>0</td>\n",
              "    </tr>\n",
              "    <tr>\n",
              "      <td>3</td>\n",
              "      <td>005057b3f880</td>\n",
              "      <td>1</td>\n",
              "      <td>0</td>\n",
              "      <td>0</td>\n",
              "      <td>0</td>\n",
              "    </tr>\n",
              "    <tr>\n",
              "      <td>4</td>\n",
              "      <td>0051d9b12e72</td>\n",
              "      <td>0</td>\n",
              "      <td>0</td>\n",
              "      <td>0</td>\n",
              "      <td>1</td>\n",
              "    </tr>\n",
              "  </tbody>\n",
              "</table>\n",
              "</div>"
            ],
            "text/plain": [
              "             id  Negative for Pneumonia  Typical Appearance  \\\n",
              "0  00086460a852                       0                   1   \n",
              "1  000c9c05fd14                       0                   0   \n",
              "2  00292f8c37bd                       1                   0   \n",
              "3  005057b3f880                       1                   0   \n",
              "4  0051d9b12e72                       0                   0   \n",
              "\n",
              "   Indeterminate Appearance  Atypical Appearance  \n",
              "0                         0                    0  \n",
              "1                         0                    1  \n",
              "2                         0                    0  \n",
              "3                         0                    0  \n",
              "4                         0                    1  "
            ]
          },
          "execution_count": 7,
          "metadata": {},
          "output_type": "execute_result"
        }
      ]
    },
    {
      "cell_type": "code",
      "metadata": {
        "id": "2gsztVxgk7hg",
        "outputId": "15dfd911-1d67-4226-f714-e47c977d3032"
      },
      "source": [
        "df2.info()"
      ],
      "execution_count": null,
      "outputs": [
        {
          "name": "stdout",
          "output_type": "stream",
          "text": [
            "<class 'pandas.core.frame.DataFrame'>\n",
            "RangeIndex: 6054 entries, 0 to 6053\n",
            "Data columns (total 5 columns):\n",
            "id                          6054 non-null object\n",
            "Negative for Pneumonia      6054 non-null int64\n",
            "Typical Appearance          6054 non-null int64\n",
            "Indeterminate Appearance    6054 non-null int64\n",
            "Atypical Appearance         6054 non-null int64\n",
            "dtypes: int64(4), object(1)\n",
            "memory usage: 236.6+ KB\n"
          ]
        }
      ]
    },
    {
      "cell_type": "code",
      "metadata": {
        "id": "NZLrO2Mok7hg"
      },
      "source": [
        "df = pd.merge(df1, df2, left_on='StudyInstanceUID', right_on='id', how='inner')"
      ],
      "execution_count": null,
      "outputs": []
    },
    {
      "cell_type": "code",
      "metadata": {
        "id": "CVOtwDeZk7hh",
        "outputId": "282ba2a3-4ce2-4d7f-cb75-359d7c88ac37"
      },
      "source": [
        "df.head(20)"
      ],
      "execution_count": null,
      "outputs": [
        {
          "data": {
            "text/html": [
              "<div>\n",
              "<style scoped>\n",
              "    .dataframe tbody tr th:only-of-type {\n",
              "        vertical-align: middle;\n",
              "    }\n",
              "\n",
              "    .dataframe tbody tr th {\n",
              "        vertical-align: top;\n",
              "    }\n",
              "\n",
              "    .dataframe thead th {\n",
              "        text-align: right;\n",
              "    }\n",
              "</style>\n",
              "<table border=\"1\" class=\"dataframe\">\n",
              "  <thead>\n",
              "    <tr style=\"text-align: right;\">\n",
              "      <th></th>\n",
              "      <th>id_x</th>\n",
              "      <th>boxes</th>\n",
              "      <th>label</th>\n",
              "      <th>StudyInstanceUID</th>\n",
              "      <th>id_y</th>\n",
              "      <th>Negative for Pneumonia</th>\n",
              "      <th>Typical Appearance</th>\n",
              "      <th>Indeterminate Appearance</th>\n",
              "      <th>Atypical Appearance</th>\n",
              "    </tr>\n",
              "  </thead>\n",
              "  <tbody>\n",
              "    <tr>\n",
              "      <td>0</td>\n",
              "      <td>000a312787f2_image</td>\n",
              "      <td>[{'x': 789.28836, 'y': 582.43035, 'width': 102...</td>\n",
              "      <td>opacity 1 789.28836 582.43035 1815.94498 2499....</td>\n",
              "      <td>5776db0cec75</td>\n",
              "      <td>5776db0cec75</td>\n",
              "      <td>0</td>\n",
              "      <td>1</td>\n",
              "      <td>0</td>\n",
              "      <td>0</td>\n",
              "    </tr>\n",
              "    <tr>\n",
              "      <td>1</td>\n",
              "      <td>000c3a3f293f_image</td>\n",
              "      <td>NaN</td>\n",
              "      <td>none 1 0 0 1 1</td>\n",
              "      <td>ff0879eb20ed</td>\n",
              "      <td>ff0879eb20ed</td>\n",
              "      <td>1</td>\n",
              "      <td>0</td>\n",
              "      <td>0</td>\n",
              "      <td>0</td>\n",
              "    </tr>\n",
              "    <tr>\n",
              "      <td>2</td>\n",
              "      <td>0012ff7358bc_image</td>\n",
              "      <td>[{'x': 677.42216, 'y': 197.97662, 'width': 867...</td>\n",
              "      <td>opacity 1 677.42216 197.97662 1545.21983 1197....</td>\n",
              "      <td>9d514ce429a7</td>\n",
              "      <td>9d514ce429a7</td>\n",
              "      <td>0</td>\n",
              "      <td>1</td>\n",
              "      <td>0</td>\n",
              "      <td>0</td>\n",
              "    </tr>\n",
              "    <tr>\n",
              "      <td>3</td>\n",
              "      <td>001398f4ff4f_image</td>\n",
              "      <td>[{'x': 2729, 'y': 2181.33331, 'width': 948.000...</td>\n",
              "      <td>opacity 1 2729 2181.33331 3677.00012 2785.33331</td>\n",
              "      <td>28dddc8559b2</td>\n",
              "      <td>28dddc8559b2</td>\n",
              "      <td>0</td>\n",
              "      <td>0</td>\n",
              "      <td>0</td>\n",
              "      <td>1</td>\n",
              "    </tr>\n",
              "    <tr>\n",
              "      <td>4</td>\n",
              "      <td>001bd15d1891_image</td>\n",
              "      <td>[{'x': 623.23328, 'y': 1050, 'width': 714, 'he...</td>\n",
              "      <td>opacity 1 623.23328 1050 1337.23328 2156 opaci...</td>\n",
              "      <td>dfd9fdd85a3e</td>\n",
              "      <td>dfd9fdd85a3e</td>\n",
              "      <td>0</td>\n",
              "      <td>1</td>\n",
              "      <td>0</td>\n",
              "      <td>0</td>\n",
              "    </tr>\n",
              "    <tr>\n",
              "      <td>5</td>\n",
              "      <td>0022227f5adf_image</td>\n",
              "      <td>[{'x': 1857.2065, 'y': 508.30565, 'width': 376...</td>\n",
              "      <td>opacity 1 1857.2065 508.30565 2233.23384 907.8...</td>\n",
              "      <td>84543edc24c2</td>\n",
              "      <td>84543edc24c2</td>\n",
              "      <td>0</td>\n",
              "      <td>0</td>\n",
              "      <td>1</td>\n",
              "      <td>0</td>\n",
              "    </tr>\n",
              "    <tr>\n",
              "      <td>6</td>\n",
              "      <td>0023f02ae886_image</td>\n",
              "      <td>NaN</td>\n",
              "      <td>none 1 0 0 1 1</td>\n",
              "      <td>2fa400b873f5</td>\n",
              "      <td>2fa400b873f5</td>\n",
              "      <td>1</td>\n",
              "      <td>0</td>\n",
              "      <td>0</td>\n",
              "      <td>0</td>\n",
              "    </tr>\n",
              "    <tr>\n",
              "      <td>7</td>\n",
              "      <td>002e9b2128d0_image</td>\n",
              "      <td>[{'x': 276.72917, 'y': 627.42968, 'width': 910...</td>\n",
              "      <td>opacity 1 276.72917 627.42968 1187.31776 2283....</td>\n",
              "      <td>0717c8ac304f</td>\n",
              "      <td>0717c8ac304f</td>\n",
              "      <td>0</td>\n",
              "      <td>1</td>\n",
              "      <td>0</td>\n",
              "      <td>0</td>\n",
              "    </tr>\n",
              "    <tr>\n",
              "      <td>8</td>\n",
              "      <td>00326161e51e_image</td>\n",
              "      <td>[{'x': 542.96057, 'y': 364.37257, 'width': 590...</td>\n",
              "      <td>opacity 1 542.96057 364.37257 1133.32317999999...</td>\n",
              "      <td>a81050391441</td>\n",
              "      <td>a81050391441</td>\n",
              "      <td>0</td>\n",
              "      <td>1</td>\n",
              "      <td>0</td>\n",
              "      <td>0</td>\n",
              "    </tr>\n",
              "    <tr>\n",
              "      <td>9</td>\n",
              "      <td>0044e449aae1_image</td>\n",
              "      <td>[{'x': 1703.78756, 'y': 938.29333, 'width': 91...</td>\n",
              "      <td>opacity 1 1703.78756 938.29333 2614.8275599999...</td>\n",
              "      <td>b60f2d2cc642</td>\n",
              "      <td>b60f2d2cc642</td>\n",
              "      <td>0</td>\n",
              "      <td>1</td>\n",
              "      <td>0</td>\n",
              "      <td>0</td>\n",
              "    </tr>\n",
              "    <tr>\n",
              "      <td>10</td>\n",
              "      <td>0049814626c8_image</td>\n",
              "      <td>[{'x': 529.25901, 'y': 832.36731, 'width': 473...</td>\n",
              "      <td>opacity 1 529.25901 832.36731 1002.80649999999...</td>\n",
              "      <td>4d7a2748dfb1</td>\n",
              "      <td>4d7a2748dfb1</td>\n",
              "      <td>0</td>\n",
              "      <td>1</td>\n",
              "      <td>0</td>\n",
              "      <td>0</td>\n",
              "    </tr>\n",
              "    <tr>\n",
              "      <td>11</td>\n",
              "      <td>004cbd797cd1_image</td>\n",
              "      <td>[{'x': 515.18569, 'y': 1170.06439, 'width': 86...</td>\n",
              "      <td>opacity 1 515.18569 1170.06439 1378.5248700000...</td>\n",
              "      <td>30e45593ba08</td>\n",
              "      <td>30e45593ba08</td>\n",
              "      <td>0</td>\n",
              "      <td>1</td>\n",
              "      <td>0</td>\n",
              "      <td>0</td>\n",
              "    </tr>\n",
              "    <tr>\n",
              "      <td>12</td>\n",
              "      <td>0060e4f54aa8_image</td>\n",
              "      <td>[{'x': 491.36972, 'y': 1036.73739, 'width': 49...</td>\n",
              "      <td>opacity 1 491.36972 1036.73739 982.73944 2086....</td>\n",
              "      <td>02e31620e4e7</td>\n",
              "      <td>02e31620e4e7</td>\n",
              "      <td>0</td>\n",
              "      <td>1</td>\n",
              "      <td>0</td>\n",
              "      <td>0</td>\n",
              "    </tr>\n",
              "    <tr>\n",
              "      <td>13</td>\n",
              "      <td>006e2ac85d57_image</td>\n",
              "      <td>[{'x': 790.41955, 'y': 514.03247, 'width': 500...</td>\n",
              "      <td>opacity 1 790.41955 514.03247 1290.60693 1779....</td>\n",
              "      <td>6f29d576794f</td>\n",
              "      <td>6f29d576794f</td>\n",
              "      <td>0</td>\n",
              "      <td>1</td>\n",
              "      <td>0</td>\n",
              "      <td>0</td>\n",
              "    </tr>\n",
              "    <tr>\n",
              "      <td>14</td>\n",
              "      <td>007b2567d83e_image</td>\n",
              "      <td>[{'x': 281.01881, 'y': 432.78811, 'width': 823...</td>\n",
              "      <td>opacity 1 281.01881 432.78811 1104.45609999999...</td>\n",
              "      <td>7f9e2766281e</td>\n",
              "      <td>7f9e2766281e</td>\n",
              "      <td>0</td>\n",
              "      <td>1</td>\n",
              "      <td>0</td>\n",
              "      <td>0</td>\n",
              "    </tr>\n",
              "    <tr>\n",
              "      <td>15</td>\n",
              "      <td>007cf31356c6_image</td>\n",
              "      <td>[{'x': 3153.44265, 'y': 1662.61333, 'width': 9...</td>\n",
              "      <td>opacity 1 3153.44265 1662.61333 4147.52283 285...</td>\n",
              "      <td>e9d5e9c6fd14</td>\n",
              "      <td>e9d5e9c6fd14</td>\n",
              "      <td>0</td>\n",
              "      <td>1</td>\n",
              "      <td>0</td>\n",
              "      <td>0</td>\n",
              "    </tr>\n",
              "    <tr>\n",
              "      <td>16</td>\n",
              "      <td>008ca392cff3_image</td>\n",
              "      <td>[{'x': 2284.17508, 'y': 1342.64878, 'width': 1...</td>\n",
              "      <td>opacity 1 2284.17508 1342.64878 3307.2952 2708...</td>\n",
              "      <td>39a80a14bfda</td>\n",
              "      <td>39a80a14bfda</td>\n",
              "      <td>0</td>\n",
              "      <td>0</td>\n",
              "      <td>0</td>\n",
              "      <td>1</td>\n",
              "    </tr>\n",
              "    <tr>\n",
              "      <td>17</td>\n",
              "      <td>008ff73b4ef3_image</td>\n",
              "      <td>[{'x': 609.25232, 'y': 742.45931, 'width': 115...</td>\n",
              "      <td>opacity 1 609.25232 742.45931 1762.01025 2478....</td>\n",
              "      <td>2c7d0327a977</td>\n",
              "      <td>2c7d0327a977</td>\n",
              "      <td>0</td>\n",
              "      <td>1</td>\n",
              "      <td>0</td>\n",
              "      <td>0</td>\n",
              "    </tr>\n",
              "    <tr>\n",
              "      <td>18</td>\n",
              "      <td>00a129830f4e_image</td>\n",
              "      <td>[{'x': 496.23799, 'y': 1175.83357, 'width': 61...</td>\n",
              "      <td>opacity 1 496.23799 1175.83357 1113.61823 1840...</td>\n",
              "      <td>3a3c198051f0</td>\n",
              "      <td>3a3c198051f0</td>\n",
              "      <td>0</td>\n",
              "      <td>0</td>\n",
              "      <td>1</td>\n",
              "      <td>0</td>\n",
              "    </tr>\n",
              "    <tr>\n",
              "      <td>19</td>\n",
              "      <td>00b0891276a3_image</td>\n",
              "      <td>[{'x': 490.15248, 'y': 494.52, 'width': 722.76...</td>\n",
              "      <td>opacity 1 490.15248 494.52 1212.91248 2100.653...</td>\n",
              "      <td>ac3d554867d0</td>\n",
              "      <td>ac3d554867d0</td>\n",
              "      <td>0</td>\n",
              "      <td>1</td>\n",
              "      <td>0</td>\n",
              "      <td>0</td>\n",
              "    </tr>\n",
              "  </tbody>\n",
              "</table>\n",
              "</div>"
            ],
            "text/plain": [
              "                  id_x                                              boxes  \\\n",
              "0   000a312787f2_image  [{'x': 789.28836, 'y': 582.43035, 'width': 102...   \n",
              "1   000c3a3f293f_image                                                NaN   \n",
              "2   0012ff7358bc_image  [{'x': 677.42216, 'y': 197.97662, 'width': 867...   \n",
              "3   001398f4ff4f_image  [{'x': 2729, 'y': 2181.33331, 'width': 948.000...   \n",
              "4   001bd15d1891_image  [{'x': 623.23328, 'y': 1050, 'width': 714, 'he...   \n",
              "5   0022227f5adf_image  [{'x': 1857.2065, 'y': 508.30565, 'width': 376...   \n",
              "6   0023f02ae886_image                                                NaN   \n",
              "7   002e9b2128d0_image  [{'x': 276.72917, 'y': 627.42968, 'width': 910...   \n",
              "8   00326161e51e_image  [{'x': 542.96057, 'y': 364.37257, 'width': 590...   \n",
              "9   0044e449aae1_image  [{'x': 1703.78756, 'y': 938.29333, 'width': 91...   \n",
              "10  0049814626c8_image  [{'x': 529.25901, 'y': 832.36731, 'width': 473...   \n",
              "11  004cbd797cd1_image  [{'x': 515.18569, 'y': 1170.06439, 'width': 86...   \n",
              "12  0060e4f54aa8_image  [{'x': 491.36972, 'y': 1036.73739, 'width': 49...   \n",
              "13  006e2ac85d57_image  [{'x': 790.41955, 'y': 514.03247, 'width': 500...   \n",
              "14  007b2567d83e_image  [{'x': 281.01881, 'y': 432.78811, 'width': 823...   \n",
              "15  007cf31356c6_image  [{'x': 3153.44265, 'y': 1662.61333, 'width': 9...   \n",
              "16  008ca392cff3_image  [{'x': 2284.17508, 'y': 1342.64878, 'width': 1...   \n",
              "17  008ff73b4ef3_image  [{'x': 609.25232, 'y': 742.45931, 'width': 115...   \n",
              "18  00a129830f4e_image  [{'x': 496.23799, 'y': 1175.83357, 'width': 61...   \n",
              "19  00b0891276a3_image  [{'x': 490.15248, 'y': 494.52, 'width': 722.76...   \n",
              "\n",
              "                                                label StudyInstanceUID  \\\n",
              "0   opacity 1 789.28836 582.43035 1815.94498 2499....     5776db0cec75   \n",
              "1                                      none 1 0 0 1 1     ff0879eb20ed   \n",
              "2   opacity 1 677.42216 197.97662 1545.21983 1197....     9d514ce429a7   \n",
              "3     opacity 1 2729 2181.33331 3677.00012 2785.33331     28dddc8559b2   \n",
              "4   opacity 1 623.23328 1050 1337.23328 2156 opaci...     dfd9fdd85a3e   \n",
              "5   opacity 1 1857.2065 508.30565 2233.23384 907.8...     84543edc24c2   \n",
              "6                                      none 1 0 0 1 1     2fa400b873f5   \n",
              "7   opacity 1 276.72917 627.42968 1187.31776 2283....     0717c8ac304f   \n",
              "8   opacity 1 542.96057 364.37257 1133.32317999999...     a81050391441   \n",
              "9   opacity 1 1703.78756 938.29333 2614.8275599999...     b60f2d2cc642   \n",
              "10  opacity 1 529.25901 832.36731 1002.80649999999...     4d7a2748dfb1   \n",
              "11  opacity 1 515.18569 1170.06439 1378.5248700000...     30e45593ba08   \n",
              "12  opacity 1 491.36972 1036.73739 982.73944 2086....     02e31620e4e7   \n",
              "13  opacity 1 790.41955 514.03247 1290.60693 1779....     6f29d576794f   \n",
              "14  opacity 1 281.01881 432.78811 1104.45609999999...     7f9e2766281e   \n",
              "15  opacity 1 3153.44265 1662.61333 4147.52283 285...     e9d5e9c6fd14   \n",
              "16  opacity 1 2284.17508 1342.64878 3307.2952 2708...     39a80a14bfda   \n",
              "17  opacity 1 609.25232 742.45931 1762.01025 2478....     2c7d0327a977   \n",
              "18  opacity 1 496.23799 1175.83357 1113.61823 1840...     3a3c198051f0   \n",
              "19  opacity 1 490.15248 494.52 1212.91248 2100.653...     ac3d554867d0   \n",
              "\n",
              "            id_y  Negative for Pneumonia  Typical Appearance  \\\n",
              "0   5776db0cec75                       0                   1   \n",
              "1   ff0879eb20ed                       1                   0   \n",
              "2   9d514ce429a7                       0                   1   \n",
              "3   28dddc8559b2                       0                   0   \n",
              "4   dfd9fdd85a3e                       0                   1   \n",
              "5   84543edc24c2                       0                   0   \n",
              "6   2fa400b873f5                       1                   0   \n",
              "7   0717c8ac304f                       0                   1   \n",
              "8   a81050391441                       0                   1   \n",
              "9   b60f2d2cc642                       0                   1   \n",
              "10  4d7a2748dfb1                       0                   1   \n",
              "11  30e45593ba08                       0                   1   \n",
              "12  02e31620e4e7                       0                   1   \n",
              "13  6f29d576794f                       0                   1   \n",
              "14  7f9e2766281e                       0                   1   \n",
              "15  e9d5e9c6fd14                       0                   1   \n",
              "16  39a80a14bfda                       0                   0   \n",
              "17  2c7d0327a977                       0                   1   \n",
              "18  3a3c198051f0                       0                   0   \n",
              "19  ac3d554867d0                       0                   1   \n",
              "\n",
              "    Indeterminate Appearance  Atypical Appearance  \n",
              "0                          0                    0  \n",
              "1                          0                    0  \n",
              "2                          0                    0  \n",
              "3                          0                    1  \n",
              "4                          0                    0  \n",
              "5                          1                    0  \n",
              "6                          0                    0  \n",
              "7                          0                    0  \n",
              "8                          0                    0  \n",
              "9                          0                    0  \n",
              "10                         0                    0  \n",
              "11                         0                    0  \n",
              "12                         0                    0  \n",
              "13                         0                    0  \n",
              "14                         0                    0  \n",
              "15                         0                    0  \n",
              "16                         0                    1  \n",
              "17                         0                    0  \n",
              "18                         1                    0  \n",
              "19                         0                    0  "
            ]
          },
          "execution_count": 10,
          "metadata": {},
          "output_type": "execute_result"
        }
      ]
    },
    {
      "cell_type": "code",
      "metadata": {
        "id": "kv8i9tc3k7hh",
        "outputId": "73b4e6e5-d49a-4744-8a5b-e4f9ac5ab8e7"
      },
      "source": [
        "df.info()"
      ],
      "execution_count": null,
      "outputs": [
        {
          "name": "stdout",
          "output_type": "stream",
          "text": [
            "<class 'pandas.core.frame.DataFrame'>\n",
            "Int64Index: 6334 entries, 0 to 6333\n",
            "Data columns (total 9 columns):\n",
            "id_x                        6334 non-null object\n",
            "boxes                       4294 non-null object\n",
            "label                       6334 non-null object\n",
            "StudyInstanceUID            6334 non-null object\n",
            "id_y                        6334 non-null object\n",
            "Negative for Pneumonia      6334 non-null int64\n",
            "Typical Appearance          6334 non-null int64\n",
            "Indeterminate Appearance    6334 non-null int64\n",
            "Atypical Appearance         6334 non-null int64\n",
            "dtypes: int64(4), object(5)\n",
            "memory usage: 494.8+ KB\n"
          ]
        }
      ]
    },
    {
      "cell_type": "code",
      "metadata": {
        "id": "SPc6_9sXk7hh",
        "outputId": "d76ce7a9-bce0-4220-b375-2a5c4349d1e2"
      },
      "source": [
        "duplicate = df[df.duplicated('StudyInstanceUID')]\n",
        "duplicate"
      ],
      "execution_count": null,
      "outputs": [
        {
          "data": {
            "text/html": [
              "<div>\n",
              "<style scoped>\n",
              "    .dataframe tbody tr th:only-of-type {\n",
              "        vertical-align: middle;\n",
              "    }\n",
              "\n",
              "    .dataframe tbody tr th {\n",
              "        vertical-align: top;\n",
              "    }\n",
              "\n",
              "    .dataframe thead th {\n",
              "        text-align: right;\n",
              "    }\n",
              "</style>\n",
              "<table border=\"1\" class=\"dataframe\">\n",
              "  <thead>\n",
              "    <tr style=\"text-align: right;\">\n",
              "      <th></th>\n",
              "      <th>id_x</th>\n",
              "      <th>boxes</th>\n",
              "      <th>label</th>\n",
              "      <th>StudyInstanceUID</th>\n",
              "      <th>id_y</th>\n",
              "      <th>Negative for Pneumonia</th>\n",
              "      <th>Typical Appearance</th>\n",
              "      <th>Indeterminate Appearance</th>\n",
              "      <th>Atypical Appearance</th>\n",
              "    </tr>\n",
              "  </thead>\n",
              "  <tbody>\n",
              "    <tr>\n",
              "      <td>23</td>\n",
              "      <td>cada5310214b_image</td>\n",
              "      <td>[{'x': 981.75034, 'y': 256.08181, 'width': 225...</td>\n",
              "      <td>opacity 1 981.75034 256.08181 1207.54099 765.2...</td>\n",
              "      <td>1a58b43cf286</td>\n",
              "      <td>1a58b43cf286</td>\n",
              "      <td>0</td>\n",
              "      <td>1</td>\n",
              "      <td>0</td>\n",
              "      <td>0</td>\n",
              "    </tr>\n",
              "    <tr>\n",
              "      <td>26</td>\n",
              "      <td>0d4d6acc9ed3_image</td>\n",
              "      <td>NaN</td>\n",
              "      <td>none 1 0 0 1 1</td>\n",
              "      <td>74ba8f2badcb</td>\n",
              "      <td>74ba8f2badcb</td>\n",
              "      <td>1</td>\n",
              "      <td>0</td>\n",
              "      <td>0</td>\n",
              "      <td>0</td>\n",
              "    </tr>\n",
              "    <tr>\n",
              "      <td>27</td>\n",
              "      <td>93a881fb3292_image</td>\n",
              "      <td>NaN</td>\n",
              "      <td>none 1 0 0 1 1</td>\n",
              "      <td>74ba8f2badcb</td>\n",
              "      <td>74ba8f2badcb</td>\n",
              "      <td>1</td>\n",
              "      <td>0</td>\n",
              "      <td>0</td>\n",
              "      <td>0</td>\n",
              "    </tr>\n",
              "    <tr>\n",
              "      <td>28</td>\n",
              "      <td>cdd9e3aaf45a_image</td>\n",
              "      <td>NaN</td>\n",
              "      <td>none 1 0 0 1 1</td>\n",
              "      <td>74ba8f2badcb</td>\n",
              "      <td>74ba8f2badcb</td>\n",
              "      <td>1</td>\n",
              "      <td>0</td>\n",
              "      <td>0</td>\n",
              "      <td>0</td>\n",
              "    </tr>\n",
              "    <tr>\n",
              "      <td>32</td>\n",
              "      <td>b3ffe59e37c7_image</td>\n",
              "      <td>NaN</td>\n",
              "      <td>none 1 0 0 1 1</td>\n",
              "      <td>81f6b4b343f7</td>\n",
              "      <td>81f6b4b343f7</td>\n",
              "      <td>0</td>\n",
              "      <td>1</td>\n",
              "      <td>0</td>\n",
              "      <td>0</td>\n",
              "    </tr>\n",
              "    <tr>\n",
              "      <td>...</td>\n",
              "      <td>...</td>\n",
              "      <td>...</td>\n",
              "      <td>...</td>\n",
              "      <td>...</td>\n",
              "      <td>...</td>\n",
              "      <td>...</td>\n",
              "      <td>...</td>\n",
              "      <td>...</td>\n",
              "      <td>...</td>\n",
              "    </tr>\n",
              "    <tr>\n",
              "      <td>5143</td>\n",
              "      <td>d4600028f75c_image</td>\n",
              "      <td>[{'x': 399.19174, 'y': 226.69307, 'width': 827...</td>\n",
              "      <td>opacity 1 399.19174 226.69307 1226.20168999999...</td>\n",
              "      <td>8b18f1963aff</td>\n",
              "      <td>8b18f1963aff</td>\n",
              "      <td>0</td>\n",
              "      <td>1</td>\n",
              "      <td>0</td>\n",
              "      <td>0</td>\n",
              "    </tr>\n",
              "    <tr>\n",
              "      <td>5166</td>\n",
              "      <td>df3d32c8df06_image</td>\n",
              "      <td>NaN</td>\n",
              "      <td>none 1 0 0 1 1</td>\n",
              "      <td>b40f174f19a6</td>\n",
              "      <td>b40f174f19a6</td>\n",
              "      <td>0</td>\n",
              "      <td>0</td>\n",
              "      <td>1</td>\n",
              "      <td>0</td>\n",
              "    </tr>\n",
              "    <tr>\n",
              "      <td>5314</td>\n",
              "      <td>f4847d161683_image</td>\n",
              "      <td>[{'x': 702.27444, 'y': 610.99231, 'width': 786...</td>\n",
              "      <td>opacity 1 702.27444 610.99231 1488.39055 1746....</td>\n",
              "      <td>6f6cf201e2e9</td>\n",
              "      <td>6f6cf201e2e9</td>\n",
              "      <td>0</td>\n",
              "      <td>1</td>\n",
              "      <td>0</td>\n",
              "      <td>0</td>\n",
              "    </tr>\n",
              "    <tr>\n",
              "      <td>5603</td>\n",
              "      <td>dfd9078a4c6d_image</td>\n",
              "      <td>NaN</td>\n",
              "      <td>none 1 0 0 1 1</td>\n",
              "      <td>f5c94b5db0cd</td>\n",
              "      <td>f5c94b5db0cd</td>\n",
              "      <td>0</td>\n",
              "      <td>1</td>\n",
              "      <td>0</td>\n",
              "      <td>0</td>\n",
              "    </tr>\n",
              "    <tr>\n",
              "      <td>5722</td>\n",
              "      <td>f14c6029494a_image</td>\n",
              "      <td>[{'x': 860.27902, 'y': 15.31928, 'width': 771....</td>\n",
              "      <td>opacity 1 860.27902 15.31928 1631.398099999999...</td>\n",
              "      <td>c631e5f031a9</td>\n",
              "      <td>c631e5f031a9</td>\n",
              "      <td>0</td>\n",
              "      <td>1</td>\n",
              "      <td>0</td>\n",
              "      <td>0</td>\n",
              "    </tr>\n",
              "  </tbody>\n",
              "</table>\n",
              "<p>280 rows × 9 columns</p>\n",
              "</div>"
            ],
            "text/plain": [
              "                    id_x                                              boxes  \\\n",
              "23    cada5310214b_image  [{'x': 981.75034, 'y': 256.08181, 'width': 225...   \n",
              "26    0d4d6acc9ed3_image                                                NaN   \n",
              "27    93a881fb3292_image                                                NaN   \n",
              "28    cdd9e3aaf45a_image                                                NaN   \n",
              "32    b3ffe59e37c7_image                                                NaN   \n",
              "...                  ...                                                ...   \n",
              "5143  d4600028f75c_image  [{'x': 399.19174, 'y': 226.69307, 'width': 827...   \n",
              "5166  df3d32c8df06_image                                                NaN   \n",
              "5314  f4847d161683_image  [{'x': 702.27444, 'y': 610.99231, 'width': 786...   \n",
              "5603  dfd9078a4c6d_image                                                NaN   \n",
              "5722  f14c6029494a_image  [{'x': 860.27902, 'y': 15.31928, 'width': 771....   \n",
              "\n",
              "                                                  label StudyInstanceUID  \\\n",
              "23    opacity 1 981.75034 256.08181 1207.54099 765.2...     1a58b43cf286   \n",
              "26                                       none 1 0 0 1 1     74ba8f2badcb   \n",
              "27                                       none 1 0 0 1 1     74ba8f2badcb   \n",
              "28                                       none 1 0 0 1 1     74ba8f2badcb   \n",
              "32                                       none 1 0 0 1 1     81f6b4b343f7   \n",
              "...                                                 ...              ...   \n",
              "5143  opacity 1 399.19174 226.69307 1226.20168999999...     8b18f1963aff   \n",
              "5166                                     none 1 0 0 1 1     b40f174f19a6   \n",
              "5314  opacity 1 702.27444 610.99231 1488.39055 1746....     6f6cf201e2e9   \n",
              "5603                                     none 1 0 0 1 1     f5c94b5db0cd   \n",
              "5722  opacity 1 860.27902 15.31928 1631.398099999999...     c631e5f031a9   \n",
              "\n",
              "              id_y  Negative for Pneumonia  Typical Appearance  \\\n",
              "23    1a58b43cf286                       0                   1   \n",
              "26    74ba8f2badcb                       1                   0   \n",
              "27    74ba8f2badcb                       1                   0   \n",
              "28    74ba8f2badcb                       1                   0   \n",
              "32    81f6b4b343f7                       0                   1   \n",
              "...            ...                     ...                 ...   \n",
              "5143  8b18f1963aff                       0                   1   \n",
              "5166  b40f174f19a6                       0                   0   \n",
              "5314  6f6cf201e2e9                       0                   1   \n",
              "5603  f5c94b5db0cd                       0                   1   \n",
              "5722  c631e5f031a9                       0                   1   \n",
              "\n",
              "      Indeterminate Appearance  Atypical Appearance  \n",
              "23                           0                    0  \n",
              "26                           0                    0  \n",
              "27                           0                    0  \n",
              "28                           0                    0  \n",
              "32                           0                    0  \n",
              "...                        ...                  ...  \n",
              "5143                         0                    0  \n",
              "5166                         1                    0  \n",
              "5314                         0                    0  \n",
              "5603                         0                    0  \n",
              "5722                         0                    0  \n",
              "\n",
              "[280 rows x 9 columns]"
            ]
          },
          "execution_count": 12,
          "metadata": {},
          "output_type": "execute_result"
        }
      ]
    },
    {
      "cell_type": "code",
      "metadata": {
        "id": "jA8CuqV9k7hh",
        "outputId": "6c09719c-2c31-4abc-b89d-94e04d0b9089"
      },
      "source": [
        "duplicate2 = df[df.duplicated('id_y')]\n",
        "duplicate2"
      ],
      "execution_count": null,
      "outputs": [
        {
          "data": {
            "text/html": [
              "<div>\n",
              "<style scoped>\n",
              "    .dataframe tbody tr th:only-of-type {\n",
              "        vertical-align: middle;\n",
              "    }\n",
              "\n",
              "    .dataframe tbody tr th {\n",
              "        vertical-align: top;\n",
              "    }\n",
              "\n",
              "    .dataframe thead th {\n",
              "        text-align: right;\n",
              "    }\n",
              "</style>\n",
              "<table border=\"1\" class=\"dataframe\">\n",
              "  <thead>\n",
              "    <tr style=\"text-align: right;\">\n",
              "      <th></th>\n",
              "      <th>id_x</th>\n",
              "      <th>boxes</th>\n",
              "      <th>label</th>\n",
              "      <th>StudyInstanceUID</th>\n",
              "      <th>id_y</th>\n",
              "      <th>Negative for Pneumonia</th>\n",
              "      <th>Typical Appearance</th>\n",
              "      <th>Indeterminate Appearance</th>\n",
              "      <th>Atypical Appearance</th>\n",
              "    </tr>\n",
              "  </thead>\n",
              "  <tbody>\n",
              "    <tr>\n",
              "      <td>23</td>\n",
              "      <td>cada5310214b_image</td>\n",
              "      <td>[{'x': 981.75034, 'y': 256.08181, 'width': 225...</td>\n",
              "      <td>opacity 1 981.75034 256.08181 1207.54099 765.2...</td>\n",
              "      <td>1a58b43cf286</td>\n",
              "      <td>1a58b43cf286</td>\n",
              "      <td>0</td>\n",
              "      <td>1</td>\n",
              "      <td>0</td>\n",
              "      <td>0</td>\n",
              "    </tr>\n",
              "    <tr>\n",
              "      <td>26</td>\n",
              "      <td>0d4d6acc9ed3_image</td>\n",
              "      <td>NaN</td>\n",
              "      <td>none 1 0 0 1 1</td>\n",
              "      <td>74ba8f2badcb</td>\n",
              "      <td>74ba8f2badcb</td>\n",
              "      <td>1</td>\n",
              "      <td>0</td>\n",
              "      <td>0</td>\n",
              "      <td>0</td>\n",
              "    </tr>\n",
              "    <tr>\n",
              "      <td>27</td>\n",
              "      <td>93a881fb3292_image</td>\n",
              "      <td>NaN</td>\n",
              "      <td>none 1 0 0 1 1</td>\n",
              "      <td>74ba8f2badcb</td>\n",
              "      <td>74ba8f2badcb</td>\n",
              "      <td>1</td>\n",
              "      <td>0</td>\n",
              "      <td>0</td>\n",
              "      <td>0</td>\n",
              "    </tr>\n",
              "    <tr>\n",
              "      <td>28</td>\n",
              "      <td>cdd9e3aaf45a_image</td>\n",
              "      <td>NaN</td>\n",
              "      <td>none 1 0 0 1 1</td>\n",
              "      <td>74ba8f2badcb</td>\n",
              "      <td>74ba8f2badcb</td>\n",
              "      <td>1</td>\n",
              "      <td>0</td>\n",
              "      <td>0</td>\n",
              "      <td>0</td>\n",
              "    </tr>\n",
              "    <tr>\n",
              "      <td>32</td>\n",
              "      <td>b3ffe59e37c7_image</td>\n",
              "      <td>NaN</td>\n",
              "      <td>none 1 0 0 1 1</td>\n",
              "      <td>81f6b4b343f7</td>\n",
              "      <td>81f6b4b343f7</td>\n",
              "      <td>0</td>\n",
              "      <td>1</td>\n",
              "      <td>0</td>\n",
              "      <td>0</td>\n",
              "    </tr>\n",
              "    <tr>\n",
              "      <td>...</td>\n",
              "      <td>...</td>\n",
              "      <td>...</td>\n",
              "      <td>...</td>\n",
              "      <td>...</td>\n",
              "      <td>...</td>\n",
              "      <td>...</td>\n",
              "      <td>...</td>\n",
              "      <td>...</td>\n",
              "      <td>...</td>\n",
              "    </tr>\n",
              "    <tr>\n",
              "      <td>5143</td>\n",
              "      <td>d4600028f75c_image</td>\n",
              "      <td>[{'x': 399.19174, 'y': 226.69307, 'width': 827...</td>\n",
              "      <td>opacity 1 399.19174 226.69307 1226.20168999999...</td>\n",
              "      <td>8b18f1963aff</td>\n",
              "      <td>8b18f1963aff</td>\n",
              "      <td>0</td>\n",
              "      <td>1</td>\n",
              "      <td>0</td>\n",
              "      <td>0</td>\n",
              "    </tr>\n",
              "    <tr>\n",
              "      <td>5166</td>\n",
              "      <td>df3d32c8df06_image</td>\n",
              "      <td>NaN</td>\n",
              "      <td>none 1 0 0 1 1</td>\n",
              "      <td>b40f174f19a6</td>\n",
              "      <td>b40f174f19a6</td>\n",
              "      <td>0</td>\n",
              "      <td>0</td>\n",
              "      <td>1</td>\n",
              "      <td>0</td>\n",
              "    </tr>\n",
              "    <tr>\n",
              "      <td>5314</td>\n",
              "      <td>f4847d161683_image</td>\n",
              "      <td>[{'x': 702.27444, 'y': 610.99231, 'width': 786...</td>\n",
              "      <td>opacity 1 702.27444 610.99231 1488.39055 1746....</td>\n",
              "      <td>6f6cf201e2e9</td>\n",
              "      <td>6f6cf201e2e9</td>\n",
              "      <td>0</td>\n",
              "      <td>1</td>\n",
              "      <td>0</td>\n",
              "      <td>0</td>\n",
              "    </tr>\n",
              "    <tr>\n",
              "      <td>5603</td>\n",
              "      <td>dfd9078a4c6d_image</td>\n",
              "      <td>NaN</td>\n",
              "      <td>none 1 0 0 1 1</td>\n",
              "      <td>f5c94b5db0cd</td>\n",
              "      <td>f5c94b5db0cd</td>\n",
              "      <td>0</td>\n",
              "      <td>1</td>\n",
              "      <td>0</td>\n",
              "      <td>0</td>\n",
              "    </tr>\n",
              "    <tr>\n",
              "      <td>5722</td>\n",
              "      <td>f14c6029494a_image</td>\n",
              "      <td>[{'x': 860.27902, 'y': 15.31928, 'width': 771....</td>\n",
              "      <td>opacity 1 860.27902 15.31928 1631.398099999999...</td>\n",
              "      <td>c631e5f031a9</td>\n",
              "      <td>c631e5f031a9</td>\n",
              "      <td>0</td>\n",
              "      <td>1</td>\n",
              "      <td>0</td>\n",
              "      <td>0</td>\n",
              "    </tr>\n",
              "  </tbody>\n",
              "</table>\n",
              "<p>280 rows × 9 columns</p>\n",
              "</div>"
            ],
            "text/plain": [
              "                    id_x                                              boxes  \\\n",
              "23    cada5310214b_image  [{'x': 981.75034, 'y': 256.08181, 'width': 225...   \n",
              "26    0d4d6acc9ed3_image                                                NaN   \n",
              "27    93a881fb3292_image                                                NaN   \n",
              "28    cdd9e3aaf45a_image                                                NaN   \n",
              "32    b3ffe59e37c7_image                                                NaN   \n",
              "...                  ...                                                ...   \n",
              "5143  d4600028f75c_image  [{'x': 399.19174, 'y': 226.69307, 'width': 827...   \n",
              "5166  df3d32c8df06_image                                                NaN   \n",
              "5314  f4847d161683_image  [{'x': 702.27444, 'y': 610.99231, 'width': 786...   \n",
              "5603  dfd9078a4c6d_image                                                NaN   \n",
              "5722  f14c6029494a_image  [{'x': 860.27902, 'y': 15.31928, 'width': 771....   \n",
              "\n",
              "                                                  label StudyInstanceUID  \\\n",
              "23    opacity 1 981.75034 256.08181 1207.54099 765.2...     1a58b43cf286   \n",
              "26                                       none 1 0 0 1 1     74ba8f2badcb   \n",
              "27                                       none 1 0 0 1 1     74ba8f2badcb   \n",
              "28                                       none 1 0 0 1 1     74ba8f2badcb   \n",
              "32                                       none 1 0 0 1 1     81f6b4b343f7   \n",
              "...                                                 ...              ...   \n",
              "5143  opacity 1 399.19174 226.69307 1226.20168999999...     8b18f1963aff   \n",
              "5166                                     none 1 0 0 1 1     b40f174f19a6   \n",
              "5314  opacity 1 702.27444 610.99231 1488.39055 1746....     6f6cf201e2e9   \n",
              "5603                                     none 1 0 0 1 1     f5c94b5db0cd   \n",
              "5722  opacity 1 860.27902 15.31928 1631.398099999999...     c631e5f031a9   \n",
              "\n",
              "              id_y  Negative for Pneumonia  Typical Appearance  \\\n",
              "23    1a58b43cf286                       0                   1   \n",
              "26    74ba8f2badcb                       1                   0   \n",
              "27    74ba8f2badcb                       1                   0   \n",
              "28    74ba8f2badcb                       1                   0   \n",
              "32    81f6b4b343f7                       0                   1   \n",
              "...            ...                     ...                 ...   \n",
              "5143  8b18f1963aff                       0                   1   \n",
              "5166  b40f174f19a6                       0                   0   \n",
              "5314  6f6cf201e2e9                       0                   1   \n",
              "5603  f5c94b5db0cd                       0                   1   \n",
              "5722  c631e5f031a9                       0                   1   \n",
              "\n",
              "      Indeterminate Appearance  Atypical Appearance  \n",
              "23                           0                    0  \n",
              "26                           0                    0  \n",
              "27                           0                    0  \n",
              "28                           0                    0  \n",
              "32                           0                    0  \n",
              "...                        ...                  ...  \n",
              "5143                         0                    0  \n",
              "5166                         1                    0  \n",
              "5314                         0                    0  \n",
              "5603                         0                    0  \n",
              "5722                         0                    0  \n",
              "\n",
              "[280 rows x 9 columns]"
            ]
          },
          "execution_count": 13,
          "metadata": {},
          "output_type": "execute_result"
        }
      ]
    },
    {
      "cell_type": "code",
      "metadata": {
        "id": "6atOALdbk7hi",
        "outputId": "16215bc8-70d9-4f00-a1bd-10acff2c29c0"
      },
      "source": [
        "df[df.eq('74ba8f2badcb').any(1)]"
      ],
      "execution_count": null,
      "outputs": [
        {
          "name": "stderr",
          "output_type": "stream",
          "text": [
            "/Users/cristinabautista/Library/Python/3.7/lib/python/site-packages/pandas/core/ops/__init__.py:1115: FutureWarning: elementwise comparison failed; returning scalar instead, but in the future will perform elementwise comparison\n",
            "  result = method(y)\n"
          ]
        },
        {
          "data": {
            "text/html": [
              "<div>\n",
              "<style scoped>\n",
              "    .dataframe tbody tr th:only-of-type {\n",
              "        vertical-align: middle;\n",
              "    }\n",
              "\n",
              "    .dataframe tbody tr th {\n",
              "        vertical-align: top;\n",
              "    }\n",
              "\n",
              "    .dataframe thead th {\n",
              "        text-align: right;\n",
              "    }\n",
              "</style>\n",
              "<table border=\"1\" class=\"dataframe\">\n",
              "  <thead>\n",
              "    <tr style=\"text-align: right;\">\n",
              "      <th></th>\n",
              "      <th>id_x</th>\n",
              "      <th>boxes</th>\n",
              "      <th>label</th>\n",
              "      <th>StudyInstanceUID</th>\n",
              "      <th>id_y</th>\n",
              "      <th>Negative for Pneumonia</th>\n",
              "      <th>Typical Appearance</th>\n",
              "      <th>Indeterminate Appearance</th>\n",
              "      <th>Atypical Appearance</th>\n",
              "    </tr>\n",
              "  </thead>\n",
              "  <tbody>\n",
              "    <tr>\n",
              "      <td>25</td>\n",
              "      <td>00e3a7e91a34_image</td>\n",
              "      <td>NaN</td>\n",
              "      <td>none 1 0 0 1 1</td>\n",
              "      <td>74ba8f2badcb</td>\n",
              "      <td>74ba8f2badcb</td>\n",
              "      <td>1</td>\n",
              "      <td>0</td>\n",
              "      <td>0</td>\n",
              "      <td>0</td>\n",
              "    </tr>\n",
              "    <tr>\n",
              "      <td>26</td>\n",
              "      <td>0d4d6acc9ed3_image</td>\n",
              "      <td>NaN</td>\n",
              "      <td>none 1 0 0 1 1</td>\n",
              "      <td>74ba8f2badcb</td>\n",
              "      <td>74ba8f2badcb</td>\n",
              "      <td>1</td>\n",
              "      <td>0</td>\n",
              "      <td>0</td>\n",
              "      <td>0</td>\n",
              "    </tr>\n",
              "    <tr>\n",
              "      <td>27</td>\n",
              "      <td>93a881fb3292_image</td>\n",
              "      <td>NaN</td>\n",
              "      <td>none 1 0 0 1 1</td>\n",
              "      <td>74ba8f2badcb</td>\n",
              "      <td>74ba8f2badcb</td>\n",
              "      <td>1</td>\n",
              "      <td>0</td>\n",
              "      <td>0</td>\n",
              "      <td>0</td>\n",
              "    </tr>\n",
              "    <tr>\n",
              "      <td>28</td>\n",
              "      <td>cdd9e3aaf45a_image</td>\n",
              "      <td>NaN</td>\n",
              "      <td>none 1 0 0 1 1</td>\n",
              "      <td>74ba8f2badcb</td>\n",
              "      <td>74ba8f2badcb</td>\n",
              "      <td>1</td>\n",
              "      <td>0</td>\n",
              "      <td>0</td>\n",
              "      <td>0</td>\n",
              "    </tr>\n",
              "  </tbody>\n",
              "</table>\n",
              "</div>"
            ],
            "text/plain": [
              "                  id_x boxes           label StudyInstanceUID          id_y  \\\n",
              "25  00e3a7e91a34_image   NaN  none 1 0 0 1 1     74ba8f2badcb  74ba8f2badcb   \n",
              "26  0d4d6acc9ed3_image   NaN  none 1 0 0 1 1     74ba8f2badcb  74ba8f2badcb   \n",
              "27  93a881fb3292_image   NaN  none 1 0 0 1 1     74ba8f2badcb  74ba8f2badcb   \n",
              "28  cdd9e3aaf45a_image   NaN  none 1 0 0 1 1     74ba8f2badcb  74ba8f2badcb   \n",
              "\n",
              "    Negative for Pneumonia  Typical Appearance  Indeterminate Appearance  \\\n",
              "25                       1                   0                         0   \n",
              "26                       1                   0                         0   \n",
              "27                       1                   0                         0   \n",
              "28                       1                   0                         0   \n",
              "\n",
              "    Atypical Appearance  \n",
              "25                    0  \n",
              "26                    0  \n",
              "27                    0  \n",
              "28                    0  "
            ]
          },
          "execution_count": 14,
          "metadata": {},
          "output_type": "execute_result"
        }
      ]
    },
    {
      "cell_type": "markdown",
      "metadata": {
        "id": "fW4046k9k7hi"
      },
      "source": [
        "Hallazgo:\n",
        "Para un estudio pueden incluirse varias imagenes"
      ]
    },
    {
      "cell_type": "code",
      "metadata": {
        "id": "Gd8D5ziek7hi",
        "outputId": "66f1024c-9603-4629-8515-47862e4ae9ac"
      },
      "source": [
        "dfLabel = df.loc[df['label'] == 'none 1 0 0 1 1']\n",
        "dfLabelShape = dfLabel.shape[0]\n",
        "dfShape = df.shape[0]\n",
        "dfShape = dfShape - dfLabelShape\n",
        "dfProportion = pd.DataFrame({\n",
        "    'Labels' : ['Opacity', 'None'],\n",
        "    'Contador' : [dfShape, dfLabelShape],\n",
        "    'Proporcion' : [(100*dfShape/df.shape[0]), (100*dfLabelShape/df.shape[0])],\n",
        "},\n",
        "index=['Opacity', 'None'])\n",
        "dfProportion"
      ],
      "execution_count": null,
      "outputs": [
        {
          "data": {
            "text/html": [
              "<div>\n",
              "<style scoped>\n",
              "    .dataframe tbody tr th:only-of-type {\n",
              "        vertical-align: middle;\n",
              "    }\n",
              "\n",
              "    .dataframe tbody tr th {\n",
              "        vertical-align: top;\n",
              "    }\n",
              "\n",
              "    .dataframe thead th {\n",
              "        text-align: right;\n",
              "    }\n",
              "</style>\n",
              "<table border=\"1\" class=\"dataframe\">\n",
              "  <thead>\n",
              "    <tr style=\"text-align: right;\">\n",
              "      <th></th>\n",
              "      <th>Labels</th>\n",
              "      <th>Contador</th>\n",
              "      <th>Proporcion</th>\n",
              "    </tr>\n",
              "  </thead>\n",
              "  <tbody>\n",
              "    <tr>\n",
              "      <td>Opacity</td>\n",
              "      <td>Opacity</td>\n",
              "      <td>4294</td>\n",
              "      <td>67.792864</td>\n",
              "    </tr>\n",
              "    <tr>\n",
              "      <td>None</td>\n",
              "      <td>None</td>\n",
              "      <td>2040</td>\n",
              "      <td>32.207136</td>\n",
              "    </tr>\n",
              "  </tbody>\n",
              "</table>\n",
              "</div>"
            ],
            "text/plain": [
              "          Labels  Contador  Proporcion\n",
              "Opacity  Opacity      4294   67.792864\n",
              "None        None      2040   32.207136"
            ]
          },
          "execution_count": 15,
          "metadata": {},
          "output_type": "execute_result"
        }
      ]
    },
    {
      "cell_type": "code",
      "metadata": {
        "id": "VUzpTddNk7hi",
        "outputId": "90f0a042-e0a4-46b2-90c5-173da0b02d1c"
      },
      "source": [
        "plt.pie(dfProportion.Contador, labels=dfProportion.Labels, autopct=\"%0.1f %%\")\n",
        "plt.show()"
      ],
      "execution_count": null,
      "outputs": [
        {
          "data": {
            "image/png": "[encoded data removed]",
            "text/plain": [
              "<Figure size 432x288 with 1 Axes>"
            ]
          },
          "metadata": {},
          "output_type": "display_data"
        }
      ]
    },
    {
      "cell_type": "code",
      "metadata": {
        "id": "KM-jeN_Fk7hj"
      },
      "source": [
        "colNegPneu = df['Negative for Pneumonia'].value_counts()\n",
        "colTypApp = df['Typical Appearance'].value_counts()\n",
        "colIntApp = df['Indeterminate Appearance'].value_counts()\n",
        "colAtyApp = df['Atypical Appearance'].value_counts()"
      ],
      "execution_count": null,
      "outputs": []
    },
    {
      "cell_type": "code",
      "metadata": {
        "id": "4oaqkCgUk7hj"
      },
      "source": [
        "proportionsComplete = {\n",
        "    'Nombres de Columnas' : ['Negative for Pneumonia', 'Negative for Pneumonia', 'Typical Appearance', 'Typical Appearance', \n",
        "                             'Indeterminate Appearance', 'Indeterminate Appearance', 'Atypical Appearance', 'Atypical Appearance'],\n",
        "    'Metricas' : [0,1,0,1,0,1,0,1],\n",
        "    'Contador' : [],\n",
        "    'Proporciones' : []\n",
        "}"
      ],
      "execution_count": null,
      "outputs": []
    },
    {
      "cell_type": "code",
      "metadata": {
        "id": "-flEH8ADk7hj",
        "outputId": "1567026b-622b-4180-a305-c4d8b20b8a71"
      },
      "source": [
        "listColumns = [colNegPneu, colTypApp, colIntApp, colAtyApp]\n",
        "listColumnsNames = ['Negative for Pneumonia', 'Typical Appearance', 'Indeterminate Appearance', 'Atypical Appearance']\n",
        "listCounter = []\n",
        "listProportions = []\n",
        "for i in range(len(listColumnsNames)):\n",
        "    a = (100*listColumns[i][0])/sum(listColumns[i])\n",
        "    listCounter.append(listColumns[i][0])\n",
        "    print(\"La proporcion de 0's en \", listColumnsNames[i], \"es: \\t\", a)\n",
        "    listProportions.append(a)\n",
        "    b = (100*listColumns[i][1])/sum(listColumns[i])\n",
        "    listCounter.append(listColumns[i][1])\n",
        "    print(\"La proporcion de 1's en \", listColumnsNames[i], \"es: \\t\", b)\n",
        "    listProportions.append(b)\n",
        "proportionsComplete['Contador'] = listCounter\n",
        "proportionsComplete['Proporciones'] = listProportions"
      ],
      "execution_count": null,
      "outputs": [
        {
          "name": "stdout",
          "output_type": "stream",
          "text": [
            "La proporcion de 0's en  Negative for Pneumonia es: \t 72.5923586990843\n",
            "La proporcion de 1's en  Negative for Pneumonia es: \t 27.407641300915692\n",
            "La proporcion de 0's en  Typical Appearance es: \t 52.526049889485314\n",
            "La proporcion de 1's en  Typical Appearance es: \t 47.473950110514686\n",
            "La proporcion de 0's en  Indeterminate Appearance es: \t 82.50710451531418\n",
            "La proporcion de 1's en  Indeterminate Appearance es: \t 17.49289548468582\n",
            "La proporcion de 0's en  Atypical Appearance es: \t 92.3744868961162\n",
            "La proporcion de 1's en  Atypical Appearance es: \t 7.625513103883802\n"
          ]
        }
      ]
    },
    {
      "cell_type": "code",
      "metadata": {
        "id": "7FgsuQixk7hj",
        "outputId": "d686791a-2216-4077-ae0f-3a5f4007c5b5"
      },
      "source": [
        "# Visto en tabla\n",
        "proportionsComplete = pd.DataFrame(proportionsComplete)\n",
        "proportionsComplete"
      ],
      "execution_count": null,
      "outputs": [
        {
          "data": {
            "text/html": [
              "<div>\n",
              "<style scoped>\n",
              "    .dataframe tbody tr th:only-of-type {\n",
              "        vertical-align: middle;\n",
              "    }\n",
              "\n",
              "    .dataframe tbody tr th {\n",
              "        vertical-align: top;\n",
              "    }\n",
              "\n",
              "    .dataframe thead th {\n",
              "        text-align: right;\n",
              "    }\n",
              "</style>\n",
              "<table border=\"1\" class=\"dataframe\">\n",
              "  <thead>\n",
              "    <tr style=\"text-align: right;\">\n",
              "      <th></th>\n",
              "      <th>Nombres de Columnas</th>\n",
              "      <th>Metricas</th>\n",
              "      <th>Contador</th>\n",
              "      <th>Proporciones</th>\n",
              "    </tr>\n",
              "  </thead>\n",
              "  <tbody>\n",
              "    <tr>\n",
              "      <td>0</td>\n",
              "      <td>Negative for Pneumonia</td>\n",
              "      <td>0</td>\n",
              "      <td>4598</td>\n",
              "      <td>72.592359</td>\n",
              "    </tr>\n",
              "    <tr>\n",
              "      <td>1</td>\n",
              "      <td>Negative for Pneumonia</td>\n",
              "      <td>1</td>\n",
              "      <td>1736</td>\n",
              "      <td>27.407641</td>\n",
              "    </tr>\n",
              "    <tr>\n",
              "      <td>2</td>\n",
              "      <td>Typical Appearance</td>\n",
              "      <td>0</td>\n",
              "      <td>3327</td>\n",
              "      <td>52.526050</td>\n",
              "    </tr>\n",
              "    <tr>\n",
              "      <td>3</td>\n",
              "      <td>Typical Appearance</td>\n",
              "      <td>1</td>\n",
              "      <td>3007</td>\n",
              "      <td>47.473950</td>\n",
              "    </tr>\n",
              "    <tr>\n",
              "      <td>4</td>\n",
              "      <td>Indeterminate Appearance</td>\n",
              "      <td>0</td>\n",
              "      <td>5226</td>\n",
              "      <td>82.507105</td>\n",
              "    </tr>\n",
              "    <tr>\n",
              "      <td>5</td>\n",
              "      <td>Indeterminate Appearance</td>\n",
              "      <td>1</td>\n",
              "      <td>1108</td>\n",
              "      <td>17.492895</td>\n",
              "    </tr>\n",
              "    <tr>\n",
              "      <td>6</td>\n",
              "      <td>Atypical Appearance</td>\n",
              "      <td>0</td>\n",
              "      <td>5851</td>\n",
              "      <td>92.374487</td>\n",
              "    </tr>\n",
              "    <tr>\n",
              "      <td>7</td>\n",
              "      <td>Atypical Appearance</td>\n",
              "      <td>1</td>\n",
              "      <td>483</td>\n",
              "      <td>7.625513</td>\n",
              "    </tr>\n",
              "  </tbody>\n",
              "</table>\n",
              "</div>"
            ],
            "text/plain": [
              "        Nombres de Columnas  Metricas  Contador  Proporciones\n",
              "0    Negative for Pneumonia         0      4598     72.592359\n",
              "1    Negative for Pneumonia         1      1736     27.407641\n",
              "2        Typical Appearance         0      3327     52.526050\n",
              "3        Typical Appearance         1      3007     47.473950\n",
              "4  Indeterminate Appearance         0      5226     82.507105\n",
              "5  Indeterminate Appearance         1      1108     17.492895\n",
              "6       Atypical Appearance         0      5851     92.374487\n",
              "7       Atypical Appearance         1       483      7.625513"
            ]
          },
          "execution_count": 20,
          "metadata": {},
          "output_type": "execute_result"
        }
      ]
    },
    {
      "cell_type": "code",
      "metadata": {
        "id": "WYGepKzuk7hk",
        "outputId": "4bbf5423-76f6-4a37-a89e-d8d1fb5bb6e5"
      },
      "source": [
        "ax = colNegPneu.plot.bar()\n",
        "ax.set_title(listColumnsNames[0])\n",
        "ax.bar_label(ax.containers[0]),"
      ],
      "execution_count": null,
      "outputs": [
        {
          "data": {
            "text/plain": [
              "([Text(0, 0, '4598'), Text(0, 0, '1736')],)"
            ]
          },
          "execution_count": 21,
          "metadata": {},
          "output_type": "execute_result"
        },
        {
          "data": {
            "image/png": "[encoded data removed]",
            "text/plain": [
              "<Figure size 432x288 with 1 Axes>"
            ]
          },
          "metadata": {
            "needs_background": "light"
          },
          "output_type": "display_data"
        }
      ]
    },
    {
      "cell_type": "code",
      "metadata": {
        "id": "6zcsdv8vk7hk",
        "outputId": "d5935856-e3b8-4acb-8366-0162ade34fd5"
      },
      "source": [
        "ax = colTypApp.plot.bar(color='red')\n",
        "ax.set_title(listColumnsNames[1])\n",
        "ax.bar_label(ax.containers[0])"
      ],
      "execution_count": null,
      "outputs": [
        {
          "data": {
            "text/plain": [
              "[Text(0, 0, '3327'), Text(0, 0, '3007')]"
            ]
          },
          "execution_count": 22,
          "metadata": {},
          "output_type": "execute_result"
        },
        {
          "data": {
            "image/png": "[encoded data removed]",
            "text/plain": [
              "<Figure size 432x288 with 1 Axes>"
            ]
          },
          "metadata": {
            "needs_background": "light"
          },
          "output_type": "display_data"
        }
      ]
    },
    {
      "cell_type": "code",
      "metadata": {
        "id": "kJYFuRE2k7hk",
        "outputId": "008e54f3-bbf7-4484-f92c-da1dd8f9eb36"
      },
      "source": [
        "ax = colIntApp.plot.bar(color='green')\n",
        "ax.set_title(listColumnsNames[2])\n",
        "ax.bar_label(ax.containers[0])"
      ],
      "execution_count": null,
      "outputs": [
        {
          "data": {
            "text/plain": [
              "[Text(0, 0, '5226'), Text(0, 0, '1108')]"
            ]
          },
          "execution_count": 23,
          "metadata": {},
          "output_type": "execute_result"
        },
        {
          "data": {
            "image/png": "[encoded data removed]",
            "text/plain": [
              "<Figure size 432x288 with 1 Axes>"
            ]
          },
          "metadata": {
            "needs_background": "light"
          },
          "output_type": "display_data"
        }
      ]
    },
    {
      "cell_type": "code",
      "metadata": {
        "id": "cR1oKh0Sk7hk",
        "outputId": "41d5fa20-a13b-490f-b27c-d1033ae287e2"
      },
      "source": [
        "ax = colAtyApp.plot.bar(color='orange')\n",
        "ax.set_title(listColumnsNames[3])\n",
        "ax.bar_label(ax.containers[0])"
      ],
      "execution_count": null,
      "outputs": [
        {
          "data": {
            "text/plain": [
              "[Text(0, 0, '5851'), Text(0, 0, '483')]"
            ]
          },
          "execution_count": 24,
          "metadata": {},
          "output_type": "execute_result"
        },
        {
          "data": {
            "image/png": "[encoded data removed]",
            "text/plain": [
              "<Figure size 432x288 with 1 Axes>"
            ]
          },
          "metadata": {
            "needs_background": "light"
          },
          "output_type": "display_data"
        }
      ]
    },
    {
      "cell_type": "code",
      "metadata": {
        "id": "Aseh0Jt2k7hk",
        "outputId": "84f0a78b-2f10-43a2-b294-01ea01652b70"
      },
      "source": [
        "df1.loc[df1['label'] == 'none 1 0 0 1 1']"
      ],
      "execution_count": null,
      "outputs": [
        {
          "data": {
            "text/html": [
              "<div>\n",
              "<style scoped>\n",
              "    .dataframe tbody tr th:only-of-type {\n",
              "        vertical-align: middle;\n",
              "    }\n",
              "\n",
              "    .dataframe tbody tr th {\n",
              "        vertical-align: top;\n",
              "    }\n",
              "\n",
              "    .dataframe thead th {\n",
              "        text-align: right;\n",
              "    }\n",
              "</style>\n",
              "<table border=\"1\" class=\"dataframe\">\n",
              "  <thead>\n",
              "    <tr style=\"text-align: right;\">\n",
              "      <th></th>\n",
              "      <th>id</th>\n",
              "      <th>boxes</th>\n",
              "      <th>label</th>\n",
              "      <th>StudyInstanceUID</th>\n",
              "    </tr>\n",
              "  </thead>\n",
              "  <tbody>\n",
              "    <tr>\n",
              "      <td>1</td>\n",
              "      <td>000c3a3f293f_image</td>\n",
              "      <td>NaN</td>\n",
              "      <td>none 1 0 0 1 1</td>\n",
              "      <td>ff0879eb20ed</td>\n",
              "    </tr>\n",
              "    <tr>\n",
              "      <td>6</td>\n",
              "      <td>0023f02ae886_image</td>\n",
              "      <td>NaN</td>\n",
              "      <td>none 1 0 0 1 1</td>\n",
              "      <td>2fa400b873f5</td>\n",
              "    </tr>\n",
              "    <tr>\n",
              "      <td>22</td>\n",
              "      <td>00c1515729a8_image</td>\n",
              "      <td>NaN</td>\n",
              "      <td>none 1 0 0 1 1</td>\n",
              "      <td>1a58b43cf286</td>\n",
              "    </tr>\n",
              "    <tr>\n",
              "      <td>24</td>\n",
              "      <td>00e3a7e91a34_image</td>\n",
              "      <td>NaN</td>\n",
              "      <td>none 1 0 0 1 1</td>\n",
              "      <td>74ba8f2badcb</td>\n",
              "    </tr>\n",
              "    <tr>\n",
              "      <td>26</td>\n",
              "      <td>010214f9b600_image</td>\n",
              "      <td>NaN</td>\n",
              "      <td>none 1 0 0 1 1</td>\n",
              "      <td>2a7b4e669dda</td>\n",
              "    </tr>\n",
              "    <tr>\n",
              "      <td>...</td>\n",
              "      <td>...</td>\n",
              "      <td>...</td>\n",
              "      <td>...</td>\n",
              "      <td>...</td>\n",
              "    </tr>\n",
              "    <tr>\n",
              "      <td>6322</td>\n",
              "      <td>ff7659762b75_image</td>\n",
              "      <td>NaN</td>\n",
              "      <td>none 1 0 0 1 1</td>\n",
              "      <td>4aa11ef1fd38</td>\n",
              "    </tr>\n",
              "    <tr>\n",
              "      <td>6324</td>\n",
              "      <td>ff9f10a24c27_image</td>\n",
              "      <td>NaN</td>\n",
              "      <td>none 1 0 0 1 1</td>\n",
              "      <td>a937614104e3</td>\n",
              "    </tr>\n",
              "    <tr>\n",
              "      <td>6325</td>\n",
              "      <td>ffa9fef3c7bf_image</td>\n",
              "      <td>NaN</td>\n",
              "      <td>none 1 0 0 1 1</td>\n",
              "      <td>5133bbb7b75c</td>\n",
              "    </tr>\n",
              "    <tr>\n",
              "      <td>6329</td>\n",
              "      <td>ffcc6edd9445_image</td>\n",
              "      <td>NaN</td>\n",
              "      <td>none 1 0 0 1 1</td>\n",
              "      <td>7e6c68462e06</td>\n",
              "    </tr>\n",
              "    <tr>\n",
              "      <td>6330</td>\n",
              "      <td>ffd91a2c4ca0_image</td>\n",
              "      <td>NaN</td>\n",
              "      <td>none 1 0 0 1 1</td>\n",
              "      <td>8332bdaddb6e</td>\n",
              "    </tr>\n",
              "  </tbody>\n",
              "</table>\n",
              "<p>2040 rows × 4 columns</p>\n",
              "</div>"
            ],
            "text/plain": [
              "                      id boxes           label StudyInstanceUID\n",
              "1     000c3a3f293f_image   NaN  none 1 0 0 1 1     ff0879eb20ed\n",
              "6     0023f02ae886_image   NaN  none 1 0 0 1 1     2fa400b873f5\n",
              "22    00c1515729a8_image   NaN  none 1 0 0 1 1     1a58b43cf286\n",
              "24    00e3a7e91a34_image   NaN  none 1 0 0 1 1     74ba8f2badcb\n",
              "26    010214f9b600_image   NaN  none 1 0 0 1 1     2a7b4e669dda\n",
              "...                  ...   ...             ...              ...\n",
              "6322  ff7659762b75_image   NaN  none 1 0 0 1 1     4aa11ef1fd38\n",
              "6324  ff9f10a24c27_image   NaN  none 1 0 0 1 1     a937614104e3\n",
              "6325  ffa9fef3c7bf_image   NaN  none 1 0 0 1 1     5133bbb7b75c\n",
              "6329  ffcc6edd9445_image   NaN  none 1 0 0 1 1     7e6c68462e06\n",
              "6330  ffd91a2c4ca0_image   NaN  none 1 0 0 1 1     8332bdaddb6e\n",
              "\n",
              "[2040 rows x 4 columns]"
            ]
          },
          "execution_count": 25,
          "metadata": {},
          "output_type": "execute_result"
        }
      ]
    },
    {
      "cell_type": "code",
      "metadata": {
        "id": "D4ysbQrik7hk",
        "outputId": "564bffb7-8e13-4a09-d5ea-720cb13c8c94"
      },
      "source": [
        "dfLabel"
      ],
      "execution_count": null,
      "outputs": [
        {
          "data": {
            "text/html": [
              "<div>\n",
              "<style scoped>\n",
              "    .dataframe tbody tr th:only-of-type {\n",
              "        vertical-align: middle;\n",
              "    }\n",
              "\n",
              "    .dataframe tbody tr th {\n",
              "        vertical-align: top;\n",
              "    }\n",
              "\n",
              "    .dataframe thead th {\n",
              "        text-align: right;\n",
              "    }\n",
              "</style>\n",
              "<table border=\"1\" class=\"dataframe\">\n",
              "  <thead>\n",
              "    <tr style=\"text-align: right;\">\n",
              "      <th></th>\n",
              "      <th>id_x</th>\n",
              "      <th>boxes</th>\n",
              "      <th>label</th>\n",
              "      <th>StudyInstanceUID</th>\n",
              "      <th>id_y</th>\n",
              "      <th>Negative for Pneumonia</th>\n",
              "      <th>Typical Appearance</th>\n",
              "      <th>Indeterminate Appearance</th>\n",
              "      <th>Atypical Appearance</th>\n",
              "    </tr>\n",
              "  </thead>\n",
              "  <tbody>\n",
              "    <tr>\n",
              "      <td>1</td>\n",
              "      <td>000c3a3f293f_image</td>\n",
              "      <td>NaN</td>\n",
              "      <td>none 1 0 0 1 1</td>\n",
              "      <td>ff0879eb20ed</td>\n",
              "      <td>ff0879eb20ed</td>\n",
              "      <td>1</td>\n",
              "      <td>0</td>\n",
              "      <td>0</td>\n",
              "      <td>0</td>\n",
              "    </tr>\n",
              "    <tr>\n",
              "      <td>6</td>\n",
              "      <td>0023f02ae886_image</td>\n",
              "      <td>NaN</td>\n",
              "      <td>none 1 0 0 1 1</td>\n",
              "      <td>2fa400b873f5</td>\n",
              "      <td>2fa400b873f5</td>\n",
              "      <td>1</td>\n",
              "      <td>0</td>\n",
              "      <td>0</td>\n",
              "      <td>0</td>\n",
              "    </tr>\n",
              "    <tr>\n",
              "      <td>22</td>\n",
              "      <td>00c1515729a8_image</td>\n",
              "      <td>NaN</td>\n",
              "      <td>none 1 0 0 1 1</td>\n",
              "      <td>1a58b43cf286</td>\n",
              "      <td>1a58b43cf286</td>\n",
              "      <td>0</td>\n",
              "      <td>1</td>\n",
              "      <td>0</td>\n",
              "      <td>0</td>\n",
              "    </tr>\n",
              "    <tr>\n",
              "      <td>25</td>\n",
              "      <td>00e3a7e91a34_image</td>\n",
              "      <td>NaN</td>\n",
              "      <td>none 1 0 0 1 1</td>\n",
              "      <td>74ba8f2badcb</td>\n",
              "      <td>74ba8f2badcb</td>\n",
              "      <td>1</td>\n",
              "      <td>0</td>\n",
              "      <td>0</td>\n",
              "      <td>0</td>\n",
              "    </tr>\n",
              "    <tr>\n",
              "      <td>26</td>\n",
              "      <td>0d4d6acc9ed3_image</td>\n",
              "      <td>NaN</td>\n",
              "      <td>none 1 0 0 1 1</td>\n",
              "      <td>74ba8f2badcb</td>\n",
              "      <td>74ba8f2badcb</td>\n",
              "      <td>1</td>\n",
              "      <td>0</td>\n",
              "      <td>0</td>\n",
              "      <td>0</td>\n",
              "    </tr>\n",
              "    <tr>\n",
              "      <td>...</td>\n",
              "      <td>...</td>\n",
              "      <td>...</td>\n",
              "      <td>...</td>\n",
              "      <td>...</td>\n",
              "      <td>...</td>\n",
              "      <td>...</td>\n",
              "      <td>...</td>\n",
              "      <td>...</td>\n",
              "      <td>...</td>\n",
              "    </tr>\n",
              "    <tr>\n",
              "      <td>6322</td>\n",
              "      <td>ff7659762b75_image</td>\n",
              "      <td>NaN</td>\n",
              "      <td>none 1 0 0 1 1</td>\n",
              "      <td>4aa11ef1fd38</td>\n",
              "      <td>4aa11ef1fd38</td>\n",
              "      <td>1</td>\n",
              "      <td>0</td>\n",
              "      <td>0</td>\n",
              "      <td>0</td>\n",
              "    </tr>\n",
              "    <tr>\n",
              "      <td>6324</td>\n",
              "      <td>ff9f10a24c27_image</td>\n",
              "      <td>NaN</td>\n",
              "      <td>none 1 0 0 1 1</td>\n",
              "      <td>a937614104e3</td>\n",
              "      <td>a937614104e3</td>\n",
              "      <td>1</td>\n",
              "      <td>0</td>\n",
              "      <td>0</td>\n",
              "      <td>0</td>\n",
              "    </tr>\n",
              "    <tr>\n",
              "      <td>6325</td>\n",
              "      <td>ffa9fef3c7bf_image</td>\n",
              "      <td>NaN</td>\n",
              "      <td>none 1 0 0 1 1</td>\n",
              "      <td>5133bbb7b75c</td>\n",
              "      <td>5133bbb7b75c</td>\n",
              "      <td>1</td>\n",
              "      <td>0</td>\n",
              "      <td>0</td>\n",
              "      <td>0</td>\n",
              "    </tr>\n",
              "    <tr>\n",
              "      <td>6329</td>\n",
              "      <td>ffcc6edd9445_image</td>\n",
              "      <td>NaN</td>\n",
              "      <td>none 1 0 0 1 1</td>\n",
              "      <td>7e6c68462e06</td>\n",
              "      <td>7e6c68462e06</td>\n",
              "      <td>1</td>\n",
              "      <td>0</td>\n",
              "      <td>0</td>\n",
              "      <td>0</td>\n",
              "    </tr>\n",
              "    <tr>\n",
              "      <td>6330</td>\n",
              "      <td>ffd91a2c4ca0_image</td>\n",
              "      <td>NaN</td>\n",
              "      <td>none 1 0 0 1 1</td>\n",
              "      <td>8332bdaddb6e</td>\n",
              "      <td>8332bdaddb6e</td>\n",
              "      <td>1</td>\n",
              "      <td>0</td>\n",
              "      <td>0</td>\n",
              "      <td>0</td>\n",
              "    </tr>\n",
              "  </tbody>\n",
              "</table>\n",
              "<p>2040 rows × 9 columns</p>\n",
              "</div>"
            ],
            "text/plain": [
              "                    id_x boxes           label StudyInstanceUID          id_y  \\\n",
              "1     000c3a3f293f_image   NaN  none 1 0 0 1 1     ff0879eb20ed  ff0879eb20ed   \n",
              "6     0023f02ae886_image   NaN  none 1 0 0 1 1     2fa400b873f5  2fa400b873f5   \n",
              "22    00c1515729a8_image   NaN  none 1 0 0 1 1     1a58b43cf286  1a58b43cf286   \n",
              "25    00e3a7e91a34_image   NaN  none 1 0 0 1 1     74ba8f2badcb  74ba8f2badcb   \n",
              "26    0d4d6acc9ed3_image   NaN  none 1 0 0 1 1     74ba8f2badcb  74ba8f2badcb   \n",
              "...                  ...   ...             ...              ...           ...   \n",
              "6322  ff7659762b75_image   NaN  none 1 0 0 1 1     4aa11ef1fd38  4aa11ef1fd38   \n",
              "6324  ff9f10a24c27_image   NaN  none 1 0 0 1 1     a937614104e3  a937614104e3   \n",
              "6325  ffa9fef3c7bf_image   NaN  none 1 0 0 1 1     5133bbb7b75c  5133bbb7b75c   \n",
              "6329  ffcc6edd9445_image   NaN  none 1 0 0 1 1     7e6c68462e06  7e6c68462e06   \n",
              "6330  ffd91a2c4ca0_image   NaN  none 1 0 0 1 1     8332bdaddb6e  8332bdaddb6e   \n",
              "\n",
              "      Negative for Pneumonia  Typical Appearance  Indeterminate Appearance  \\\n",
              "1                          1                   0                         0   \n",
              "6                          1                   0                         0   \n",
              "22                         0                   1                         0   \n",
              "25                         1                   0                         0   \n",
              "26                         1                   0                         0   \n",
              "...                      ...                 ...                       ...   \n",
              "6322                       1                   0                         0   \n",
              "6324                       1                   0                         0   \n",
              "6325                       1                   0                         0   \n",
              "6329                       1                   0                         0   \n",
              "6330                       1                   0                         0   \n",
              "\n",
              "      Atypical Appearance  \n",
              "1                       0  \n",
              "6                       0  \n",
              "22                      0  \n",
              "25                      0  \n",
              "26                      0  \n",
              "...                   ...  \n",
              "6322                    0  \n",
              "6324                    0  \n",
              "6325                    0  \n",
              "6329                    0  \n",
              "6330                    0  \n",
              "\n",
              "[2040 rows x 9 columns]"
            ]
          },
          "execution_count": 26,
          "metadata": {},
          "output_type": "execute_result"
        }
      ]
    },
    {
      "cell_type": "code",
      "metadata": {
        "id": "uw3sT5a9k7hk"
      },
      "source": [
        "colNegPneuLabel = dfLabel['Negative for Pneumonia'].value_counts()\n",
        "colTypAppLabel = dfLabel['Typical Appearance'].value_counts()\n",
        "colIntAppLabel = dfLabel['Indeterminate Appearance'].value_counts()\n",
        "colAtyAppLabel = dfLabel['Atypical Appearance'].value_counts()"
      ],
      "execution_count": null,
      "outputs": []
    },
    {
      "cell_type": "code",
      "metadata": {
        "id": "bsPlX8dVk7hk"
      },
      "source": [
        "proportionsCompleteNone = {\n",
        "    'Nombres de Columnas' : ['Negative for Pneumonia', 'Negative for Pneumonia', 'Typical Appearance', 'Typical Appearance', \n",
        "                             'Indeterminate Appearance', 'Indeterminate Appearance', 'Atypical Appearance', 'Atypical Appearance'],\n",
        "    'Metricas' : [0,1,0,1,0,1,0,1],\n",
        "    'Contador' : [],\n",
        "    'Proporciones' : []\n",
        "}"
      ],
      "execution_count": null,
      "outputs": []
    },
    {
      "cell_type": "code",
      "metadata": {
        "id": "zDL2MLfjk7hl",
        "outputId": "9af2d5b1-a5aa-4dcc-a26f-2d5f20c7b0a8"
      },
      "source": [
        "listColumns = [colNegPneuLabel, colTypAppLabel, colIntAppLabel, colAtyAppLabel]\n",
        "listColumnsNames = ['Negative for Pneumonia', 'Typical Appearance', 'Indeterminate Appearance', 'Atypical Appearance']\n",
        "listCounter = []\n",
        "listProportions = []\n",
        "for i in range(len(listColumnsNames)):\n",
        "    a = (100*listColumns[i][0])/sum(listColumns[i])\n",
        "    listCounter.append(listColumns[i][0])\n",
        "    print(\"La proporcion de 0's en \", listColumnsNames[i], \"es: \\t\", a)\n",
        "    listProportions.append(a)\n",
        "    b = (100*listColumns[i][1])/sum(listColumns[i])\n",
        "    listCounter.append(listColumns[i][1])\n",
        "    print(\"La proporcion de 1's en \", listColumnsNames[i], \"es: \\t\", b)\n",
        "    listProportions.append(b)\n",
        "proportionsCompleteNone['Contador'] = listCounter\n",
        "proportionsCompleteNone['Proporciones'] = listProportions"
      ],
      "execution_count": null,
      "outputs": [
        {
          "name": "stdout",
          "output_type": "stream",
          "text": [
            "La proporcion de 0's en  Negative for Pneumonia es: \t 14.901960784313726\n",
            "La proporcion de 1's en  Negative for Pneumonia es: \t 85.09803921568627\n",
            "La proporcion de 0's en  Typical Appearance es: \t 92.5\n",
            "La proporcion de 1's en  Typical Appearance es: \t 7.5\n",
            "La proporcion de 0's en  Indeterminate Appearance es: \t 97.1078431372549\n",
            "La proporcion de 1's en  Indeterminate Appearance es: \t 2.892156862745098\n",
            "La proporcion de 0's en  Atypical Appearance es: \t 95.49019607843137\n",
            "La proporcion de 1's en  Atypical Appearance es: \t 4.509803921568627\n"
          ]
        }
      ]
    },
    {
      "cell_type": "code",
      "metadata": {
        "id": "P70hIPqck7hl",
        "outputId": "bd23eb78-4b28-46e4-e0ee-2f6f92bebf43"
      },
      "source": [
        "# Visto en tabla\n",
        "proportionsCompleteNone = pd.DataFrame(proportionsCompleteNone)\n",
        "proportionsCompleteNone"
      ],
      "execution_count": null,
      "outputs": [
        {
          "data": {
            "text/html": [
              "<div>\n",
              "<style scoped>\n",
              "    .dataframe tbody tr th:only-of-type {\n",
              "        vertical-align: middle;\n",
              "    }\n",
              "\n",
              "    .dataframe tbody tr th {\n",
              "        vertical-align: top;\n",
              "    }\n",
              "\n",
              "    .dataframe thead th {\n",
              "        text-align: right;\n",
              "    }\n",
              "</style>\n",
              "<table border=\"1\" class=\"dataframe\">\n",
              "  <thead>\n",
              "    <tr style=\"text-align: right;\">\n",
              "      <th></th>\n",
              "      <th>Nombres de Columnas</th>\n",
              "      <th>Metricas</th>\n",
              "      <th>Contador</th>\n",
              "      <th>Proporciones</th>\n",
              "    </tr>\n",
              "  </thead>\n",
              "  <tbody>\n",
              "    <tr>\n",
              "      <td>0</td>\n",
              "      <td>Negative for Pneumonia</td>\n",
              "      <td>0</td>\n",
              "      <td>304</td>\n",
              "      <td>14.901961</td>\n",
              "    </tr>\n",
              "    <tr>\n",
              "      <td>1</td>\n",
              "      <td>Negative for Pneumonia</td>\n",
              "      <td>1</td>\n",
              "      <td>1736</td>\n",
              "      <td>85.098039</td>\n",
              "    </tr>\n",
              "    <tr>\n",
              "      <td>2</td>\n",
              "      <td>Typical Appearance</td>\n",
              "      <td>0</td>\n",
              "      <td>1887</td>\n",
              "      <td>92.500000</td>\n",
              "    </tr>\n",
              "    <tr>\n",
              "      <td>3</td>\n",
              "      <td>Typical Appearance</td>\n",
              "      <td>1</td>\n",
              "      <td>153</td>\n",
              "      <td>7.500000</td>\n",
              "    </tr>\n",
              "    <tr>\n",
              "      <td>4</td>\n",
              "      <td>Indeterminate Appearance</td>\n",
              "      <td>0</td>\n",
              "      <td>1981</td>\n",
              "      <td>97.107843</td>\n",
              "    </tr>\n",
              "    <tr>\n",
              "      <td>5</td>\n",
              "      <td>Indeterminate Appearance</td>\n",
              "      <td>1</td>\n",
              "      <td>59</td>\n",
              "      <td>2.892157</td>\n",
              "    </tr>\n",
              "    <tr>\n",
              "      <td>6</td>\n",
              "      <td>Atypical Appearance</td>\n",
              "      <td>0</td>\n",
              "      <td>1948</td>\n",
              "      <td>95.490196</td>\n",
              "    </tr>\n",
              "    <tr>\n",
              "      <td>7</td>\n",
              "      <td>Atypical Appearance</td>\n",
              "      <td>1</td>\n",
              "      <td>92</td>\n",
              "      <td>4.509804</td>\n",
              "    </tr>\n",
              "  </tbody>\n",
              "</table>\n",
              "</div>"
            ],
            "text/plain": [
              "        Nombres de Columnas  Metricas  Contador  Proporciones\n",
              "0    Negative for Pneumonia         0       304     14.901961\n",
              "1    Negative for Pneumonia         1      1736     85.098039\n",
              "2        Typical Appearance         0      1887     92.500000\n",
              "3        Typical Appearance         1       153      7.500000\n",
              "4  Indeterminate Appearance         0      1981     97.107843\n",
              "5  Indeterminate Appearance         1        59      2.892157\n",
              "6       Atypical Appearance         0      1948     95.490196\n",
              "7       Atypical Appearance         1        92      4.509804"
            ]
          },
          "execution_count": 30,
          "metadata": {},
          "output_type": "execute_result"
        }
      ]
    },
    {
      "cell_type": "code",
      "metadata": {
        "id": "WCiBbgohk7hl",
        "outputId": "7c3568e6-a4e4-495f-eb93-068f37c7bc57"
      },
      "source": [
        "ax = colNegPneuLabel.plot.bar()\n",
        "ax.set_title(listColumnsNames[0])\n",
        "ax.bar_label(ax.containers[0])"
      ],
      "execution_count": null,
      "outputs": [
        {
          "data": {
            "text/plain": [
              "[Text(0, 0, '1736'), Text(0, 0, '304')]"
            ]
          },
          "execution_count": 31,
          "metadata": {},
          "output_type": "execute_result"
        },
        {
          "data": {
            "image/png": "[encoded data removed]",
            "text/plain": [
              "<Figure size 432x288 with 1 Axes>"
            ]
          },
          "metadata": {
            "needs_background": "light"
          },
          "output_type": "display_data"
        }
      ]
    },
    {
      "cell_type": "code",
      "metadata": {
        "id": "odJonZ7Rk7hl",
        "outputId": "a6032fe2-f5bc-4b37-dfdd-fa711c17effb"
      },
      "source": [
        "ax = colTypAppLabel.plot.bar(color='red')\n",
        "ax.set_title(listColumnsNames[1])\n",
        "ax.bar_label(ax.containers[0])"
      ],
      "execution_count": null,
      "outputs": [
        {
          "data": {
            "text/plain": [
              "[Text(0, 0, '1887'), Text(0, 0, '153')]"
            ]
          },
          "execution_count": 32,
          "metadata": {},
          "output_type": "execute_result"
        },
        {
          "data": {
            "image/png": "[encoded data removed]",
            "text/plain": [
              "<Figure size 432x288 with 1 Axes>"
            ]
          },
          "metadata": {
            "needs_background": "light"
          },
          "output_type": "display_data"
        }
      ]
    },
    {
      "cell_type": "code",
      "metadata": {
        "id": "7RTjdHmjk7hm",
        "outputId": "69f6d9da-1ee6-4640-bf8d-8a80e39572a8"
      },
      "source": [
        "ax = colIntAppLabel.plot.bar(color='green')\n",
        "ax.set_title(listColumnsNames[2])\n",
        "ax.bar_label(ax.containers[0])"
      ],
      "execution_count": null,
      "outputs": [
        {
          "data": {
            "text/plain": [
              "[Text(0, 0, '1981'), Text(0, 0, '59')]"
            ]
          },
          "execution_count": 33,
          "metadata": {},
          "output_type": "execute_result"
        },
        {
          "data": {
            "image/png": "[encoded data removed]",
            "text/plain": [
              "<Figure size 432x288 with 1 Axes>"
            ]
          },
          "metadata": {
            "needs_background": "light"
          },
          "output_type": "display_data"
        }
      ]
    },
    {
      "cell_type": "code",
      "metadata": {
        "id": "PNYB4C0sk7hm",
        "outputId": "c779c710-858c-4d9a-a59c-8a6600aa5878"
      },
      "source": [
        "ax = colAtyAppLabel.plot.bar(color='orange')\n",
        "ax.set_title(listColumnsNames[3])\n",
        "ax.bar_label(ax.containers[0])"
      ],
      "execution_count": null,
      "outputs": [
        {
          "data": {
            "text/plain": [
              "[Text(0, 0, '1948'), Text(0, 0, '92')]"
            ]
          },
          "execution_count": 34,
          "metadata": {},
          "output_type": "execute_result"
        },
        {
          "data": {
            "image/png": "[encoded data removed]",
            "text/plain": [
              "<Figure size 432x288 with 1 Axes>"
            ]
          },
          "metadata": {
            "needs_background": "light"
          },
          "output_type": "display_data"
        }
      ]
    },
    {
      "cell_type": "markdown",
      "metadata": {
        "id": "pfuo6M1hlBQg"
      },
      "source": [
        "//////////////////////////////////"
      ]
    },
    {
      "cell_type": "code",
      "metadata": {
        "colab": {
          "base_uri": "https://localhost:8080/"
        },
        "id": "aT7GwaDlk7hm",
        "outputId": "59772fc7-dda9-4323-8e82-4036622e6829"
      },
      "source": [
        "!pip install tensorflow-io\n",
        "import tensorflow as tf\n",
        "import tensorflow_io as tfio\n",
        "import matplotlib.pyplot as plt\n",
        "import numpy as np"
      ],
      "execution_count": 10,
      "outputs": [
        {
          "output_type": "stream",
          "name": "stdout",
          "text": [
            "Requirement already satisfied: tensorflow-io in /usr/local/lib/python3.7/dist-packages (0.20.0)\n",
            "Requirement already satisfied: tensorflow-io-gcs-filesystem==0.20.0 in /usr/local/lib/python3.7/dist-packages (from tensorflow-io) (0.20.0)\n",
            "Requirement already satisfied: tensorflow<2.7.0,>=2.6.0 in /usr/local/lib/python3.7/dist-packages (from tensorflow-io) (2.6.0)\n",
            "Requirement already satisfied: wrapt~=1.12.1 in /usr/local/lib/python3.7/dist-packages (from tensorflow<2.7.0,>=2.6.0->tensorflow-io) (1.12.1)\n",
            "Requirement already satisfied: h5py~=3.1.0 in /usr/local/lib/python3.7/dist-packages (from tensorflow<2.7.0,>=2.6.0->tensorflow-io) (3.1.0)\n",
            "Requirement already satisfied: keras~=2.6 in /usr/local/lib/python3.7/dist-packages (from tensorflow<2.7.0,>=2.6.0->tensorflow-io) (2.6.0)\n",
            "Requirement already satisfied: wheel~=0.35 in /usr/local/lib/python3.7/dist-packages (from tensorflow<2.7.0,>=2.6.0->tensorflow-io) (0.37.0)\n",
            "Requirement already satisfied: opt-einsum~=3.3.0 in /usr/local/lib/python3.7/dist-packages (from tensorflow<2.7.0,>=2.6.0->tensorflow-io) (3.3.0)\n",
            "Requirement already satisfied: astunparse~=1.6.3 in /usr/local/lib/python3.7/dist-packages (from tensorflow<2.7.0,>=2.6.0->tensorflow-io) (1.6.3)\n",
            "Requirement already satisfied: tensorboard~=2.6 in /usr/local/lib/python3.7/dist-packages (from tensorflow<2.7.0,>=2.6.0->tensorflow-io) (2.6.0)\n",
            "Requirement already satisfied: six~=1.15.0 in /usr/local/lib/python3.7/dist-packages (from tensorflow<2.7.0,>=2.6.0->tensorflow-io) (1.15.0)\n",
            "Requirement already satisfied: numpy~=1.19.2 in /usr/local/lib/python3.7/dist-packages (from tensorflow<2.7.0,>=2.6.0->tensorflow-io) (1.19.5)\n",
            "Requirement already satisfied: clang~=5.0 in /usr/local/lib/python3.7/dist-packages (from tensorflow<2.7.0,>=2.6.0->tensorflow-io) (5.0)\n",
            "Requirement already satisfied: flatbuffers~=1.12.0 in /usr/local/lib/python3.7/dist-packages (from tensorflow<2.7.0,>=2.6.0->tensorflow-io) (1.12)\n",
            "Requirement already satisfied: protobuf>=3.9.2 in /usr/local/lib/python3.7/dist-packages (from tensorflow<2.7.0,>=2.6.0->tensorflow-io) (3.17.3)\n",
            "Requirement already satisfied: gast==0.4.0 in /usr/local/lib/python3.7/dist-packages (from tensorflow<2.7.0,>=2.6.0->tensorflow-io) (0.4.0)\n",
            "Requirement already satisfied: grpcio<2.0,>=1.37.0 in /usr/local/lib/python3.7/dist-packages (from tensorflow<2.7.0,>=2.6.0->tensorflow-io) (1.39.0)\n",
            "Requirement already satisfied: google-pasta~=0.2 in /usr/local/lib/python3.7/dist-packages (from tensorflow<2.7.0,>=2.6.0->tensorflow-io) (0.2.0)\n",
            "Requirement already satisfied: absl-py~=0.10 in /usr/local/lib/python3.7/dist-packages (from tensorflow<2.7.0,>=2.6.0->tensorflow-io) (0.12.0)\n",
            "Requirement already satisfied: termcolor~=1.1.0 in /usr/local/lib/python3.7/dist-packages (from tensorflow<2.7.0,>=2.6.0->tensorflow-io) (1.1.0)\n",
            "Requirement already satisfied: tensorflow-estimator~=2.6 in /usr/local/lib/python3.7/dist-packages (from tensorflow<2.7.0,>=2.6.0->tensorflow-io) (2.6.0)\n",
            "Requirement already satisfied: keras-preprocessing~=1.1.2 in /usr/local/lib/python3.7/dist-packages (from tensorflow<2.7.0,>=2.6.0->tensorflow-io) (1.1.2)\n",
            "Requirement already satisfied: typing-extensions~=3.7.4 in /usr/local/lib/python3.7/dist-packages (from tensorflow<2.7.0,>=2.6.0->tensorflow-io) (3.7.4.3)\n",
            "Requirement already satisfied: cached-property in /usr/local/lib/python3.7/dist-packages (from h5py~=3.1.0->tensorflow<2.7.0,>=2.6.0->tensorflow-io) (1.5.2)\n",
            "Requirement already satisfied: markdown>=2.6.8 in /usr/local/lib/python3.7/dist-packages (from tensorboard~=2.6->tensorflow<2.7.0,>=2.6.0->tensorflow-io) (3.3.4)\n",
            "Requirement already satisfied: requests<3,>=2.21.0 in /usr/local/lib/python3.7/dist-packages (from tensorboard~=2.6->tensorflow<2.7.0,>=2.6.0->tensorflow-io) (2.23.0)\n",
            "Requirement already satisfied: tensorboard-plugin-wit>=1.6.0 in /usr/local/lib/python3.7/dist-packages (from tensorboard~=2.6->tensorflow<2.7.0,>=2.6.0->tensorflow-io) (1.8.0)\n",
            "Requirement already satisfied: werkzeug>=0.11.15 in /usr/local/lib/python3.7/dist-packages (from tensorboard~=2.6->tensorflow<2.7.0,>=2.6.0->tensorflow-io) (1.0.1)\n",
            "Requirement already satisfied: google-auth<2,>=1.6.3 in /usr/local/lib/python3.7/dist-packages (from tensorboard~=2.6->tensorflow<2.7.0,>=2.6.0->tensorflow-io) (1.34.0)\n",
            "Requirement already satisfied: tensorboard-data-server<0.7.0,>=0.6.0 in /usr/local/lib/python3.7/dist-packages (from tensorboard~=2.6->tensorflow<2.7.0,>=2.6.0->tensorflow-io) (0.6.1)\n",
            "Requirement already satisfied: setuptools>=41.0.0 in /usr/local/lib/python3.7/dist-packages (from tensorboard~=2.6->tensorflow<2.7.0,>=2.6.0->tensorflow-io) (57.4.0)\n",
            "Requirement already satisfied: google-auth-oauthlib<0.5,>=0.4.1 in /usr/local/lib/python3.7/dist-packages (from tensorboard~=2.6->tensorflow<2.7.0,>=2.6.0->tensorflow-io) (0.4.5)\n",
            "Requirement already satisfied: rsa<5,>=3.1.4 in /usr/local/lib/python3.7/dist-packages (from google-auth<2,>=1.6.3->tensorboard~=2.6->tensorflow<2.7.0,>=2.6.0->tensorflow-io) (4.7.2)\n",
            "Requirement already satisfied: pyasn1-modules>=0.2.1 in /usr/local/lib/python3.7/dist-packages (from google-auth<2,>=1.6.3->tensorboard~=2.6->tensorflow<2.7.0,>=2.6.0->tensorflow-io) (0.2.8)\n",
            "Requirement already satisfied: cachetools<5.0,>=2.0.0 in /usr/local/lib/python3.7/dist-packages (from google-auth<2,>=1.6.3->tensorboard~=2.6->tensorflow<2.7.0,>=2.6.0->tensorflow-io) (4.2.2)\n",
            "Requirement already satisfied: requests-oauthlib>=0.7.0 in /usr/local/lib/python3.7/dist-packages (from google-auth-oauthlib<0.5,>=0.4.1->tensorboard~=2.6->tensorflow<2.7.0,>=2.6.0->tensorflow-io) (1.3.0)\n",
            "Requirement already satisfied: importlib-metadata in /usr/local/lib/python3.7/dist-packages (from markdown>=2.6.8->tensorboard~=2.6->tensorflow<2.7.0,>=2.6.0->tensorflow-io) (4.6.4)\n",
            "Requirement already satisfied: pyasn1<0.5.0,>=0.4.6 in /usr/local/lib/python3.7/dist-packages (from pyasn1-modules>=0.2.1->google-auth<2,>=1.6.3->tensorboard~=2.6->tensorflow<2.7.0,>=2.6.0->tensorflow-io) (0.4.8)\n",
            "Requirement already satisfied: certifi>=2017.4.17 in /usr/local/lib/python3.7/dist-packages (from requests<3,>=2.21.0->tensorboard~=2.6->tensorflow<2.7.0,>=2.6.0->tensorflow-io) (2021.5.30)\n",
            "Requirement already satisfied: urllib3!=1.25.0,!=1.25.1,<1.26,>=1.21.1 in /usr/local/lib/python3.7/dist-packages (from requests<3,>=2.21.0->tensorboard~=2.6->tensorflow<2.7.0,>=2.6.0->tensorflow-io) (1.24.3)\n",
            "Requirement already satisfied: idna<3,>=2.5 in /usr/local/lib/python3.7/dist-packages (from requests<3,>=2.21.0->tensorboard~=2.6->tensorflow<2.7.0,>=2.6.0->tensorflow-io) (2.10)\n",
            "Requirement already satisfied: chardet<4,>=3.0.2 in /usr/local/lib/python3.7/dist-packages (from requests<3,>=2.21.0->tensorboard~=2.6->tensorflow<2.7.0,>=2.6.0->tensorflow-io) (3.0.4)\n",
            "Requirement already satisfied: oauthlib>=3.0.0 in /usr/local/lib/python3.7/dist-packages (from requests-oauthlib>=0.7.0->google-auth-oauthlib<0.5,>=0.4.1->tensorboard~=2.6->tensorflow<2.7.0,>=2.6.0->tensorflow-io) (3.1.1)\n",
            "Requirement already satisfied: zipp>=0.5 in /usr/local/lib/python3.7/dist-packages (from importlib-metadata->markdown>=2.6.8->tensorboard~=2.6->tensorflow<2.7.0,>=2.6.0->tensorflow-io) (3.5.0)\n"
          ]
        }
      ]
    },
    {
      "cell_type": "code",
      "metadata": {
        "colab": {
          "base_uri": "https://localhost:8080/",
          "height": 273
        },
        "id": "DAIaGIvulAOf",
        "outputId": "c812e310-7aa7-4715-a15d-6fb8a67d1771"
      },
      "source": [
        "\n",
        "image_sample = tf.io.read_file('/content/09cf9767a7bf.dcm')\n",
        "\n",
        "img = tfio.image.decode_dicom_image(image_sample, dtype=tf.uint16)\n",
        "\n",
        "sk = tfio.image.decode_dicom_image(image_sample, on_error='skip', dtype=tf.uint8)\n",
        "\n",
        "image_with_loss = tfio.image.decode_dicom_image(image_sample, scale='auto', on_error='lossy', dtype=tf.uint8)\n",
        "\n",
        "\n",
        "fig, axes = plt.subplots(1,2, figsize=(10,10))\n",
        "axes[0].imshow(np.squeeze(img.numpy()), cmap='gray')\n",
        "axes[0].set_title('imagen')\n",
        "axes[1].imshow(np.squeeze(image_with_loss.numpy()), cmap='gray')\n",
        "axes[1].set_title('image with loss');"
      ],
      "execution_count": 15,
      "outputs": [
        {
          "output_type": "display_data",
          "data": {
            "image/png": "[encoded data removed]",
            "text/plain": [
              "<Figure size 720x720 with 2 Axes>"
            ]
          },
          "metadata": {
            "needs_background": "light"
          }
        }
      ]
    },
    {
      "cell_type": "markdown",
      "metadata": {
        "id": "NGpwviN0qsKL"
      },
      "source": [
        "Referencias: https://www.tensorflow.org/io/tutorials/dicom"
      ]
    },
    {
      "cell_type": "code",
      "metadata": {
        "id": "WcN7yxaiqtIw"
      },
      "source": [
        ""
      ],
      "execution_count": null,
      "outputs": []
    }
  ]
}