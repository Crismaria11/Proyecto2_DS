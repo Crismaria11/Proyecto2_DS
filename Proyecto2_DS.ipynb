{
  "nbformat": 4,
  "nbformat_minor": 0,
  "metadata": {
    "kernelspec": {
      "name": "python3",
      "display_name": "Python 3.8.10 64-bit"
    },
    "language_info": {
      "codemirror_mode": {
        "name": "ipython",
        "version": 3
      },
      "file_extension": ".py",
      "mimetype": "text/x-python",
      "name": "python",
      "nbconvert_exporter": "python",
      "pygments_lexer": "ipython3",
      "version": "3.8.10"
    },
    "colab": {
      "name": "Proyecto2_DS.ipynb",
      "provenance": [],
      "collapsed_sections": []
    },
    "interpreter": {
      "hash": "916dbcbb3f70747c44a77c7bcd40155683ae19c65e1c03b4aa3499c5328201f1"
    }
  },
  "cells": [
    {
      "cell_type": "markdown",
      "metadata": {
        "id": "M_zohOEdk7hZ"
      },
      "source": [
        "# Proyecto 2. Analisis Exploratorio"
      ]
    },
    {
      "cell_type": "markdown",
      "metadata": {
        "id": "Yg5WAZkkk7hc"
      },
      "source": [
        "## Deteccion de covid en radiografias de torax"
      ]
    },
    {
      "cell_type": "markdown",
      "metadata": {
        "id": "G7tl7zbKk7hc"
      },
      "source": [
        "### Integrantes\n",
        "#### Cristina Bautista 161260\n",
        "#### Jose Block 18935\n",
        "#### Esteban Cabrera 17781"
      ]
    },
    {
      "cell_type": "markdown",
      "metadata": {
        "id": "hj4IbNUfCIIH"
      },
      "source": [
        "## Investigacion\n",
        "\n",
        "---\n",
        "\n",
        "\n",
        "\n",
        "Se realizó una breve investigación en el análisis que se lleva a cabo a la hora de analizar una radiografía, y de los datos más importantes es que se divide en 5 tipos de colores, siendo:\n",
        "\n",
        "negro = aire\n",
        "\n",
        "gris oscuro = grasas...\n",
        "\n",
        "gris claro =  tejidos blandos(órganos)...\n",
        "\n",
        "blanco opaco = huesos...\n",
        "\n",
        "blanco brillante = metales...\n",
        "\n",
        "Estos cinco colores se utilizan como métrica de la radiografía. Nos dan una pista de lo que es, debido a que dependiendo de la densidad de lo que sea que salga en la radiografía, el color se irá degradando a negro o blanco brillante. Se usa como punto de medida la curvatura del diafragma, cuando esta curvatura no se puede ver con claridad, puede ser varias cosas, pulmones dañados, modificaciones debido a operaciones en el cuerpo, obesidad, como las más comunes. Generalmente cuando no se puede ver el espacio o la diferencia entre los pulmones y el diafragma, se debe a que estos no tienen la densidad que deberían de tener, o sea que hay algún tipo de hinchazón u obstáculo dentro de los pulmones que cambia el color con el que se presentan.\n",
        "\n",
        "Por otro lado se investigó si es posible determinar si se tiene covid o no con una radiografía del tórax, y se llegó a la conclusión que no se puede, lo único que ayuda a ver la radiografía es a ver la salud de los pulmones como el tejido blando que son, no aplica para los asintomáticos y solo nos ayuda a ver qué tan crítica es la condición de los pulmones, que al final es un dato se suma importancia a pesar de que no pueda asegurar un negativo de covid o positivo. \n",
        "\n",
        "### Situación Problemática \n",
        "Debido al coronavirus, se requiere hacer pruebas para ver si se tiene o no este virus, entre estas, se realizan radiografías de tórax para ver el estado de los pulmones y los doctores a simple vista pueden dejar pasar por alto indicios de areas afectadas por Covid.\n",
        "\n",
        "### Problema Científico\n",
        "El virus de la Covid-19, se puede diagnosticar por una prueba de PCR, uno de los problemas que se tiene con estos resultados es que obtener el resultado de la misma conlleva una larga espera. Por lo que existe otro procedimiento, la toma de radiografía del tórax, el cual puede mostrar indicios si la enfermedad a afectado a los pulmones de alguan manera. Se puede entender que para la obtención de estas placas se toman un par de minutos a comparación de una prueba de PCR, además que provee más información sobre el posible estado deteriorado de un paciente y brindar tratamiento aun más especializado para este paciente. Uno de los posibles problemas que se encuentran es el de tener una placa y por medio del ojo humano no lograr ver en su totalidad pequeños indicios de infección, por lo que implementar un programa que utilice un algoritmo y una base de datos de entrenamiento que de el resultado basado en los datos y a la vez facilite la lectura de una radiografía de tórax con datos relevantes que ayuden al doctor a analizar las radiografías de manera precisa y eficiente, sería una ayuda increíble para la detección de la enfermedad. \n",
        "\n",
        "### Objetivos\n",
        "*   Entender los filtros y criterios que tienden a diferenciar correctamente un caso positivo de uno negativo de coronavirus.\n",
        "\n",
        "*   Lograr tener predicciones con una precisión mayor a 80%.\n",
        "\n",
        "*   Presentar la información útil de las radiografías para facilitar la lectura de las mismas a los doctores.\n",
        "\n",
        "\n",
        "### Descripción de los datos\n",
        "\n",
        "**train_image_level.csv:**\n",
        "\n",
        "id\n",
        "*   Descripcion: \n",
        "  *   identificador de imagen.\n",
        "\n",
        "boxes\n",
        "*   Descripcion: \n",
        "  *   listado de diccionario, incluye datos de coordenadas x, y ademas de width y height\n",
        "\n",
        "label\n",
        "*   Descripcion: \n",
        "  *   Tiene dos tipos de label\n",
        "    *   opacity, si se encuentra opacidad en la imagen\n",
        "    *   none 10011, no se encuentra opacidad en la imagen\n",
        "\n",
        "(opacidad diferente de los huesos que existen en el cuerpo)\n",
        "\n",
        "StudyInstanceUID\n",
        "*   Descripcion: \n",
        "  *   Identificador de estudio, el mismo id que el de la tabla de train_study_level.csv.\n",
        "\n",
        "\n",
        "**train_study_level.csv:**\n",
        "\n",
        "id\n",
        "\n",
        "*   Tipo: \n",
        "  *   String\n",
        "  *   id\n",
        "*   Descripcion\n",
        "  *   identificador de un estudio\n",
        "\n",
        "Negative for Pneumonia\n",
        "\n",
        "*   Tipo: \n",
        "  *   int\n",
        "  *   Categorica\n",
        "*   Descripcion\n",
        "  *   0 para positiva \n",
        "  *   1 como afirmación de que sea Negativa\n",
        "\n",
        "Typical Appearance\n",
        "\n",
        "*   Tipo: \n",
        "  *   int\n",
        "  *   Categorica\n",
        "*   Descripcion\n",
        "  *   0 para negativa \n",
        "  *   1 como positiva\n",
        "\n",
        "Indeterminate Appearance\n",
        "\n",
        "*   Tipo: \n",
        "  *   int\n",
        "  *   Categorica\n",
        "*   Descripcion\n",
        "  *   0 para negativa \n",
        "  *   1 como positiva\n",
        "\n",
        "Atypical Appearance\n",
        "\n",
        "*   Tipo: \n",
        "  *   int\n",
        "  *   Categorica\n",
        "*   Descripcion\n",
        "  *   0 para negativa \n",
        "  *   1 como positiva\n",
        "\n",
        "\n",
        "### Referencias:\n",
        "\n",
        "MedCram - Medical Lectures Explained CLEARLY. (2018, 30 diciembre). Chest X Ray Interpretation Explained Clearly - How to read a chest Xray. YouTube. https://www.youtube.com/watch?v=rEm2HkI5UDs&t=411s\n",
        "\n",
        "\n",
        "Schaefer-Prokop, C., & Prokop, M. (2020, 19 noviembre). Chest Radiography in COVID-19: No Role in Asymptomatic and Oligosymptomatic Disease. Radiology. https://pubs.rsna.org/doi/full/10.1148/radiol.2020204038\n"
      ]
    },
    {
      "cell_type": "code",
      "metadata": {
        "id": "5Mx3taIXk7hd",
        "colab": {
          "base_uri": "https://localhost:8080/"
        },
        "outputId": "9c31885f-a03f-463f-b585-5a40362360ac"
      },
      "source": [
        "import numpy as np\n",
        "import pandas as pd\n",
        "import matplotlib.pyplot as plt\n",
        "!pip install --upgrade matplotlib\n",
        "%matplotlib inline\n",
        "\n",
        "!pip install opencv-python\n",
        "import cv2\n",
        "import scipy.misc\n",
        "\n",
        "!pip install pydicom\n",
        "import pydicom as dicom\n",
        "import os\n",
        "\n",
        "!pip install tensorflow-io\n",
        "import tensorflow as tf\n",
        "import tensorflow_io as tfio"
      ],
      "execution_count": null,
      "outputs": [
        {
          "output_type": "stream",
          "name": "stdout",
          "text": [
            "Requirement already satisfied: matplotlib in /usr/local/lib/python3.7/dist-packages (3.4.3)\n",
            "Requirement already satisfied: pyparsing>=2.2.1 in /usr/local/lib/python3.7/dist-packages (from matplotlib) (2.4.7)\n",
            "Requirement already satisfied: pillow>=6.2.0 in /usr/local/lib/python3.7/dist-packages (from matplotlib) (7.1.2)\n",
            "Requirement already satisfied: cycler>=0.10 in /usr/local/lib/python3.7/dist-packages (from matplotlib) (0.10.0)\n",
            "Requirement already satisfied: kiwisolver>=1.0.1 in /usr/local/lib/python3.7/dist-packages (from matplotlib) (1.3.1)\n",
            "Requirement already satisfied: numpy>=1.16 in /usr/local/lib/python3.7/dist-packages (from matplotlib) (1.19.5)\n",
            "Requirement already satisfied: python-dateutil>=2.7 in /usr/local/lib/python3.7/dist-packages (from matplotlib) (2.8.2)\n",
            "Requirement already satisfied: six in /usr/local/lib/python3.7/dist-packages (from cycler>=0.10->matplotlib) (1.15.0)\n",
            "Requirement already satisfied: opencv-python in /usr/local/lib/python3.7/dist-packages (4.1.2.30)\n",
            "Requirement already satisfied: numpy>=1.14.5 in /usr/local/lib/python3.7/dist-packages (from opencv-python) (1.19.5)\n",
            "Requirement already satisfied: pydicom in /usr/local/lib/python3.7/dist-packages (2.2.1)\n",
            "Requirement already satisfied: tensorflow-io in /usr/local/lib/python3.7/dist-packages (0.20.0)\n",
            "Requirement already satisfied: tensorflow<2.7.0,>=2.6.0 in /usr/local/lib/python3.7/dist-packages (from tensorflow-io) (2.6.0)\n",
            "Requirement already satisfied: tensorflow-io-gcs-filesystem==0.20.0 in /usr/local/lib/python3.7/dist-packages (from tensorflow-io) (0.20.0)\n",
            "Requirement already satisfied: opt-einsum~=3.3.0 in /usr/local/lib/python3.7/dist-packages (from tensorflow<2.7.0,>=2.6.0->tensorflow-io) (3.3.0)\n",
            "Requirement already satisfied: keras~=2.6 in /usr/local/lib/python3.7/dist-packages (from tensorflow<2.7.0,>=2.6.0->tensorflow-io) (2.6.0)\n",
            "Requirement already satisfied: clang~=5.0 in /usr/local/lib/python3.7/dist-packages (from tensorflow<2.7.0,>=2.6.0->tensorflow-io) (5.0)\n",
            "Requirement already satisfied: tensorflow-estimator~=2.6 in /usr/local/lib/python3.7/dist-packages (from tensorflow<2.7.0,>=2.6.0->tensorflow-io) (2.6.0)\n",
            "Requirement already satisfied: wrapt~=1.12.1 in /usr/local/lib/python3.7/dist-packages (from tensorflow<2.7.0,>=2.6.0->tensorflow-io) (1.12.1)\n",
            "Requirement already satisfied: tensorboard~=2.6 in /usr/local/lib/python3.7/dist-packages (from tensorflow<2.7.0,>=2.6.0->tensorflow-io) (2.6.0)\n",
            "Requirement already satisfied: keras-preprocessing~=1.1.2 in /usr/local/lib/python3.7/dist-packages (from tensorflow<2.7.0,>=2.6.0->tensorflow-io) (1.1.2)\n",
            "Requirement already satisfied: absl-py~=0.10 in /usr/local/lib/python3.7/dist-packages (from tensorflow<2.7.0,>=2.6.0->tensorflow-io) (0.12.0)\n",
            "Requirement already satisfied: h5py~=3.1.0 in /usr/local/lib/python3.7/dist-packages (from tensorflow<2.7.0,>=2.6.0->tensorflow-io) (3.1.0)\n",
            "Requirement already satisfied: typing-extensions~=3.7.4 in /usr/local/lib/python3.7/dist-packages (from tensorflow<2.7.0,>=2.6.0->tensorflow-io) (3.7.4.3)\n",
            "Requirement already satisfied: gast==0.4.0 in /usr/local/lib/python3.7/dist-packages (from tensorflow<2.7.0,>=2.6.0->tensorflow-io) (0.4.0)\n",
            "Requirement already satisfied: astunparse~=1.6.3 in /usr/local/lib/python3.7/dist-packages (from tensorflow<2.7.0,>=2.6.0->tensorflow-io) (1.6.3)\n",
            "Requirement already satisfied: termcolor~=1.1.0 in /usr/local/lib/python3.7/dist-packages (from tensorflow<2.7.0,>=2.6.0->tensorflow-io) (1.1.0)\n",
            "Requirement already satisfied: wheel~=0.35 in /usr/local/lib/python3.7/dist-packages (from tensorflow<2.7.0,>=2.6.0->tensorflow-io) (0.37.0)\n",
            "Requirement already satisfied: flatbuffers~=1.12.0 in /usr/local/lib/python3.7/dist-packages (from tensorflow<2.7.0,>=2.6.0->tensorflow-io) (1.12)\n",
            "Requirement already satisfied: google-pasta~=0.2 in /usr/local/lib/python3.7/dist-packages (from tensorflow<2.7.0,>=2.6.0->tensorflow-io) (0.2.0)\n",
            "Requirement already satisfied: numpy~=1.19.2 in /usr/local/lib/python3.7/dist-packages (from tensorflow<2.7.0,>=2.6.0->tensorflow-io) (1.19.5)\n",
            "Requirement already satisfied: protobuf>=3.9.2 in /usr/local/lib/python3.7/dist-packages (from tensorflow<2.7.0,>=2.6.0->tensorflow-io) (3.17.3)\n",
            "Requirement already satisfied: grpcio<2.0,>=1.37.0 in /usr/local/lib/python3.7/dist-packages (from tensorflow<2.7.0,>=2.6.0->tensorflow-io) (1.39.0)\n",
            "Requirement already satisfied: six~=1.15.0 in /usr/local/lib/python3.7/dist-packages (from tensorflow<2.7.0,>=2.6.0->tensorflow-io) (1.15.0)\n",
            "Requirement already satisfied: cached-property in /usr/local/lib/python3.7/dist-packages (from h5py~=3.1.0->tensorflow<2.7.0,>=2.6.0->tensorflow-io) (1.5.2)\n",
            "Requirement already satisfied: setuptools>=41.0.0 in /usr/local/lib/python3.7/dist-packages (from tensorboard~=2.6->tensorflow<2.7.0,>=2.6.0->tensorflow-io) (57.4.0)\n",
            "Requirement already satisfied: tensorboard-data-server<0.7.0,>=0.6.0 in /usr/local/lib/python3.7/dist-packages (from tensorboard~=2.6->tensorflow<2.7.0,>=2.6.0->tensorflow-io) (0.6.1)\n",
            "Requirement already satisfied: google-auth-oauthlib<0.5,>=0.4.1 in /usr/local/lib/python3.7/dist-packages (from tensorboard~=2.6->tensorflow<2.7.0,>=2.6.0->tensorflow-io) (0.4.5)\n",
            "Requirement already satisfied: werkzeug>=0.11.15 in /usr/local/lib/python3.7/dist-packages (from tensorboard~=2.6->tensorflow<2.7.0,>=2.6.0->tensorflow-io) (1.0.1)\n",
            "Requirement already satisfied: google-auth<2,>=1.6.3 in /usr/local/lib/python3.7/dist-packages (from tensorboard~=2.6->tensorflow<2.7.0,>=2.6.0->tensorflow-io) (1.34.0)\n",
            "Requirement already satisfied: requests<3,>=2.21.0 in /usr/local/lib/python3.7/dist-packages (from tensorboard~=2.6->tensorflow<2.7.0,>=2.6.0->tensorflow-io) (2.23.0)\n",
            "Requirement already satisfied: tensorboard-plugin-wit>=1.6.0 in /usr/local/lib/python3.7/dist-packages (from tensorboard~=2.6->tensorflow<2.7.0,>=2.6.0->tensorflow-io) (1.8.0)\n",
            "Requirement already satisfied: markdown>=2.6.8 in /usr/local/lib/python3.7/dist-packages (from tensorboard~=2.6->tensorflow<2.7.0,>=2.6.0->tensorflow-io) (3.3.4)\n",
            "Requirement already satisfied: rsa<5,>=3.1.4 in /usr/local/lib/python3.7/dist-packages (from google-auth<2,>=1.6.3->tensorboard~=2.6->tensorflow<2.7.0,>=2.6.0->tensorflow-io) (4.7.2)\n",
            "Requirement already satisfied: pyasn1-modules>=0.2.1 in /usr/local/lib/python3.7/dist-packages (from google-auth<2,>=1.6.3->tensorboard~=2.6->tensorflow<2.7.0,>=2.6.0->tensorflow-io) (0.2.8)\n",
            "Requirement already satisfied: cachetools<5.0,>=2.0.0 in /usr/local/lib/python3.7/dist-packages (from google-auth<2,>=1.6.3->tensorboard~=2.6->tensorflow<2.7.0,>=2.6.0->tensorflow-io) (4.2.2)\n",
            "Requirement already satisfied: requests-oauthlib>=0.7.0 in /usr/local/lib/python3.7/dist-packages (from google-auth-oauthlib<0.5,>=0.4.1->tensorboard~=2.6->tensorflow<2.7.0,>=2.6.0->tensorflow-io) (1.3.0)\n",
            "Requirement already satisfied: importlib-metadata in /usr/local/lib/python3.7/dist-packages (from markdown>=2.6.8->tensorboard~=2.6->tensorflow<2.7.0,>=2.6.0->tensorflow-io) (4.6.4)\n",
            "Requirement already satisfied: pyasn1<0.5.0,>=0.4.6 in /usr/local/lib/python3.7/dist-packages (from pyasn1-modules>=0.2.1->google-auth<2,>=1.6.3->tensorboard~=2.6->tensorflow<2.7.0,>=2.6.0->tensorflow-io) (0.4.8)\n",
            "Requirement already satisfied: urllib3!=1.25.0,!=1.25.1,<1.26,>=1.21.1 in /usr/local/lib/python3.7/dist-packages (from requests<3,>=2.21.0->tensorboard~=2.6->tensorflow<2.7.0,>=2.6.0->tensorflow-io) (1.24.3)\n",
            "Requirement already satisfied: idna<3,>=2.5 in /usr/local/lib/python3.7/dist-packages (from requests<3,>=2.21.0->tensorboard~=2.6->tensorflow<2.7.0,>=2.6.0->tensorflow-io) (2.10)\n",
            "Requirement already satisfied: certifi>=2017.4.17 in /usr/local/lib/python3.7/dist-packages (from requests<3,>=2.21.0->tensorboard~=2.6->tensorflow<2.7.0,>=2.6.0->tensorflow-io) (2021.5.30)\n",
            "Requirement already satisfied: chardet<4,>=3.0.2 in /usr/local/lib/python3.7/dist-packages (from requests<3,>=2.21.0->tensorboard~=2.6->tensorflow<2.7.0,>=2.6.0->tensorflow-io) (3.0.4)\n",
            "Requirement already satisfied: oauthlib>=3.0.0 in /usr/local/lib/python3.7/dist-packages (from requests-oauthlib>=0.7.0->google-auth-oauthlib<0.5,>=0.4.1->tensorboard~=2.6->tensorflow<2.7.0,>=2.6.0->tensorflow-io) (3.1.1)\n",
            "Requirement already satisfied: zipp>=0.5 in /usr/local/lib/python3.7/dist-packages (from importlib-metadata->markdown>=2.6.8->tensorboard~=2.6->tensorflow<2.7.0,>=2.6.0->tensorflow-io) (3.5.0)\n"
          ]
        }
      ]
    },
    {
      "cell_type": "markdown",
      "metadata": {
        "id": "NjMvmdt-Dlyv"
      },
      "source": [
        "## Carga de datos\n",
        "\n",
        "df1 representa al archivo 'train_image_level.csv'\n",
        "\n",
        "df2 representa al archivo 'train_stydy_level.csv'"
      ]
    },
    {
      "cell_type": "code",
      "metadata": {
        "id": "6tuvsdAPk7he"
      },
      "source": [
        "df1 = pd.read_csv('train_image_level.csv')\n",
        "df1['StudyInstanceUID'] = df1['StudyInstanceUID'].str.rstrip(' ')\n",
        "df1.StudyInstanceUID = df1.StudyInstanceUID.astype(str)\n",
        "df1.StudyInstanceUID = df1.StudyInstanceUID.apply(str)"
      ],
      "execution_count": null,
      "outputs": []
    },
    {
      "cell_type": "code",
      "metadata": {
        "id": "cLzaIWTDk7he"
      },
      "source": [
        "df2 = pd.read_csv('train_study_level.csv')\n",
        "df2['id'] = df2['id'].str.replace('_study', '')\n",
        "df2['id'] = df2['id'].str.rstrip(' ')\n",
        "df2.id = df2.id.astype(str)\n",
        "df2.id = df2.id.apply(str)"
      ],
      "execution_count": null,
      "outputs": []
    },
    {
      "cell_type": "markdown",
      "metadata": {
        "id": "Q5mv5NAKIu5T"
      },
      "source": [
        "## Analisis Exploratorio"
      ]
    },
    {
      "cell_type": "code",
      "metadata": {
        "id": "QbmpL3HJk7he",
        "colab": {
          "base_uri": "https://localhost:8080/",
          "height": 272
        },
        "outputId": "7547ec66-d033-4699-b1a9-365c023648d3"
      },
      "source": [
        "df1.head()"
      ],
      "execution_count": null,
      "outputs": [
        {
          "output_type": "execute_result",
          "data": {
            "text/html": [
              "<div>\n",
              "<style scoped>\n",
              "    .dataframe tbody tr th:only-of-type {\n",
              "        vertical-align: middle;\n",
              "    }\n",
              "\n",
              "    .dataframe tbody tr th {\n",
              "        vertical-align: top;\n",
              "    }\n",
              "\n",
              "    .dataframe thead th {\n",
              "        text-align: right;\n",
              "    }\n",
              "</style>\n",
              "<table border=\"1\" class=\"dataframe\">\n",
              "  <thead>\n",
              "    <tr style=\"text-align: right;\">\n",
              "      <th></th>\n",
              "      <th>id</th>\n",
              "      <th>boxes</th>\n",
              "      <th>label</th>\n",
              "      <th>StudyInstanceUID</th>\n",
              "    </tr>\n",
              "  </thead>\n",
              "  <tbody>\n",
              "    <tr>\n",
              "      <th>0</th>\n",
              "      <td>000a312787f2_image</td>\n",
              "      <td>[{'x': 789.28836, 'y': 582.43035, 'width': 102...</td>\n",
              "      <td>opacity 1 789.28836 582.43035 1815.94498 2499....</td>\n",
              "      <td>5776db0cec75</td>\n",
              "    </tr>\n",
              "    <tr>\n",
              "      <th>1</th>\n",
              "      <td>000c3a3f293f_image</td>\n",
              "      <td>NaN</td>\n",
              "      <td>none 1 0 0 1 1</td>\n",
              "      <td>ff0879eb20ed</td>\n",
              "    </tr>\n",
              "    <tr>\n",
              "      <th>2</th>\n",
              "      <td>0012ff7358bc_image</td>\n",
              "      <td>[{'x': 677.42216, 'y': 197.97662, 'width': 867...</td>\n",
              "      <td>opacity 1 677.42216 197.97662 1545.21983 1197....</td>\n",
              "      <td>9d514ce429a7</td>\n",
              "    </tr>\n",
              "    <tr>\n",
              "      <th>3</th>\n",
              "      <td>001398f4ff4f_image</td>\n",
              "      <td>[{'x': 2729, 'y': 2181.33331, 'width': 948.000...</td>\n",
              "      <td>opacity 1 2729 2181.33331 3677.00012 2785.33331</td>\n",
              "      <td>28dddc8559b2</td>\n",
              "    </tr>\n",
              "    <tr>\n",
              "      <th>4</th>\n",
              "      <td>001bd15d1891_image</td>\n",
              "      <td>[{'x': 623.23328, 'y': 1050, 'width': 714, 'he...</td>\n",
              "      <td>opacity 1 623.23328 1050 1337.23328 2156 opaci...</td>\n",
              "      <td>dfd9fdd85a3e</td>\n",
              "    </tr>\n",
              "  </tbody>\n",
              "</table>\n",
              "</div>"
            ],
            "text/plain": [
              "                   id  ... StudyInstanceUID\n",
              "0  000a312787f2_image  ...     5776db0cec75\n",
              "1  000c3a3f293f_image  ...     ff0879eb20ed\n",
              "2  0012ff7358bc_image  ...     9d514ce429a7\n",
              "3  001398f4ff4f_image  ...     28dddc8559b2\n",
              "4  001bd15d1891_image  ...     dfd9fdd85a3e\n",
              "\n",
              "[5 rows x 4 columns]"
            ]
          },
          "metadata": {},
          "execution_count": 4
        }
      ]
    },
    {
      "cell_type": "markdown",
      "metadata": {
        "id": "yn2-ByMQHYXH"
      },
      "source": [
        "##### Hallazgo\n",
        "Se realizo una inspeccion de elementos dentro de boxes, para ver si es una lista que contiene un diccionario singular o si puede contener multiples diccionarios o bounding boxes"
      ]
    },
    {
      "cell_type": "code",
      "metadata": {
        "id": "K1abplf-k7hf",
        "colab": {
          "base_uri": "https://localhost:8080/",
          "height": 54
        },
        "outputId": "401fe7aa-5220-4afe-e5a4-4d8e0a293439"
      },
      "source": [
        "df1['boxes'][0]"
      ],
      "execution_count": null,
      "outputs": [
        {
          "output_type": "execute_result",
          "data": {
            "application/vnd.google.colaboratory.intrinsic+json": {
              "type": "string"
            },
            "text/plain": [
              "\"[{'x': 789.28836, 'y': 582.43035, 'width': 1026.65662, 'height': 1917.30292}, {'x': 2245.91208, 'y': 591.20528, 'width': 1094.66162, 'height': 1761.54944}]\""
            ]
          },
          "metadata": {},
          "execution_count": 5
        }
      ]
    },
    {
      "cell_type": "code",
      "metadata": {
        "id": "y_yd79R4k7hf",
        "colab": {
          "base_uri": "https://localhost:8080/"
        },
        "outputId": "e5dda10f-9e18-439c-863b-ff49e61c6254"
      },
      "source": [
        "df1.info()"
      ],
      "execution_count": null,
      "outputs": [
        {
          "output_type": "stream",
          "name": "stdout",
          "text": [
            "<class 'pandas.core.frame.DataFrame'>\n",
            "RangeIndex: 6334 entries, 0 to 6333\n",
            "Data columns (total 4 columns):\n",
            " #   Column            Non-Null Count  Dtype \n",
            "---  ------            --------------  ----- \n",
            " 0   id                6334 non-null   object\n",
            " 1   boxes             4294 non-null   object\n",
            " 2   label             6334 non-null   object\n",
            " 3   StudyInstanceUID  6334 non-null   object\n",
            "dtypes: object(4)\n",
            "memory usage: 198.1+ KB\n"
          ]
        }
      ]
    },
    {
      "cell_type": "code",
      "metadata": {
        "id": "XOnZXrTok7hg",
        "colab": {
          "base_uri": "https://localhost:8080/",
          "height": 221
        },
        "outputId": "7587a711-ceba-4e51-f7de-c46d881aba71"
      },
      "source": [
        "df2.head()"
      ],
      "execution_count": null,
      "outputs": [
        {
          "output_type": "execute_result",
          "data": {
            "text/html": [
              "<div>\n",
              "<style scoped>\n",
              "    .dataframe tbody tr th:only-of-type {\n",
              "        vertical-align: middle;\n",
              "    }\n",
              "\n",
              "    .dataframe tbody tr th {\n",
              "        vertical-align: top;\n",
              "    }\n",
              "\n",
              "    .dataframe thead th {\n",
              "        text-align: right;\n",
              "    }\n",
              "</style>\n",
              "<table border=\"1\" class=\"dataframe\">\n",
              "  <thead>\n",
              "    <tr style=\"text-align: right;\">\n",
              "      <th></th>\n",
              "      <th>id</th>\n",
              "      <th>Negative for Pneumonia</th>\n",
              "      <th>Typical Appearance</th>\n",
              "      <th>Indeterminate Appearance</th>\n",
              "      <th>Atypical Appearance</th>\n",
              "    </tr>\n",
              "  </thead>\n",
              "  <tbody>\n",
              "    <tr>\n",
              "      <th>0</th>\n",
              "      <td>00086460a852</td>\n",
              "      <td>0</td>\n",
              "      <td>1</td>\n",
              "      <td>0</td>\n",
              "      <td>0</td>\n",
              "    </tr>\n",
              "    <tr>\n",
              "      <th>1</th>\n",
              "      <td>000c9c05fd14</td>\n",
              "      <td>0</td>\n",
              "      <td>0</td>\n",
              "      <td>0</td>\n",
              "      <td>1</td>\n",
              "    </tr>\n",
              "    <tr>\n",
              "      <th>2</th>\n",
              "      <td>00292f8c37bd</td>\n",
              "      <td>1</td>\n",
              "      <td>0</td>\n",
              "      <td>0</td>\n",
              "      <td>0</td>\n",
              "    </tr>\n",
              "    <tr>\n",
              "      <th>3</th>\n",
              "      <td>005057b3f880</td>\n",
              "      <td>1</td>\n",
              "      <td>0</td>\n",
              "      <td>0</td>\n",
              "      <td>0</td>\n",
              "    </tr>\n",
              "    <tr>\n",
              "      <th>4</th>\n",
              "      <td>0051d9b12e72</td>\n",
              "      <td>0</td>\n",
              "      <td>0</td>\n",
              "      <td>0</td>\n",
              "      <td>1</td>\n",
              "    </tr>\n",
              "  </tbody>\n",
              "</table>\n",
              "</div>"
            ],
            "text/plain": [
              "             id  ...  Atypical Appearance\n",
              "0  00086460a852  ...                    0\n",
              "1  000c9c05fd14  ...                    1\n",
              "2  00292f8c37bd  ...                    0\n",
              "3  005057b3f880  ...                    0\n",
              "4  0051d9b12e72  ...                    1\n",
              "\n",
              "[5 rows x 5 columns]"
            ]
          },
          "metadata": {},
          "execution_count": 7
        }
      ]
    },
    {
      "cell_type": "code",
      "metadata": {
        "id": "2gsztVxgk7hg",
        "colab": {
          "base_uri": "https://localhost:8080/"
        },
        "outputId": "f33883d7-c183-4157-e13a-bb84f8ea83b8"
      },
      "source": [
        "df2.info()"
      ],
      "execution_count": null,
      "outputs": [
        {
          "output_type": "stream",
          "name": "stdout",
          "text": [
            "<class 'pandas.core.frame.DataFrame'>\n",
            "RangeIndex: 6054 entries, 0 to 6053\n",
            "Data columns (total 5 columns):\n",
            " #   Column                    Non-Null Count  Dtype \n",
            "---  ------                    --------------  ----- \n",
            " 0   id                        6054 non-null   object\n",
            " 1   Negative for Pneumonia    6054 non-null   int64 \n",
            " 2   Typical Appearance        6054 non-null   int64 \n",
            " 3   Indeterminate Appearance  6054 non-null   int64 \n",
            " 4   Atypical Appearance       6054 non-null   int64 \n",
            "dtypes: int64(4), object(1)\n",
            "memory usage: 236.6+ KB\n"
          ]
        }
      ]
    },
    {
      "cell_type": "markdown",
      "metadata": {
        "id": "VDAxzvpJJFwb"
      },
      "source": [
        "##### **Hallazgo** \n",
        "\n",
        "El StudyInstanceUID del DataFrame df1 es compatible con el id del DataFrame df2, por lo que se puede hacer merge, para unir ambos DataFrames en uno solo."
      ]
    },
    {
      "cell_type": "code",
      "metadata": {
        "id": "NZLrO2Mok7hg"
      },
      "source": [
        "df = pd.merge(df1, df2, left_on='StudyInstanceUID', right_on='id', how='inner')"
      ],
      "execution_count": null,
      "outputs": []
    },
    {
      "cell_type": "code",
      "metadata": {
        "id": "CVOtwDeZk7hh",
        "colab": {
          "base_uri": "https://localhost:8080/",
          "height": 638
        },
        "outputId": "c198761b-6fc1-48f7-f6b2-92ed50af3237"
      },
      "source": [
        "df.head()"
      ],
      "execution_count": null,
      "outputs": [
        {
          "output_type": "execute_result",
          "data": {
            "text/html": [
              "<div>\n",
              "<style scoped>\n",
              "    .dataframe tbody tr th:only-of-type {\n",
              "        vertical-align: middle;\n",
              "    }\n",
              "\n",
              "    .dataframe tbody tr th {\n",
              "        vertical-align: top;\n",
              "    }\n",
              "\n",
              "    .dataframe thead th {\n",
              "        text-align: right;\n",
              "    }\n",
              "</style>\n",
              "<table border=\"1\" class=\"dataframe\">\n",
              "  <thead>\n",
              "    <tr style=\"text-align: right;\">\n",
              "      <th></th>\n",
              "      <th>id_x</th>\n",
              "      <th>boxes</th>\n",
              "      <th>label</th>\n",
              "      <th>StudyInstanceUID</th>\n",
              "      <th>id_y</th>\n",
              "      <th>Negative for Pneumonia</th>\n",
              "      <th>Typical Appearance</th>\n",
              "      <th>Indeterminate Appearance</th>\n",
              "      <th>Atypical Appearance</th>\n",
              "    </tr>\n",
              "  </thead>\n",
              "  <tbody>\n",
              "    <tr>\n",
              "      <th>0</th>\n",
              "      <td>000a312787f2_image</td>\n",
              "      <td>[{'x': 789.28836, 'y': 582.43035, 'width': 102...</td>\n",
              "      <td>opacity 1 789.28836 582.43035 1815.94498 2499....</td>\n",
              "      <td>5776db0cec75</td>\n",
              "      <td>5776db0cec75</td>\n",
              "      <td>0</td>\n",
              "      <td>1</td>\n",
              "      <td>0</td>\n",
              "      <td>0</td>\n",
              "    </tr>\n",
              "    <tr>\n",
              "      <th>1</th>\n",
              "      <td>000c3a3f293f_image</td>\n",
              "      <td>NaN</td>\n",
              "      <td>none 1 0 0 1 1</td>\n",
              "      <td>ff0879eb20ed</td>\n",
              "      <td>ff0879eb20ed</td>\n",
              "      <td>1</td>\n",
              "      <td>0</td>\n",
              "      <td>0</td>\n",
              "      <td>0</td>\n",
              "    </tr>\n",
              "    <tr>\n",
              "      <th>2</th>\n",
              "      <td>0012ff7358bc_image</td>\n",
              "      <td>[{'x': 677.42216, 'y': 197.97662, 'width': 867...</td>\n",
              "      <td>opacity 1 677.42216 197.97662 1545.21983 1197....</td>\n",
              "      <td>9d514ce429a7</td>\n",
              "      <td>9d514ce429a7</td>\n",
              "      <td>0</td>\n",
              "      <td>1</td>\n",
              "      <td>0</td>\n",
              "      <td>0</td>\n",
              "    </tr>\n",
              "    <tr>\n",
              "      <th>3</th>\n",
              "      <td>001398f4ff4f_image</td>\n",
              "      <td>[{'x': 2729, 'y': 2181.33331, 'width': 948.000...</td>\n",
              "      <td>opacity 1 2729 2181.33331 3677.00012 2785.33331</td>\n",
              "      <td>28dddc8559b2</td>\n",
              "      <td>28dddc8559b2</td>\n",
              "      <td>0</td>\n",
              "      <td>0</td>\n",
              "      <td>0</td>\n",
              "      <td>1</td>\n",
              "    </tr>\n",
              "    <tr>\n",
              "      <th>4</th>\n",
              "      <td>001bd15d1891_image</td>\n",
              "      <td>[{'x': 623.23328, 'y': 1050, 'width': 714, 'he...</td>\n",
              "      <td>opacity 1 623.23328 1050 1337.23328 2156 opaci...</td>\n",
              "      <td>dfd9fdd85a3e</td>\n",
              "      <td>dfd9fdd85a3e</td>\n",
              "      <td>0</td>\n",
              "      <td>1</td>\n",
              "      <td>0</td>\n",
              "      <td>0</td>\n",
              "    </tr>\n",
              "  </tbody>\n",
              "</table>\n",
              "</div>"
            ],
            "text/plain": [
              "                 id_x  ... Atypical Appearance\n",
              "0  000a312787f2_image  ...                   0\n",
              "1  000c3a3f293f_image  ...                   0\n",
              "2  0012ff7358bc_image  ...                   0\n",
              "3  001398f4ff4f_image  ...                   1\n",
              "4  001bd15d1891_image  ...                   0\n",
              "\n",
              "[5 rows x 9 columns]"
            ]
          },
          "metadata": {},
          "execution_count": 38
        }
      ]
    },
    {
      "cell_type": "code",
      "metadata": {
        "id": "kv8i9tc3k7hh",
        "colab": {
          "base_uri": "https://localhost:8080/"
        },
        "outputId": "64128d56-e7ae-4af6-80e0-8546c7420fbe"
      },
      "source": [
        "df.info()"
      ],
      "execution_count": null,
      "outputs": [
        {
          "output_type": "stream",
          "name": "stdout",
          "text": [
            "<class 'pandas.core.frame.DataFrame'>\n",
            "Int64Index: 6334 entries, 0 to 6333\n",
            "Data columns (total 9 columns):\n",
            " #   Column                    Non-Null Count  Dtype \n",
            "---  ------                    --------------  ----- \n",
            " 0   id_x                      6334 non-null   object\n",
            " 1   boxes                     4294 non-null   object\n",
            " 2   label                     6334 non-null   object\n",
            " 3   StudyInstanceUID          6334 non-null   object\n",
            " 4   id_y                      6334 non-null   object\n",
            " 5   Negative for Pneumonia    6334 non-null   int64 \n",
            " 6   Typical Appearance        6334 non-null   int64 \n",
            " 7   Indeterminate Appearance  6334 non-null   int64 \n",
            " 8   Atypical Appearance       6334 non-null   int64 \n",
            "dtypes: int64(4), object(5)\n",
            "memory usage: 494.8+ KB\n"
          ]
        }
      ]
    },
    {
      "cell_type": "code",
      "metadata": {
        "id": "SPc6_9sXk7hh",
        "colab": {
          "base_uri": "https://localhost:8080/",
          "height": 853
        },
        "outputId": "faf74a9d-41ee-4a38-d1e3-7c02d6b1fdc5"
      },
      "source": [
        "duplicate = df[df.duplicated('StudyInstanceUID')]\n",
        "duplicate"
      ],
      "execution_count": null,
      "outputs": [
        {
          "output_type": "execute_result",
          "data": {
            "text/html": [
              "<div>\n",
              "<style scoped>\n",
              "    .dataframe tbody tr th:only-of-type {\n",
              "        vertical-align: middle;\n",
              "    }\n",
              "\n",
              "    .dataframe tbody tr th {\n",
              "        vertical-align: top;\n",
              "    }\n",
              "\n",
              "    .dataframe thead th {\n",
              "        text-align: right;\n",
              "    }\n",
              "</style>\n",
              "<table border=\"1\" class=\"dataframe\">\n",
              "  <thead>\n",
              "    <tr style=\"text-align: right;\">\n",
              "      <th></th>\n",
              "      <th>id_x</th>\n",
              "      <th>boxes</th>\n",
              "      <th>label</th>\n",
              "      <th>StudyInstanceUID</th>\n",
              "      <th>id_y</th>\n",
              "      <th>Negative for Pneumonia</th>\n",
              "      <th>Typical Appearance</th>\n",
              "      <th>Indeterminate Appearance</th>\n",
              "      <th>Atypical Appearance</th>\n",
              "    </tr>\n",
              "  </thead>\n",
              "  <tbody>\n",
              "    <tr>\n",
              "      <th>23</th>\n",
              "      <td>cada5310214b_image</td>\n",
              "      <td>[{'x': 981.75034, 'y': 256.08181, 'width': 225...</td>\n",
              "      <td>opacity 1 981.75034 256.08181 1207.54099 765.2...</td>\n",
              "      <td>1a58b43cf286</td>\n",
              "      <td>1a58b43cf286</td>\n",
              "      <td>0</td>\n",
              "      <td>1</td>\n",
              "      <td>0</td>\n",
              "      <td>0</td>\n",
              "    </tr>\n",
              "    <tr>\n",
              "      <th>26</th>\n",
              "      <td>0d4d6acc9ed3_image</td>\n",
              "      <td>NaN</td>\n",
              "      <td>none 1 0 0 1 1</td>\n",
              "      <td>74ba8f2badcb</td>\n",
              "      <td>74ba8f2badcb</td>\n",
              "      <td>1</td>\n",
              "      <td>0</td>\n",
              "      <td>0</td>\n",
              "      <td>0</td>\n",
              "    </tr>\n",
              "    <tr>\n",
              "      <th>27</th>\n",
              "      <td>93a881fb3292_image</td>\n",
              "      <td>NaN</td>\n",
              "      <td>none 1 0 0 1 1</td>\n",
              "      <td>74ba8f2badcb</td>\n",
              "      <td>74ba8f2badcb</td>\n",
              "      <td>1</td>\n",
              "      <td>0</td>\n",
              "      <td>0</td>\n",
              "      <td>0</td>\n",
              "    </tr>\n",
              "    <tr>\n",
              "      <th>28</th>\n",
              "      <td>cdd9e3aaf45a_image</td>\n",
              "      <td>NaN</td>\n",
              "      <td>none 1 0 0 1 1</td>\n",
              "      <td>74ba8f2badcb</td>\n",
              "      <td>74ba8f2badcb</td>\n",
              "      <td>1</td>\n",
              "      <td>0</td>\n",
              "      <td>0</td>\n",
              "      <td>0</td>\n",
              "    </tr>\n",
              "    <tr>\n",
              "      <th>32</th>\n",
              "      <td>b3ffe59e37c7_image</td>\n",
              "      <td>NaN</td>\n",
              "      <td>none 1 0 0 1 1</td>\n",
              "      <td>81f6b4b343f7</td>\n",
              "      <td>81f6b4b343f7</td>\n",
              "      <td>0</td>\n",
              "      <td>1</td>\n",
              "      <td>0</td>\n",
              "      <td>0</td>\n",
              "    </tr>\n",
              "    <tr>\n",
              "      <th>...</th>\n",
              "      <td>...</td>\n",
              "      <td>...</td>\n",
              "      <td>...</td>\n",
              "      <td>...</td>\n",
              "      <td>...</td>\n",
              "      <td>...</td>\n",
              "      <td>...</td>\n",
              "      <td>...</td>\n",
              "      <td>...</td>\n",
              "    </tr>\n",
              "    <tr>\n",
              "      <th>5143</th>\n",
              "      <td>d4600028f75c_image</td>\n",
              "      <td>[{'x': 399.19174, 'y': 226.69307, 'width': 827...</td>\n",
              "      <td>opacity 1 399.19174 226.69307 1226.20168999999...</td>\n",
              "      <td>8b18f1963aff</td>\n",
              "      <td>8b18f1963aff</td>\n",
              "      <td>0</td>\n",
              "      <td>1</td>\n",
              "      <td>0</td>\n",
              "      <td>0</td>\n",
              "    </tr>\n",
              "    <tr>\n",
              "      <th>5166</th>\n",
              "      <td>df3d32c8df06_image</td>\n",
              "      <td>NaN</td>\n",
              "      <td>none 1 0 0 1 1</td>\n",
              "      <td>b40f174f19a6</td>\n",
              "      <td>b40f174f19a6</td>\n",
              "      <td>0</td>\n",
              "      <td>0</td>\n",
              "      <td>1</td>\n",
              "      <td>0</td>\n",
              "    </tr>\n",
              "    <tr>\n",
              "      <th>5314</th>\n",
              "      <td>f4847d161683_image</td>\n",
              "      <td>[{'x': 702.27444, 'y': 610.99231, 'width': 786...</td>\n",
              "      <td>opacity 1 702.27444 610.99231 1488.39055 1746....</td>\n",
              "      <td>6f6cf201e2e9</td>\n",
              "      <td>6f6cf201e2e9</td>\n",
              "      <td>0</td>\n",
              "      <td>1</td>\n",
              "      <td>0</td>\n",
              "      <td>0</td>\n",
              "    </tr>\n",
              "    <tr>\n",
              "      <th>5603</th>\n",
              "      <td>dfd9078a4c6d_image</td>\n",
              "      <td>NaN</td>\n",
              "      <td>none 1 0 0 1 1</td>\n",
              "      <td>f5c94b5db0cd</td>\n",
              "      <td>f5c94b5db0cd</td>\n",
              "      <td>0</td>\n",
              "      <td>1</td>\n",
              "      <td>0</td>\n",
              "      <td>0</td>\n",
              "    </tr>\n",
              "    <tr>\n",
              "      <th>5722</th>\n",
              "      <td>f14c6029494a_image</td>\n",
              "      <td>[{'x': 860.27902, 'y': 15.31928, 'width': 771....</td>\n",
              "      <td>opacity 1 860.27902 15.31928 1631.398099999999...</td>\n",
              "      <td>c631e5f031a9</td>\n",
              "      <td>c631e5f031a9</td>\n",
              "      <td>0</td>\n",
              "      <td>1</td>\n",
              "      <td>0</td>\n",
              "      <td>0</td>\n",
              "    </tr>\n",
              "  </tbody>\n",
              "</table>\n",
              "<p>280 rows × 9 columns</p>\n",
              "</div>"
            ],
            "text/plain": [
              "                    id_x  ... Atypical Appearance\n",
              "23    cada5310214b_image  ...                   0\n",
              "26    0d4d6acc9ed3_image  ...                   0\n",
              "27    93a881fb3292_image  ...                   0\n",
              "28    cdd9e3aaf45a_image  ...                   0\n",
              "32    b3ffe59e37c7_image  ...                   0\n",
              "...                  ...  ...                 ...\n",
              "5143  d4600028f75c_image  ...                   0\n",
              "5166  df3d32c8df06_image  ...                   0\n",
              "5314  f4847d161683_image  ...                   0\n",
              "5603  dfd9078a4c6d_image  ...                   0\n",
              "5722  f14c6029494a_image  ...                   0\n",
              "\n",
              "[280 rows x 9 columns]"
            ]
          },
          "metadata": {},
          "execution_count": 12
        }
      ]
    },
    {
      "cell_type": "code",
      "metadata": {
        "id": "jA8CuqV9k7hh",
        "colab": {
          "base_uri": "https://localhost:8080/",
          "height": 853
        },
        "outputId": "c12eb2c9-c69f-40ce-e7b6-84a8082381b1"
      },
      "source": [
        "duplicate2 = df[df.duplicated('id_y')]\n",
        "duplicate2"
      ],
      "execution_count": null,
      "outputs": [
        {
          "output_type": "execute_result",
          "data": {
            "text/html": [
              "<div>\n",
              "<style scoped>\n",
              "    .dataframe tbody tr th:only-of-type {\n",
              "        vertical-align: middle;\n",
              "    }\n",
              "\n",
              "    .dataframe tbody tr th {\n",
              "        vertical-align: top;\n",
              "    }\n",
              "\n",
              "    .dataframe thead th {\n",
              "        text-align: right;\n",
              "    }\n",
              "</style>\n",
              "<table border=\"1\" class=\"dataframe\">\n",
              "  <thead>\n",
              "    <tr style=\"text-align: right;\">\n",
              "      <th></th>\n",
              "      <th>id_x</th>\n",
              "      <th>boxes</th>\n",
              "      <th>label</th>\n",
              "      <th>StudyInstanceUID</th>\n",
              "      <th>id_y</th>\n",
              "      <th>Negative for Pneumonia</th>\n",
              "      <th>Typical Appearance</th>\n",
              "      <th>Indeterminate Appearance</th>\n",
              "      <th>Atypical Appearance</th>\n",
              "    </tr>\n",
              "  </thead>\n",
              "  <tbody>\n",
              "    <tr>\n",
              "      <th>23</th>\n",
              "      <td>cada5310214b_image</td>\n",
              "      <td>[{'x': 981.75034, 'y': 256.08181, 'width': 225...</td>\n",
              "      <td>opacity 1 981.75034 256.08181 1207.54099 765.2...</td>\n",
              "      <td>1a58b43cf286</td>\n",
              "      <td>1a58b43cf286</td>\n",
              "      <td>0</td>\n",
              "      <td>1</td>\n",
              "      <td>0</td>\n",
              "      <td>0</td>\n",
              "    </tr>\n",
              "    <tr>\n",
              "      <th>26</th>\n",
              "      <td>0d4d6acc9ed3_image</td>\n",
              "      <td>NaN</td>\n",
              "      <td>none 1 0 0 1 1</td>\n",
              "      <td>74ba8f2badcb</td>\n",
              "      <td>74ba8f2badcb</td>\n",
              "      <td>1</td>\n",
              "      <td>0</td>\n",
              "      <td>0</td>\n",
              "      <td>0</td>\n",
              "    </tr>\n",
              "    <tr>\n",
              "      <th>27</th>\n",
              "      <td>93a881fb3292_image</td>\n",
              "      <td>NaN</td>\n",
              "      <td>none 1 0 0 1 1</td>\n",
              "      <td>74ba8f2badcb</td>\n",
              "      <td>74ba8f2badcb</td>\n",
              "      <td>1</td>\n",
              "      <td>0</td>\n",
              "      <td>0</td>\n",
              "      <td>0</td>\n",
              "    </tr>\n",
              "    <tr>\n",
              "      <th>28</th>\n",
              "      <td>cdd9e3aaf45a_image</td>\n",
              "      <td>NaN</td>\n",
              "      <td>none 1 0 0 1 1</td>\n",
              "      <td>74ba8f2badcb</td>\n",
              "      <td>74ba8f2badcb</td>\n",
              "      <td>1</td>\n",
              "      <td>0</td>\n",
              "      <td>0</td>\n",
              "      <td>0</td>\n",
              "    </tr>\n",
              "    <tr>\n",
              "      <th>32</th>\n",
              "      <td>b3ffe59e37c7_image</td>\n",
              "      <td>NaN</td>\n",
              "      <td>none 1 0 0 1 1</td>\n",
              "      <td>81f6b4b343f7</td>\n",
              "      <td>81f6b4b343f7</td>\n",
              "      <td>0</td>\n",
              "      <td>1</td>\n",
              "      <td>0</td>\n",
              "      <td>0</td>\n",
              "    </tr>\n",
              "    <tr>\n",
              "      <th>...</th>\n",
              "      <td>...</td>\n",
              "      <td>...</td>\n",
              "      <td>...</td>\n",
              "      <td>...</td>\n",
              "      <td>...</td>\n",
              "      <td>...</td>\n",
              "      <td>...</td>\n",
              "      <td>...</td>\n",
              "      <td>...</td>\n",
              "    </tr>\n",
              "    <tr>\n",
              "      <th>5143</th>\n",
              "      <td>d4600028f75c_image</td>\n",
              "      <td>[{'x': 399.19174, 'y': 226.69307, 'width': 827...</td>\n",
              "      <td>opacity 1 399.19174 226.69307 1226.20168999999...</td>\n",
              "      <td>8b18f1963aff</td>\n",
              "      <td>8b18f1963aff</td>\n",
              "      <td>0</td>\n",
              "      <td>1</td>\n",
              "      <td>0</td>\n",
              "      <td>0</td>\n",
              "    </tr>\n",
              "    <tr>\n",
              "      <th>5166</th>\n",
              "      <td>df3d32c8df06_image</td>\n",
              "      <td>NaN</td>\n",
              "      <td>none 1 0 0 1 1</td>\n",
              "      <td>b40f174f19a6</td>\n",
              "      <td>b40f174f19a6</td>\n",
              "      <td>0</td>\n",
              "      <td>0</td>\n",
              "      <td>1</td>\n",
              "      <td>0</td>\n",
              "    </tr>\n",
              "    <tr>\n",
              "      <th>5314</th>\n",
              "      <td>f4847d161683_image</td>\n",
              "      <td>[{'x': 702.27444, 'y': 610.99231, 'width': 786...</td>\n",
              "      <td>opacity 1 702.27444 610.99231 1488.39055 1746....</td>\n",
              "      <td>6f6cf201e2e9</td>\n",
              "      <td>6f6cf201e2e9</td>\n",
              "      <td>0</td>\n",
              "      <td>1</td>\n",
              "      <td>0</td>\n",
              "      <td>0</td>\n",
              "    </tr>\n",
              "    <tr>\n",
              "      <th>5603</th>\n",
              "      <td>dfd9078a4c6d_image</td>\n",
              "      <td>NaN</td>\n",
              "      <td>none 1 0 0 1 1</td>\n",
              "      <td>f5c94b5db0cd</td>\n",
              "      <td>f5c94b5db0cd</td>\n",
              "      <td>0</td>\n",
              "      <td>1</td>\n",
              "      <td>0</td>\n",
              "      <td>0</td>\n",
              "    </tr>\n",
              "    <tr>\n",
              "      <th>5722</th>\n",
              "      <td>f14c6029494a_image</td>\n",
              "      <td>[{'x': 860.27902, 'y': 15.31928, 'width': 771....</td>\n",
              "      <td>opacity 1 860.27902 15.31928 1631.398099999999...</td>\n",
              "      <td>c631e5f031a9</td>\n",
              "      <td>c631e5f031a9</td>\n",
              "      <td>0</td>\n",
              "      <td>1</td>\n",
              "      <td>0</td>\n",
              "      <td>0</td>\n",
              "    </tr>\n",
              "  </tbody>\n",
              "</table>\n",
              "<p>280 rows × 9 columns</p>\n",
              "</div>"
            ],
            "text/plain": [
              "                    id_x  ... Atypical Appearance\n",
              "23    cada5310214b_image  ...                   0\n",
              "26    0d4d6acc9ed3_image  ...                   0\n",
              "27    93a881fb3292_image  ...                   0\n",
              "28    cdd9e3aaf45a_image  ...                   0\n",
              "32    b3ffe59e37c7_image  ...                   0\n",
              "...                  ...  ...                 ...\n",
              "5143  d4600028f75c_image  ...                   0\n",
              "5166  df3d32c8df06_image  ...                   0\n",
              "5314  f4847d161683_image  ...                   0\n",
              "5603  dfd9078a4c6d_image  ...                   0\n",
              "5722  f14c6029494a_image  ...                   0\n",
              "\n",
              "[280 rows x 9 columns]"
            ]
          },
          "metadata": {},
          "execution_count": 13
        }
      ]
    },
    {
      "cell_type": "markdown",
      "metadata": {
        "id": "fW4046k9k7hi"
      },
      "source": [
        "##### Hallazgo\n",
        "\n",
        "Para un mismo estudio (StudyInstanceUID/id_y) pueden incluirse multiples distintas imagenes (id_x)"
      ]
    },
    {
      "cell_type": "code",
      "metadata": {
        "id": "6atOALdbk7hi",
        "colab": {
          "base_uri": "https://localhost:8080/",
          "height": 403
        },
        "outputId": "42a5b3be-4ee0-4f04-f4ee-459e84ec1258"
      },
      "source": [
        "df[df.eq('74ba8f2badcb').any(1)]"
      ],
      "execution_count": null,
      "outputs": [
        {
          "output_type": "execute_result",
          "data": {
            "text/html": [
              "<div>\n",
              "<style scoped>\n",
              "    .dataframe tbody tr th:only-of-type {\n",
              "        vertical-align: middle;\n",
              "    }\n",
              "\n",
              "    .dataframe tbody tr th {\n",
              "        vertical-align: top;\n",
              "    }\n",
              "\n",
              "    .dataframe thead th {\n",
              "        text-align: right;\n",
              "    }\n",
              "</style>\n",
              "<table border=\"1\" class=\"dataframe\">\n",
              "  <thead>\n",
              "    <tr style=\"text-align: right;\">\n",
              "      <th></th>\n",
              "      <th>id_x</th>\n",
              "      <th>boxes</th>\n",
              "      <th>label</th>\n",
              "      <th>StudyInstanceUID</th>\n",
              "      <th>id_y</th>\n",
              "      <th>Negative for Pneumonia</th>\n",
              "      <th>Typical Appearance</th>\n",
              "      <th>Indeterminate Appearance</th>\n",
              "      <th>Atypical Appearance</th>\n",
              "    </tr>\n",
              "  </thead>\n",
              "  <tbody>\n",
              "    <tr>\n",
              "      <th>25</th>\n",
              "      <td>00e3a7e91a34_image</td>\n",
              "      <td>NaN</td>\n",
              "      <td>none 1 0 0 1 1</td>\n",
              "      <td>74ba8f2badcb</td>\n",
              "      <td>74ba8f2badcb</td>\n",
              "      <td>1</td>\n",
              "      <td>0</td>\n",
              "      <td>0</td>\n",
              "      <td>0</td>\n",
              "    </tr>\n",
              "    <tr>\n",
              "      <th>26</th>\n",
              "      <td>0d4d6acc9ed3_image</td>\n",
              "      <td>NaN</td>\n",
              "      <td>none 1 0 0 1 1</td>\n",
              "      <td>74ba8f2badcb</td>\n",
              "      <td>74ba8f2badcb</td>\n",
              "      <td>1</td>\n",
              "      <td>0</td>\n",
              "      <td>0</td>\n",
              "      <td>0</td>\n",
              "    </tr>\n",
              "    <tr>\n",
              "      <th>27</th>\n",
              "      <td>93a881fb3292_image</td>\n",
              "      <td>NaN</td>\n",
              "      <td>none 1 0 0 1 1</td>\n",
              "      <td>74ba8f2badcb</td>\n",
              "      <td>74ba8f2badcb</td>\n",
              "      <td>1</td>\n",
              "      <td>0</td>\n",
              "      <td>0</td>\n",
              "      <td>0</td>\n",
              "    </tr>\n",
              "    <tr>\n",
              "      <th>28</th>\n",
              "      <td>cdd9e3aaf45a_image</td>\n",
              "      <td>NaN</td>\n",
              "      <td>none 1 0 0 1 1</td>\n",
              "      <td>74ba8f2badcb</td>\n",
              "      <td>74ba8f2badcb</td>\n",
              "      <td>1</td>\n",
              "      <td>0</td>\n",
              "      <td>0</td>\n",
              "      <td>0</td>\n",
              "    </tr>\n",
              "  </tbody>\n",
              "</table>\n",
              "</div>"
            ],
            "text/plain": [
              "                  id_x boxes  ... Indeterminate Appearance Atypical Appearance\n",
              "25  00e3a7e91a34_image   NaN  ...                        0                   0\n",
              "26  0d4d6acc9ed3_image   NaN  ...                        0                   0\n",
              "27  93a881fb3292_image   NaN  ...                        0                   0\n",
              "28  cdd9e3aaf45a_image   NaN  ...                        0                   0\n",
              "\n",
              "[4 rows x 9 columns]"
            ]
          },
          "metadata": {},
          "execution_count": 14
        }
      ]
    },
    {
      "cell_type": "markdown",
      "metadata": {
        "id": "Chn6VPuEKV-j"
      },
      "source": [
        "##### Hallazgo\n",
        "\n",
        "Por la tabla y la gráfica se puede ver que el dataset no es uniforme ya que las muestras no son 50% con label de opacity y 50% con label de none 10011, en realidad las 2/3 del dataset son de label opacity y 1/3 es de label none 10011"
      ]
    },
    {
      "cell_type": "code",
      "metadata": {
        "id": "Gd8D5ziek7hi",
        "colab": {
          "base_uri": "https://localhost:8080/",
          "height": 111
        },
        "outputId": "98b27c2d-fc9d-4c41-fbd2-e7689f0ed0d4"
      },
      "source": [
        "dfLabel = df.loc[df['label'] == 'none 1 0 0 1 1']\n",
        "dfLabelShape = dfLabel.shape[0]\n",
        "dfShape = df.shape[0]\n",
        "dfShape = dfShape - dfLabelShape\n",
        "dfProportion = pd.DataFrame({\n",
        "    'Labels' : ['Opacity', 'None'],\n",
        "    'Contador' : [dfShape, dfLabelShape],\n",
        "    'Proporcion' : [(100*dfShape/df.shape[0]), (100*dfLabelShape/df.shape[0])],\n",
        "},\n",
        "index=['Opacity', 'None'])\n",
        "dfProportion"
      ],
      "execution_count": null,
      "outputs": [
        {
          "output_type": "execute_result",
          "data": {
            "text/html": [
              "<div>\n",
              "<style scoped>\n",
              "    .dataframe tbody tr th:only-of-type {\n",
              "        vertical-align: middle;\n",
              "    }\n",
              "\n",
              "    .dataframe tbody tr th {\n",
              "        vertical-align: top;\n",
              "    }\n",
              "\n",
              "    .dataframe thead th {\n",
              "        text-align: right;\n",
              "    }\n",
              "</style>\n",
              "<table border=\"1\" class=\"dataframe\">\n",
              "  <thead>\n",
              "    <tr style=\"text-align: right;\">\n",
              "      <th></th>\n",
              "      <th>Labels</th>\n",
              "      <th>Contador</th>\n",
              "      <th>Proporcion</th>\n",
              "    </tr>\n",
              "  </thead>\n",
              "  <tbody>\n",
              "    <tr>\n",
              "      <th>Opacity</th>\n",
              "      <td>Opacity</td>\n",
              "      <td>4294</td>\n",
              "      <td>67.792864</td>\n",
              "    </tr>\n",
              "    <tr>\n",
              "      <th>None</th>\n",
              "      <td>None</td>\n",
              "      <td>2040</td>\n",
              "      <td>32.207136</td>\n",
              "    </tr>\n",
              "  </tbody>\n",
              "</table>\n",
              "</div>"
            ],
            "text/plain": [
              "          Labels  Contador  Proporcion\n",
              "Opacity  Opacity      4294   67.792864\n",
              "None        None      2040   32.207136"
            ]
          },
          "metadata": {},
          "execution_count": 15
        }
      ]
    },
    {
      "cell_type": "code",
      "metadata": {
        "id": "VUzpTddNk7hi",
        "colab": {
          "base_uri": "https://localhost:8080/",
          "height": 248
        },
        "outputId": "de2225af-1a6b-4d85-db22-e60722412980"
      },
      "source": [
        "plt.pie(dfProportion.Contador, labels=dfProportion.Labels, autopct=\"%0.1f %%\")\n",
        "plt.show()"
      ],
      "execution_count": null,
      "outputs": [
        {
          "output_type": "display_data",
          "data": {
            "image/png": "[encoded data removed]",
            "text/plain": [
              "<Figure size 432x288 with 1 Axes>"
            ]
          },
          "metadata": {}
        }
      ]
    },
    {
      "cell_type": "markdown",
      "metadata": {
        "id": "cmMmirvYPg6q"
      },
      "source": [
        "#### Dataset Completo Proporciones"
      ]
    },
    {
      "cell_type": "code",
      "metadata": {
        "id": "KM-jeN_Fk7hj"
      },
      "source": [
        "colNegPneu = df['Negative for Pneumonia'].value_counts()\n",
        "colTypApp = df['Typical Appearance'].value_counts()\n",
        "colIntApp = df['Indeterminate Appearance'].value_counts()\n",
        "colAtyApp = df['Atypical Appearance'].value_counts()"
      ],
      "execution_count": null,
      "outputs": []
    },
    {
      "cell_type": "code",
      "metadata": {
        "id": "4oaqkCgUk7hj"
      },
      "source": [
        "proportionsComplete = {\n",
        "    'Nombres de Columnas' : ['Negative for Pneumonia', 'Negative for Pneumonia', 'Typical Appearance', 'Typical Appearance', \n",
        "                             'Indeterminate Appearance', 'Indeterminate Appearance', 'Atypical Appearance', 'Atypical Appearance'],\n",
        "    'Metricas' : [0,1,0,1,0,1,0,1],\n",
        "    'Contador' : [],\n",
        "    'Proporciones' : []\n",
        "}"
      ],
      "execution_count": null,
      "outputs": []
    },
    {
      "cell_type": "code",
      "metadata": {
        "id": "-flEH8ADk7hj",
        "colab": {
          "base_uri": "https://localhost:8080/"
        },
        "outputId": "54f55a23-8d35-477d-dd8a-1f55c9426f17"
      },
      "source": [
        "listColumns = [colNegPneu, colTypApp, colIntApp, colAtyApp]\n",
        "listColumnsNames = ['Negative for Pneumonia', 'Typical Appearance', 'Indeterminate Appearance', 'Atypical Appearance']\n",
        "listCounter = []\n",
        "listProportions = []\n",
        "for i in range(len(listColumnsNames)):\n",
        "    a = (100*listColumns[i][0])/sum(listColumns[i])\n",
        "    listCounter.append(listColumns[i][0])\n",
        "    print(\"La proporcion de 0's en \", listColumnsNames[i], \"es: \\t\", a)\n",
        "    listProportions.append(a)\n",
        "    b = (100*listColumns[i][1])/sum(listColumns[i])\n",
        "    listCounter.append(listColumns[i][1])\n",
        "    print(\"La proporcion de 1's en \", listColumnsNames[i], \"es: \\t\", b)\n",
        "    listProportions.append(b)\n",
        "proportionsComplete['Contador'] = listCounter\n",
        "proportionsComplete['Proporciones'] = listProportions"
      ],
      "execution_count": null,
      "outputs": [
        {
          "output_type": "stream",
          "name": "stdout",
          "text": [
            "La proporcion de 0's en  Negative for Pneumonia es: \t 72.5923586990843\n",
            "La proporcion de 1's en  Negative for Pneumonia es: \t 27.407641300915692\n",
            "La proporcion de 0's en  Typical Appearance es: \t 52.526049889485314\n",
            "La proporcion de 1's en  Typical Appearance es: \t 47.473950110514686\n",
            "La proporcion de 0's en  Indeterminate Appearance es: \t 82.50710451531418\n",
            "La proporcion de 1's en  Indeterminate Appearance es: \t 17.49289548468582\n",
            "La proporcion de 0's en  Atypical Appearance es: \t 92.3744868961162\n",
            "La proporcion de 1's en  Atypical Appearance es: \t 7.625513103883802\n"
          ]
        }
      ]
    },
    {
      "cell_type": "markdown",
      "metadata": {
        "id": "hsCKbZdUF7v9"
      },
      "source": [
        "**Tabla de proporciones sobre las diferentes clases entre negativo neumonía e indices de posible Covid**\n",
        "\n",
        "En esta tabla se muestra las proporciones de cada clase en los casos que sean positivos (1) o negativos (0)\n",
        "\n",
        "##### Hallazgo\n",
        "En lo que se demuestra que hay un total de 4598 casos de Pneumonia, por lo que el 72.59% del dataset completo tiene algun indicio de posible Covid-19"
      ]
    },
    {
      "cell_type": "code",
      "metadata": {
        "id": "7FgsuQixk7hj",
        "colab": {
          "base_uri": "https://localhost:8080/",
          "height": 297
        },
        "outputId": "33d079f0-8c99-454f-801a-6ad35f5b258b"
      },
      "source": [
        "# Visto en tabla\n",
        "proportionsComplete = pd.DataFrame(proportionsComplete)\n",
        "proportionsComplete"
      ],
      "execution_count": null,
      "outputs": [
        {
          "output_type": "execute_result",
          "data": {
            "text/html": [
              "<div>\n",
              "<style scoped>\n",
              "    .dataframe tbody tr th:only-of-type {\n",
              "        vertical-align: middle;\n",
              "    }\n",
              "\n",
              "    .dataframe tbody tr th {\n",
              "        vertical-align: top;\n",
              "    }\n",
              "\n",
              "    .dataframe thead th {\n",
              "        text-align: right;\n",
              "    }\n",
              "</style>\n",
              "<table border=\"1\" class=\"dataframe\">\n",
              "  <thead>\n",
              "    <tr style=\"text-align: right;\">\n",
              "      <th></th>\n",
              "      <th>Nombres de Columnas</th>\n",
              "      <th>Metricas</th>\n",
              "      <th>Contador</th>\n",
              "      <th>Proporciones</th>\n",
              "    </tr>\n",
              "  </thead>\n",
              "  <tbody>\n",
              "    <tr>\n",
              "      <th>0</th>\n",
              "      <td>Negative for Pneumonia</td>\n",
              "      <td>0</td>\n",
              "      <td>4598</td>\n",
              "      <td>72.592359</td>\n",
              "    </tr>\n",
              "    <tr>\n",
              "      <th>1</th>\n",
              "      <td>Negative for Pneumonia</td>\n",
              "      <td>1</td>\n",
              "      <td>1736</td>\n",
              "      <td>27.407641</td>\n",
              "    </tr>\n",
              "    <tr>\n",
              "      <th>2</th>\n",
              "      <td>Typical Appearance</td>\n",
              "      <td>0</td>\n",
              "      <td>3327</td>\n",
              "      <td>52.526050</td>\n",
              "    </tr>\n",
              "    <tr>\n",
              "      <th>3</th>\n",
              "      <td>Typical Appearance</td>\n",
              "      <td>1</td>\n",
              "      <td>3007</td>\n",
              "      <td>47.473950</td>\n",
              "    </tr>\n",
              "    <tr>\n",
              "      <th>4</th>\n",
              "      <td>Indeterminate Appearance</td>\n",
              "      <td>0</td>\n",
              "      <td>5226</td>\n",
              "      <td>82.507105</td>\n",
              "    </tr>\n",
              "    <tr>\n",
              "      <th>5</th>\n",
              "      <td>Indeterminate Appearance</td>\n",
              "      <td>1</td>\n",
              "      <td>1108</td>\n",
              "      <td>17.492895</td>\n",
              "    </tr>\n",
              "    <tr>\n",
              "      <th>6</th>\n",
              "      <td>Atypical Appearance</td>\n",
              "      <td>0</td>\n",
              "      <td>5851</td>\n",
              "      <td>92.374487</td>\n",
              "    </tr>\n",
              "    <tr>\n",
              "      <th>7</th>\n",
              "      <td>Atypical Appearance</td>\n",
              "      <td>1</td>\n",
              "      <td>483</td>\n",
              "      <td>7.625513</td>\n",
              "    </tr>\n",
              "  </tbody>\n",
              "</table>\n",
              "</div>"
            ],
            "text/plain": [
              "        Nombres de Columnas  Metricas  Contador  Proporciones\n",
              "0    Negative for Pneumonia         0      4598     72.592359\n",
              "1    Negative for Pneumonia         1      1736     27.407641\n",
              "2        Typical Appearance         0      3327     52.526050\n",
              "3        Typical Appearance         1      3007     47.473950\n",
              "4  Indeterminate Appearance         0      5226     82.507105\n",
              "5  Indeterminate Appearance         1      1108     17.492895\n",
              "6       Atypical Appearance         0      5851     92.374487\n",
              "7       Atypical Appearance         1       483      7.625513"
            ]
          },
          "metadata": {},
          "execution_count": 20
        }
      ]
    },
    {
      "cell_type": "markdown",
      "metadata": {
        "id": "xZW4x3cEFcfB"
      },
      "source": [
        "**Gráficas de barra de frecuencia de 'Negative for Pneumonia'**\n",
        "\n",
        "Como se puede observar en esta gráfica existen 4598 casos en las que no se cumple la clase y 1736 en los que sí."
      ]
    },
    {
      "cell_type": "code",
      "metadata": {
        "id": "WYGepKzuk7hk",
        "colab": {
          "base_uri": "https://localhost:8080/",
          "height": 295
        },
        "outputId": "251e04f0-9005-4503-a0be-66f868811228"
      },
      "source": [
        "ax = colNegPneu.plot.bar()\n",
        "ax.set_title(listColumnsNames[0])\n",
        "ax.bar_label(ax.containers[0]),"
      ],
      "execution_count": null,
      "outputs": [
        {
          "output_type": "execute_result",
          "data": {
            "text/plain": [
              "([Text(0, 0, '4598'), Text(0, 0, '1736')],)"
            ]
          },
          "metadata": {},
          "execution_count": 21
        },
        {
          "output_type": "display_data",
          "data": {
            "image/png": "[encoded data removed]",
            "text/plain": [
              "<Figure size 432x288 with 1 Axes>"
            ]
          },
          "metadata": {
            "needs_background": "light"
          }
        }
      ]
    },
    {
      "cell_type": "markdown",
      "metadata": {
        "id": "hESHFPKOFMsp"
      },
      "source": [
        "**Gráficas de barra de frecuencia de 'Typical Appearance'**\n",
        "\n",
        "Como se puede observar en esta gráfica existen 3327 casos en las que no se cumple la clase y 3007 en los que sí.\n"
      ]
    },
    {
      "cell_type": "code",
      "metadata": {
        "id": "6zcsdv8vk7hk",
        "colab": {
          "base_uri": "https://localhost:8080/",
          "height": 295
        },
        "outputId": "a3b030b6-09a6-42de-9ab5-36219980721f"
      },
      "source": [
        "ax = colTypApp.plot.bar(color='red')\n",
        "ax.set_title(listColumnsNames[1])\n",
        "ax.bar_label(ax.containers[0])"
      ],
      "execution_count": null,
      "outputs": [
        {
          "output_type": "execute_result",
          "data": {
            "text/plain": [
              "[Text(0, 0, '3327'), Text(0, 0, '3007')]"
            ]
          },
          "metadata": {},
          "execution_count": 22
        },
        {
          "output_type": "display_data",
          "data": {
            "image/png": "[encoded data removed]",
            "text/plain": [
              "<Figure size 432x288 with 1 Axes>"
            ]
          },
          "metadata": {
            "needs_background": "light"
          }
        }
      ]
    },
    {
      "cell_type": "markdown",
      "metadata": {
        "id": "smuh3ySfENl7"
      },
      "source": [
        "**Gráficas de barra de frecuencia de 'Indeterminate Appearance'**\n",
        "\n",
        "Como se puede observar en esta gráfica existen 5226 casos en las que no se cumple la clase y 1108 en los que sí."
      ]
    },
    {
      "cell_type": "code",
      "metadata": {
        "id": "kJYFuRE2k7hk",
        "colab": {
          "base_uri": "https://localhost:8080/",
          "height": 295
        },
        "outputId": "dac41c79-cd32-4483-c5c2-6daee59b5ab0"
      },
      "source": [
        "ax = colIntApp.plot.bar(color='green')\n",
        "ax.set_title(listColumnsNames[2])\n",
        "ax.bar_label(ax.containers[0])"
      ],
      "execution_count": null,
      "outputs": [
        {
          "output_type": "execute_result",
          "data": {
            "text/plain": [
              "[Text(0, 0, '5226'), Text(0, 0, '1108')]"
            ]
          },
          "metadata": {},
          "execution_count": 23
        },
        {
          "output_type": "display_data",
          "data": {
            "image/png": "[encoded data removed]",
            "text/plain": [
              "<Figure size 432x288 with 1 Axes>"
            ]
          },
          "metadata": {
            "needs_background": "light"
          }
        }
      ]
    },
    {
      "cell_type": "markdown",
      "metadata": {
        "id": "omvWewasECcd"
      },
      "source": [
        "**Gráficas de barra de frecuencia de 'Atypical Appearance'**\n",
        "\n",
        "Como se puede observar en esta gráfica existen 5851 casos en las que no se cumple la clase y 483 en los que sí."
      ]
    },
    {
      "cell_type": "code",
      "metadata": {
        "id": "cR1oKh0Sk7hk",
        "colab": {
          "base_uri": "https://localhost:8080/",
          "height": 295
        },
        "outputId": "1cc5f11f-8b60-48ab-a4c3-5497cc17d987"
      },
      "source": [
        "ax = colAtyApp.plot.bar(color='orange')\n",
        "ax.set_title(listColumnsNames[3])\n",
        "ax.bar_label(ax.containers[0])"
      ],
      "execution_count": null,
      "outputs": [
        {
          "output_type": "execute_result",
          "data": {
            "text/plain": [
              "[Text(0, 0, '5851'), Text(0, 0, '483')]"
            ]
          },
          "metadata": {},
          "execution_count": 24
        },
        {
          "output_type": "display_data",
          "data": {
            "image/png": "[encoded data removed]",
            "text/plain": [
              "<Figure size 432x288 with 1 Axes>"
            ]
          },
          "metadata": {
            "needs_background": "light"
          }
        }
      ]
    },
    {
      "cell_type": "markdown",
      "metadata": {
        "id": "-z10acM2_mjC"
      },
      "source": [
        "**Gráfica de pie sobre las diferentes clases entre negativo neumonía e indices de posible Covid (dataset completo)**\n",
        "\n",
        "Como se puede observar, la clase 'typical appearance' predomina ante todas. Por consiguiente, la otra clase más común es la 'negative for pneumonia'. Luego le sigue la clase 'indeterminate appearance'. Finalmente, la menos comun es 'atypical appearance'. Podemos inferir que los titulos de las clases van acorde a su porcentaje precentado."
      ]
    },
    {
      "cell_type": "code",
      "metadata": {
        "colab": {
          "base_uri": "https://localhost:8080/",
          "height": 400
        },
        "id": "Tm_xQz-474-e",
        "outputId": "d1fc1765-6f2b-4db9-d29f-c93e3a51205d"
      },
      "source": [
        "count_values = [colNegPneu[1], colTypApp[1], colIntApp[1], colAtyApp[1]]\n",
        "labels_values = ['Negative for Pneumonia', 'Typical Appearance', 'Indeterminate Appearance', 'Atypical Appearance']\n",
        "\n",
        "plt.axis('equal')\n",
        "plt.title('Proporciones sobre las diferentes clases entre negativo neumonía e indices de posible Covid')\n",
        "plt.pie(count_values, labels=labels_values)"
      ],
      "execution_count": null,
      "outputs": [
        {
          "output_type": "execute_result",
          "data": {
            "text/plain": [
              "([<matplotlib.patches.Wedge at 0x7f6063210bd0>,\n",
              "  <matplotlib.patches.Wedge at 0x7f606321d350>,\n",
              "  <matplotlib.patches.Wedge at 0x7f606321d790>,\n",
              "  <matplotlib.patches.Wedge at 0x7f606321dcd0>],\n",
              " [Text(0.7168168491529645, 0.8343701844927204, 'Negative for Pneumonia'),\n",
              "  Text(-1.0971564952719262, -0.07904191851558096, 'Typical Appearance'),\n",
              "  Text(0.5675442945704217, -0.9422809950861593, 'Indeterminate Appearance'),\n",
              "  Text(1.068586002736162, -0.26100566039140105, 'Atypical Appearance')])"
            ]
          },
          "metadata": {},
          "execution_count": 42
        },
        {
          "output_type": "display_data",
          "data": {
            "image/png": "[encoded data removed]",
            "text/plain": [
              "<Figure size 432x288 with 1 Axes>"
            ]
          },
          "metadata": {}
        }
      ]
    },
    {
      "cell_type": "markdown",
      "metadata": {
        "id": "mVziJIFYQ2HI"
      },
      "source": [
        "#### Dataset filtrado por none 10011 Proporciones"
      ]
    },
    {
      "cell_type": "code",
      "metadata": {
        "id": "Aseh0Jt2k7hk",
        "colab": {
          "base_uri": "https://localhost:8080/",
          "height": 419
        },
        "outputId": "9a07508b-eeb9-4455-c73a-8bd61c470730"
      },
      "source": [
        "df1.loc[df1['label'] == 'none 1 0 0 1 1']"
      ],
      "execution_count": null,
      "outputs": [
        {
          "output_type": "execute_result",
          "data": {
            "text/html": [
              "<div>\n",
              "<style scoped>\n",
              "    .dataframe tbody tr th:only-of-type {\n",
              "        vertical-align: middle;\n",
              "    }\n",
              "\n",
              "    .dataframe tbody tr th {\n",
              "        vertical-align: top;\n",
              "    }\n",
              "\n",
              "    .dataframe thead th {\n",
              "        text-align: right;\n",
              "    }\n",
              "</style>\n",
              "<table border=\"1\" class=\"dataframe\">\n",
              "  <thead>\n",
              "    <tr style=\"text-align: right;\">\n",
              "      <th></th>\n",
              "      <th>id</th>\n",
              "      <th>boxes</th>\n",
              "      <th>label</th>\n",
              "      <th>StudyInstanceUID</th>\n",
              "    </tr>\n",
              "  </thead>\n",
              "  <tbody>\n",
              "    <tr>\n",
              "      <th>1</th>\n",
              "      <td>000c3a3f293f_image</td>\n",
              "      <td>NaN</td>\n",
              "      <td>none 1 0 0 1 1</td>\n",
              "      <td>ff0879eb20ed</td>\n",
              "    </tr>\n",
              "    <tr>\n",
              "      <th>6</th>\n",
              "      <td>0023f02ae886_image</td>\n",
              "      <td>NaN</td>\n",
              "      <td>none 1 0 0 1 1</td>\n",
              "      <td>2fa400b873f5</td>\n",
              "    </tr>\n",
              "    <tr>\n",
              "      <th>22</th>\n",
              "      <td>00c1515729a8_image</td>\n",
              "      <td>NaN</td>\n",
              "      <td>none 1 0 0 1 1</td>\n",
              "      <td>1a58b43cf286</td>\n",
              "    </tr>\n",
              "    <tr>\n",
              "      <th>24</th>\n",
              "      <td>00e3a7e91a34_image</td>\n",
              "      <td>NaN</td>\n",
              "      <td>none 1 0 0 1 1</td>\n",
              "      <td>74ba8f2badcb</td>\n",
              "    </tr>\n",
              "    <tr>\n",
              "      <th>26</th>\n",
              "      <td>010214f9b600_image</td>\n",
              "      <td>NaN</td>\n",
              "      <td>none 1 0 0 1 1</td>\n",
              "      <td>2a7b4e669dda</td>\n",
              "    </tr>\n",
              "    <tr>\n",
              "      <th>...</th>\n",
              "      <td>...</td>\n",
              "      <td>...</td>\n",
              "      <td>...</td>\n",
              "      <td>...</td>\n",
              "    </tr>\n",
              "    <tr>\n",
              "      <th>6322</th>\n",
              "      <td>ff7659762b75_image</td>\n",
              "      <td>NaN</td>\n",
              "      <td>none 1 0 0 1 1</td>\n",
              "      <td>4aa11ef1fd38</td>\n",
              "    </tr>\n",
              "    <tr>\n",
              "      <th>6324</th>\n",
              "      <td>ff9f10a24c27_image</td>\n",
              "      <td>NaN</td>\n",
              "      <td>none 1 0 0 1 1</td>\n",
              "      <td>a937614104e3</td>\n",
              "    </tr>\n",
              "    <tr>\n",
              "      <th>6325</th>\n",
              "      <td>ffa9fef3c7bf_image</td>\n",
              "      <td>NaN</td>\n",
              "      <td>none 1 0 0 1 1</td>\n",
              "      <td>5133bbb7b75c</td>\n",
              "    </tr>\n",
              "    <tr>\n",
              "      <th>6329</th>\n",
              "      <td>ffcc6edd9445_image</td>\n",
              "      <td>NaN</td>\n",
              "      <td>none 1 0 0 1 1</td>\n",
              "      <td>7e6c68462e06</td>\n",
              "    </tr>\n",
              "    <tr>\n",
              "      <th>6330</th>\n",
              "      <td>ffd91a2c4ca0_image</td>\n",
              "      <td>NaN</td>\n",
              "      <td>none 1 0 0 1 1</td>\n",
              "      <td>8332bdaddb6e</td>\n",
              "    </tr>\n",
              "  </tbody>\n",
              "</table>\n",
              "<p>2040 rows × 4 columns</p>\n",
              "</div>"
            ],
            "text/plain": [
              "                      id boxes           label StudyInstanceUID\n",
              "1     000c3a3f293f_image   NaN  none 1 0 0 1 1     ff0879eb20ed\n",
              "6     0023f02ae886_image   NaN  none 1 0 0 1 1     2fa400b873f5\n",
              "22    00c1515729a8_image   NaN  none 1 0 0 1 1     1a58b43cf286\n",
              "24    00e3a7e91a34_image   NaN  none 1 0 0 1 1     74ba8f2badcb\n",
              "26    010214f9b600_image   NaN  none 1 0 0 1 1     2a7b4e669dda\n",
              "...                  ...   ...             ...              ...\n",
              "6322  ff7659762b75_image   NaN  none 1 0 0 1 1     4aa11ef1fd38\n",
              "6324  ff9f10a24c27_image   NaN  none 1 0 0 1 1     a937614104e3\n",
              "6325  ffa9fef3c7bf_image   NaN  none 1 0 0 1 1     5133bbb7b75c\n",
              "6329  ffcc6edd9445_image   NaN  none 1 0 0 1 1     7e6c68462e06\n",
              "6330  ffd91a2c4ca0_image   NaN  none 1 0 0 1 1     8332bdaddb6e\n",
              "\n",
              "[2040 rows x 4 columns]"
            ]
          },
          "metadata": {},
          "execution_count": 26
        }
      ]
    },
    {
      "cell_type": "code",
      "metadata": {
        "id": "D4ysbQrik7hk",
        "colab": {
          "base_uri": "https://localhost:8080/",
          "height": 853
        },
        "outputId": "f7141d2d-59b4-4e29-efea-ee8d89be55f0"
      },
      "source": [
        "dfLabel"
      ],
      "execution_count": null,
      "outputs": [
        {
          "output_type": "execute_result",
          "data": {
            "text/html": [
              "<div>\n",
              "<style scoped>\n",
              "    .dataframe tbody tr th:only-of-type {\n",
              "        vertical-align: middle;\n",
              "    }\n",
              "\n",
              "    .dataframe tbody tr th {\n",
              "        vertical-align: top;\n",
              "    }\n",
              "\n",
              "    .dataframe thead th {\n",
              "        text-align: right;\n",
              "    }\n",
              "</style>\n",
              "<table border=\"1\" class=\"dataframe\">\n",
              "  <thead>\n",
              "    <tr style=\"text-align: right;\">\n",
              "      <th></th>\n",
              "      <th>id_x</th>\n",
              "      <th>boxes</th>\n",
              "      <th>label</th>\n",
              "      <th>StudyInstanceUID</th>\n",
              "      <th>id_y</th>\n",
              "      <th>Negative for Pneumonia</th>\n",
              "      <th>Typical Appearance</th>\n",
              "      <th>Indeterminate Appearance</th>\n",
              "      <th>Atypical Appearance</th>\n",
              "    </tr>\n",
              "  </thead>\n",
              "  <tbody>\n",
              "    <tr>\n",
              "      <th>1</th>\n",
              "      <td>000c3a3f293f_image</td>\n",
              "      <td>NaN</td>\n",
              "      <td>none 1 0 0 1 1</td>\n",
              "      <td>ff0879eb20ed</td>\n",
              "      <td>ff0879eb20ed</td>\n",
              "      <td>1</td>\n",
              "      <td>0</td>\n",
              "      <td>0</td>\n",
              "      <td>0</td>\n",
              "    </tr>\n",
              "    <tr>\n",
              "      <th>6</th>\n",
              "      <td>0023f02ae886_image</td>\n",
              "      <td>NaN</td>\n",
              "      <td>none 1 0 0 1 1</td>\n",
              "      <td>2fa400b873f5</td>\n",
              "      <td>2fa400b873f5</td>\n",
              "      <td>1</td>\n",
              "      <td>0</td>\n",
              "      <td>0</td>\n",
              "      <td>0</td>\n",
              "    </tr>\n",
              "    <tr>\n",
              "      <th>22</th>\n",
              "      <td>00c1515729a8_image</td>\n",
              "      <td>NaN</td>\n",
              "      <td>none 1 0 0 1 1</td>\n",
              "      <td>1a58b43cf286</td>\n",
              "      <td>1a58b43cf286</td>\n",
              "      <td>0</td>\n",
              "      <td>1</td>\n",
              "      <td>0</td>\n",
              "      <td>0</td>\n",
              "    </tr>\n",
              "    <tr>\n",
              "      <th>25</th>\n",
              "      <td>00e3a7e91a34_image</td>\n",
              "      <td>NaN</td>\n",
              "      <td>none 1 0 0 1 1</td>\n",
              "      <td>74ba8f2badcb</td>\n",
              "      <td>74ba8f2badcb</td>\n",
              "      <td>1</td>\n",
              "      <td>0</td>\n",
              "      <td>0</td>\n",
              "      <td>0</td>\n",
              "    </tr>\n",
              "    <tr>\n",
              "      <th>26</th>\n",
              "      <td>0d4d6acc9ed3_image</td>\n",
              "      <td>NaN</td>\n",
              "      <td>none 1 0 0 1 1</td>\n",
              "      <td>74ba8f2badcb</td>\n",
              "      <td>74ba8f2badcb</td>\n",
              "      <td>1</td>\n",
              "      <td>0</td>\n",
              "      <td>0</td>\n",
              "      <td>0</td>\n",
              "    </tr>\n",
              "    <tr>\n",
              "      <th>...</th>\n",
              "      <td>...</td>\n",
              "      <td>...</td>\n",
              "      <td>...</td>\n",
              "      <td>...</td>\n",
              "      <td>...</td>\n",
              "      <td>...</td>\n",
              "      <td>...</td>\n",
              "      <td>...</td>\n",
              "      <td>...</td>\n",
              "    </tr>\n",
              "    <tr>\n",
              "      <th>6322</th>\n",
              "      <td>ff7659762b75_image</td>\n",
              "      <td>NaN</td>\n",
              "      <td>none 1 0 0 1 1</td>\n",
              "      <td>4aa11ef1fd38</td>\n",
              "      <td>4aa11ef1fd38</td>\n",
              "      <td>1</td>\n",
              "      <td>0</td>\n",
              "      <td>0</td>\n",
              "      <td>0</td>\n",
              "    </tr>\n",
              "    <tr>\n",
              "      <th>6324</th>\n",
              "      <td>ff9f10a24c27_image</td>\n",
              "      <td>NaN</td>\n",
              "      <td>none 1 0 0 1 1</td>\n",
              "      <td>a937614104e3</td>\n",
              "      <td>a937614104e3</td>\n",
              "      <td>1</td>\n",
              "      <td>0</td>\n",
              "      <td>0</td>\n",
              "      <td>0</td>\n",
              "    </tr>\n",
              "    <tr>\n",
              "      <th>6325</th>\n",
              "      <td>ffa9fef3c7bf_image</td>\n",
              "      <td>NaN</td>\n",
              "      <td>none 1 0 0 1 1</td>\n",
              "      <td>5133bbb7b75c</td>\n",
              "      <td>5133bbb7b75c</td>\n",
              "      <td>1</td>\n",
              "      <td>0</td>\n",
              "      <td>0</td>\n",
              "      <td>0</td>\n",
              "    </tr>\n",
              "    <tr>\n",
              "      <th>6329</th>\n",
              "      <td>ffcc6edd9445_image</td>\n",
              "      <td>NaN</td>\n",
              "      <td>none 1 0 0 1 1</td>\n",
              "      <td>7e6c68462e06</td>\n",
              "      <td>7e6c68462e06</td>\n",
              "      <td>1</td>\n",
              "      <td>0</td>\n",
              "      <td>0</td>\n",
              "      <td>0</td>\n",
              "    </tr>\n",
              "    <tr>\n",
              "      <th>6330</th>\n",
              "      <td>ffd91a2c4ca0_image</td>\n",
              "      <td>NaN</td>\n",
              "      <td>none 1 0 0 1 1</td>\n",
              "      <td>8332bdaddb6e</td>\n",
              "      <td>8332bdaddb6e</td>\n",
              "      <td>1</td>\n",
              "      <td>0</td>\n",
              "      <td>0</td>\n",
              "      <td>0</td>\n",
              "    </tr>\n",
              "  </tbody>\n",
              "</table>\n",
              "<p>2040 rows × 9 columns</p>\n",
              "</div>"
            ],
            "text/plain": [
              "                    id_x boxes  ... Indeterminate Appearance Atypical Appearance\n",
              "1     000c3a3f293f_image   NaN  ...                        0                   0\n",
              "6     0023f02ae886_image   NaN  ...                        0                   0\n",
              "22    00c1515729a8_image   NaN  ...                        0                   0\n",
              "25    00e3a7e91a34_image   NaN  ...                        0                   0\n",
              "26    0d4d6acc9ed3_image   NaN  ...                        0                   0\n",
              "...                  ...   ...  ...                      ...                 ...\n",
              "6322  ff7659762b75_image   NaN  ...                        0                   0\n",
              "6324  ff9f10a24c27_image   NaN  ...                        0                   0\n",
              "6325  ffa9fef3c7bf_image   NaN  ...                        0                   0\n",
              "6329  ffcc6edd9445_image   NaN  ...                        0                   0\n",
              "6330  ffd91a2c4ca0_image   NaN  ...                        0                   0\n",
              "\n",
              "[2040 rows x 9 columns]"
            ]
          },
          "metadata": {},
          "execution_count": 27
        }
      ]
    },
    {
      "cell_type": "code",
      "metadata": {
        "id": "uw3sT5a9k7hk"
      },
      "source": [
        "colNegPneuLabel = dfLabel['Negative for Pneumonia'].value_counts()\n",
        "colTypAppLabel = dfLabel['Typical Appearance'].value_counts()\n",
        "colIntAppLabel = dfLabel['Indeterminate Appearance'].value_counts()\n",
        "colAtyAppLabel = dfLabel['Atypical Appearance'].value_counts()"
      ],
      "execution_count": null,
      "outputs": []
    },
    {
      "cell_type": "code",
      "metadata": {
        "id": "bsPlX8dVk7hk"
      },
      "source": [
        "proportionsCompleteNone = {\n",
        "    'Nombres de Columnas' : ['Negative for Pneumonia', 'Negative for Pneumonia', 'Typical Appearance', 'Typical Appearance', \n",
        "                             'Indeterminate Appearance', 'Indeterminate Appearance', 'Atypical Appearance', 'Atypical Appearance'],\n",
        "    'Metricas' : [0,1,0,1,0,1,0,1],\n",
        "    'Contador' : [],\n",
        "    'Proporciones' : []\n",
        "}"
      ],
      "execution_count": null,
      "outputs": []
    },
    {
      "cell_type": "code",
      "metadata": {
        "id": "zDL2MLfjk7hl",
        "colab": {
          "base_uri": "https://localhost:8080/"
        },
        "outputId": "7af41049-b305-4ae9-e0bf-5b9600130de9"
      },
      "source": [
        "listColumns = [colNegPneuLabel, colTypAppLabel, colIntAppLabel, colAtyAppLabel]\n",
        "listColumnsNames = ['Negative for Pneumonia', 'Typical Appearance', 'Indeterminate Appearance', 'Atypical Appearance']\n",
        "listCounter = []\n",
        "listProportions = []\n",
        "for i in range(len(listColumnsNames)):\n",
        "    a = (100*listColumns[i][0])/sum(listColumns[i])\n",
        "    listCounter.append(listColumns[i][0])\n",
        "    print(\"La proporcion de 0's en \", listColumnsNames[i], \"es: \\t\", a)\n",
        "    listProportions.append(a)\n",
        "    b = (100*listColumns[i][1])/sum(listColumns[i])\n",
        "    listCounter.append(listColumns[i][1])\n",
        "    print(\"La proporcion de 1's en \", listColumnsNames[i], \"es: \\t\", b)\n",
        "    listProportions.append(b)\n",
        "proportionsCompleteNone['Contador'] = listCounter\n",
        "proportionsCompleteNone['Proporciones'] = listProportions"
      ],
      "execution_count": null,
      "outputs": [
        {
          "output_type": "stream",
          "name": "stdout",
          "text": [
            "La proporcion de 0's en  Negative for Pneumonia es: \t 14.901960784313726\n",
            "La proporcion de 1's en  Negative for Pneumonia es: \t 85.09803921568627\n",
            "La proporcion de 0's en  Typical Appearance es: \t 92.5\n",
            "La proporcion de 1's en  Typical Appearance es: \t 7.5\n",
            "La proporcion de 0's en  Indeterminate Appearance es: \t 97.1078431372549\n",
            "La proporcion de 1's en  Indeterminate Appearance es: \t 2.892156862745098\n",
            "La proporcion de 0's en  Atypical Appearance es: \t 95.49019607843137\n",
            "La proporcion de 1's en  Atypical Appearance es: \t 4.509803921568627\n"
          ]
        }
      ]
    },
    {
      "cell_type": "markdown",
      "metadata": {
        "id": "mHyUG1efRyXk"
      },
      "source": [
        "**Tabla de proporciones sobre las diferentes clases entre negativo neumonía e indices de posible Covid**\n",
        "\n",
        "\n",
        "En esta tabla se muestra las proporciones de cada clase en los casos que sean positivos (1) o negativos (0)\n",
        "\n",
        "##### Hallazgo\n",
        "Dentro del filtro de label = none 10011, se encontro que el 304 casos que equivalen al 14.90% del filtro si tienen Pneumonia y algun indicio de posible Covid-19"
      ]
    },
    {
      "cell_type": "code",
      "metadata": {
        "id": "P70hIPqck7hl",
        "colab": {
          "base_uri": "https://localhost:8080/",
          "height": 297
        },
        "outputId": "68c67d5b-1fcd-43b0-bb9a-dc90c8819d06"
      },
      "source": [
        "# Visto en tabla\n",
        "proportionsCompleteNone = pd.DataFrame(proportionsCompleteNone)\n",
        "proportionsCompleteNone"
      ],
      "execution_count": null,
      "outputs": [
        {
          "output_type": "execute_result",
          "data": {
            "text/html": [
              "<div>\n",
              "<style scoped>\n",
              "    .dataframe tbody tr th:only-of-type {\n",
              "        vertical-align: middle;\n",
              "    }\n",
              "\n",
              "    .dataframe tbody tr th {\n",
              "        vertical-align: top;\n",
              "    }\n",
              "\n",
              "    .dataframe thead th {\n",
              "        text-align: right;\n",
              "    }\n",
              "</style>\n",
              "<table border=\"1\" class=\"dataframe\">\n",
              "  <thead>\n",
              "    <tr style=\"text-align: right;\">\n",
              "      <th></th>\n",
              "      <th>Nombres de Columnas</th>\n",
              "      <th>Metricas</th>\n",
              "      <th>Contador</th>\n",
              "      <th>Proporciones</th>\n",
              "    </tr>\n",
              "  </thead>\n",
              "  <tbody>\n",
              "    <tr>\n",
              "      <th>0</th>\n",
              "      <td>Negative for Pneumonia</td>\n",
              "      <td>0</td>\n",
              "      <td>304</td>\n",
              "      <td>14.901961</td>\n",
              "    </tr>\n",
              "    <tr>\n",
              "      <th>1</th>\n",
              "      <td>Negative for Pneumonia</td>\n",
              "      <td>1</td>\n",
              "      <td>1736</td>\n",
              "      <td>85.098039</td>\n",
              "    </tr>\n",
              "    <tr>\n",
              "      <th>2</th>\n",
              "      <td>Typical Appearance</td>\n",
              "      <td>0</td>\n",
              "      <td>1887</td>\n",
              "      <td>92.500000</td>\n",
              "    </tr>\n",
              "    <tr>\n",
              "      <th>3</th>\n",
              "      <td>Typical Appearance</td>\n",
              "      <td>1</td>\n",
              "      <td>153</td>\n",
              "      <td>7.500000</td>\n",
              "    </tr>\n",
              "    <tr>\n",
              "      <th>4</th>\n",
              "      <td>Indeterminate Appearance</td>\n",
              "      <td>0</td>\n",
              "      <td>1981</td>\n",
              "      <td>97.107843</td>\n",
              "    </tr>\n",
              "    <tr>\n",
              "      <th>5</th>\n",
              "      <td>Indeterminate Appearance</td>\n",
              "      <td>1</td>\n",
              "      <td>59</td>\n",
              "      <td>2.892157</td>\n",
              "    </tr>\n",
              "    <tr>\n",
              "      <th>6</th>\n",
              "      <td>Atypical Appearance</td>\n",
              "      <td>0</td>\n",
              "      <td>1948</td>\n",
              "      <td>95.490196</td>\n",
              "    </tr>\n",
              "    <tr>\n",
              "      <th>7</th>\n",
              "      <td>Atypical Appearance</td>\n",
              "      <td>1</td>\n",
              "      <td>92</td>\n",
              "      <td>4.509804</td>\n",
              "    </tr>\n",
              "  </tbody>\n",
              "</table>\n",
              "</div>"
            ],
            "text/plain": [
              "        Nombres de Columnas  Metricas  Contador  Proporciones\n",
              "0    Negative for Pneumonia         0       304     14.901961\n",
              "1    Negative for Pneumonia         1      1736     85.098039\n",
              "2        Typical Appearance         0      1887     92.500000\n",
              "3        Typical Appearance         1       153      7.500000\n",
              "4  Indeterminate Appearance         0      1981     97.107843\n",
              "5  Indeterminate Appearance         1        59      2.892157\n",
              "6       Atypical Appearance         0      1948     95.490196\n",
              "7       Atypical Appearance         1        92      4.509804"
            ]
          },
          "metadata": {},
          "execution_count": 31
        }
      ]
    },
    {
      "cell_type": "markdown",
      "metadata": {
        "id": "XhS8SfGaEvEt"
      },
      "source": [
        "**Gráficas de barra de frecuencia de 'Negative for Pneumonia'**\n",
        "\n",
        "Como se puede observar en esta gráfica existen 1736 casos en las que no se cumple la clase y 304 en los que sí."
      ]
    },
    {
      "cell_type": "code",
      "metadata": {
        "id": "WCiBbgohk7hl",
        "colab": {
          "base_uri": "https://localhost:8080/",
          "height": 295
        },
        "outputId": "ce9ca6b0-1782-447d-b456-89ebbeb96ada"
      },
      "source": [
        "ax = colNegPneuLabel.plot.bar()\n",
        "ax.set_title(listColumnsNames[0])\n",
        "ax.bar_label(ax.containers[0])"
      ],
      "execution_count": null,
      "outputs": [
        {
          "output_type": "execute_result",
          "data": {
            "text/plain": [
              "[Text(0, 0, '1736'), Text(0, 0, '304')]"
            ]
          },
          "metadata": {},
          "execution_count": 32
        },
        {
          "output_type": "display_data",
          "data": {
            "image/png": "[encoded data removed]",
            "text/plain": [
              "<Figure size 432x288 with 1 Axes>"
            ]
          },
          "metadata": {
            "needs_background": "light"
          }
        }
      ]
    },
    {
      "cell_type": "markdown",
      "metadata": {
        "id": "760ykIKvElsK"
      },
      "source": [
        "**Gráficas de barra de frecuencia de 'Typical Appearance'**\n",
        "\n",
        "Como se puede observar en esta gráfica existen 1887 casos en las que no se cumple la clase y 153 en los que sí."
      ]
    },
    {
      "cell_type": "code",
      "metadata": {
        "id": "odJonZ7Rk7hl",
        "colab": {
          "base_uri": "https://localhost:8080/",
          "height": 295
        },
        "outputId": "2e057b6f-dd84-42c2-ea9e-9f2627596576"
      },
      "source": [
        "ax = colTypAppLabel.plot.bar(color='red')\n",
        "ax.set_title(listColumnsNames[1])\n",
        "ax.bar_label(ax.containers[0])"
      ],
      "execution_count": null,
      "outputs": [
        {
          "output_type": "execute_result",
          "data": {
            "text/plain": [
              "[Text(0, 0, '1887'), Text(0, 0, '153')]"
            ]
          },
          "metadata": {},
          "execution_count": 33
        },
        {
          "output_type": "display_data",
          "data": {
            "image/png": "[encoded data removed]",
            "text/plain": [
              "<Figure size 432x288 with 1 Axes>"
            ]
          },
          "metadata": {
            "needs_background": "light"
          }
        }
      ]
    },
    {
      "cell_type": "markdown",
      "metadata": {
        "id": "Yfoq0y6lEglb"
      },
      "source": [
        "**Gráficas de barra de frecuencia de 'Indeterminate Appearance'**\n",
        "\n",
        "Como se puede observar en esta gráfica existen 1981 casos en las que no se cumple la clase y 59 en los que sí."
      ]
    },
    {
      "cell_type": "code",
      "metadata": {
        "id": "7RTjdHmjk7hm",
        "colab": {
          "base_uri": "https://localhost:8080/",
          "height": 295
        },
        "outputId": "d54feb11-a5dd-49ab-c19e-60b9f993d429"
      },
      "source": [
        "ax = colIntAppLabel.plot.bar(color='green')\n",
        "ax.set_title(listColumnsNames[2])\n",
        "ax.bar_label(ax.containers[0])"
      ],
      "execution_count": null,
      "outputs": [
        {
          "output_type": "execute_result",
          "data": {
            "text/plain": [
              "[Text(0, 0, '1981'), Text(0, 0, '59')]"
            ]
          },
          "metadata": {},
          "execution_count": 34
        },
        {
          "output_type": "display_data",
          "data": {
            "image/png": "[encoded data removed]",
            "text/plain": [
              "<Figure size 432x288 with 1 Axes>"
            ]
          },
          "metadata": {
            "needs_background": "light"
          }
        }
      ]
    },
    {
      "cell_type": "markdown",
      "metadata": {
        "id": "cdGTvW46EW8v"
      },
      "source": [
        "**Gráficas de barra de frecuencia de 'Atypical Appearance'**\n",
        "\n",
        "Como se puede observar en esta gráfica existen 1948 casos en las que no se cumple la clase y 92 en los que sí."
      ]
    },
    {
      "cell_type": "code",
      "metadata": {
        "id": "PNYB4C0sk7hm",
        "colab": {
          "base_uri": "https://localhost:8080/",
          "height": 295
        },
        "outputId": "2835f686-3e5a-43d8-e183-63fd1845a436"
      },
      "source": [
        "ax = colAtyAppLabel.plot.bar(color='orange')\n",
        "ax.set_title(listColumnsNames[3])\n",
        "ax.bar_label(ax.containers[0])"
      ],
      "execution_count": null,
      "outputs": [
        {
          "output_type": "execute_result",
          "data": {
            "text/plain": [
              "[Text(0, 0, '1948'), Text(0, 0, '92')]"
            ]
          },
          "metadata": {},
          "execution_count": 35
        },
        {
          "output_type": "display_data",
          "data": {
            "image/png": "[encoded data removed]",
            "text/plain": [
              "<Figure size 432x288 with 1 Axes>"
            ]
          },
          "metadata": {
            "needs_background": "light"
          }
        }
      ]
    },
    {
      "cell_type": "markdown",
      "metadata": {
        "id": "N9E3ZRzULSiB"
      },
      "source": [
        "**Gráfica de pie sobre las diferentes clases entre negativo neumonía e indices de posible Covid (filtro de label = none 10011)**\n",
        "\n",
        "Como se puede observar, la clase 'Negative for Pneumonia' predomina ante todas. Por consiguiente, la otra clase más común es la 'Atypical Appearance'. Luego le sigue la clase 'Indeterminate Appearance'. Finalmente, la menos comun es 'Indeterminate appearance'."
      ]
    },
    {
      "cell_type": "code",
      "metadata": {
        "id": "Z8FXoI8zGQEd",
        "colab": {
          "base_uri": "https://localhost:8080/",
          "height": 384
        },
        "outputId": "c41ae55b-3668-43f2-b6d3-32770b8f445b"
      },
      "source": [
        "count_values = [colNegPneuLabel[1], colTypAppLabel[1], colIntAppLabel[1], colAtyAppLabel[1]]\n",
        "labels_values = ['Negative for Pneumonia', 'Typical Appearance', 'Indeterminate Appearance', 'Atypical Appearance']\n",
        "\n",
        "plt.axis('equal')\n",
        "plt.pie(count_values, labels=labels_values)"
      ],
      "execution_count": null,
      "outputs": [
        {
          "output_type": "execute_result",
          "data": {
            "text/plain": [
              "([<matplotlib.patches.Wedge at 0x7f60699a2e10>,\n",
              "  <matplotlib.patches.Wedge at 0x7f606992fe50>,\n",
              "  <matplotlib.patches.Wedge at 0x7f606993f3d0>,\n",
              "  <matplotlib.patches.Wedge at 0x7f606993f910>],\n",
              " [Text(-0.9816406554236289, 0.49636843535771735, 'Negative for Pneumonia'),\n",
              "  Text(0.8408313606266763, -0.7092267782498716, 'Typical Appearance'),\n",
              "  Text(1.0238727165540078, -0.40210031123628415, 'Indeterminate Appearance'),\n",
              "  Text(1.0889782468275286, -0.1553266813411081, 'Atypical Appearance')])"
            ]
          },
          "metadata": {},
          "execution_count": 36
        },
        {
          "output_type": "display_data",
          "data": {
            "image/png": "[encoded data removed]",
            "text/plain": [
              "<Figure size 432x288 with 1 Axes>"
            ]
          },
          "metadata": {}
        }
      ]
    },
    {
      "cell_type": "markdown",
      "metadata": {
        "id": "NGpwviN0qsKL"
      },
      "source": [
        "Referencias: https://www.tensorflow.org/io/tutorials/dicom"
      ]
    },
    {
      "cell_type": "markdown",
      "metadata": {
        "id": "Ig0tBon7_eqi"
      },
      "source": [
        "**Despliegue de imagenes a analizar**\n",
        "\n",
        "Despliegue de imagenes a analizar  En esta sección se despliega un conjunto de 20 imangenes del data set en las que se presentan rayos X del tórax a diferentes pacientes que cuentan con una de las diferentes clases de neumonía. Por el momento no es posible categorizarlas según la escala de grises debido a que ninguna de ellas contiene información sobre que de caso se trata. Es decir, para poder entrenar una red para separarlas en categorías, se deberían tener muestras confirmadas de casos existentes para 'Atypical Appearance', 'Indeterminate Appearance', 'Typical Appearance' y  'Negative Appearance'. Cada imagen se decodifica para encontrar la imagen sin perdida y con perdida de información, cosa que podría afectar el resultado de una red al momento de entrenarla."
      ]
    },
    {
      "cell_type": "code",
      "metadata": {
        "id": "9efX0hze7whV",
        "colab": {
          "base_uri": "https://localhost:8080/",
          "height": 954
        },
        "outputId": "58c57211-366b-4bf6-e205-87a14df6b538"
      },
      "source": [
        "for n in os.listdir('./Images'):\n",
        "    if n == 'desktop.ini':\n",
        "        nada=0\n",
        "    else:\n",
        "        image_sample = tf.io.read_file(\"./Images/{}\".format(n))\n",
        "\n",
        "        img = tfio.image.decode_dicom_image(image_sample, dtype=tf.uint16)\n",
        "\n",
        "        sk = tfio.image.decode_dicom_image(image_sample, on_error='skip', dtype=tf.uint8)\n",
        "\n",
        "        image_with_loss = tfio.image.decode_dicom_image(image_sample, scale='auto', on_error='lossy', dtype=tf.uint8)\n",
        "\n",
        "\n",
        "        fig, axes = plt.subplots(1,2, figsize=(10,10))\n",
        "        axes[0].imshow(np.squeeze(img.numpy()), cmap='gray')\n",
        "        axes[0].set_title('imagen')\n",
        "        axes[1].imshow(np.squeeze(image_with_loss.numpy()), cmap='gray')\n",
        "        axes[1].set_title('image with loss')"
      ],
      "execution_count": null,
      "outputs": [
        {
          "output_type": "error",
          "ename": "TypeError",
          "evalue": "ignored",
          "traceback": [
            "\u001b[0;31m---------------------------------------------------------------------------\u001b[0m",
            "\u001b[0;31mTypeError\u001b[0m                                 Traceback (most recent call last)",
            "\u001b[0;32m<ipython-input-37-914d10dd9a94>\u001b[0m in \u001b[0;36m<module>\u001b[0;34m()\u001b[0m\n\u001b[1;32m     13\u001b[0m \u001b[0;34m\u001b[0m\u001b[0m\n\u001b[1;32m     14\u001b[0m         \u001b[0mfig\u001b[0m\u001b[0;34m,\u001b[0m \u001b[0maxes\u001b[0m \u001b[0;34m=\u001b[0m \u001b[0mplt\u001b[0m\u001b[0;34m.\u001b[0m\u001b[0msubplots\u001b[0m\u001b[0;34m(\u001b[0m\u001b[0;36m1\u001b[0m\u001b[0;34m,\u001b[0m\u001b[0;36m2\u001b[0m\u001b[0;34m,\u001b[0m \u001b[0mfigsize\u001b[0m\u001b[0;34m=\u001b[0m\u001b[0;34m(\u001b[0m\u001b[0;36m10\u001b[0m\u001b[0;34m,\u001b[0m\u001b[0;36m10\u001b[0m\u001b[0;34m)\u001b[0m\u001b[0;34m)\u001b[0m\u001b[0;34m\u001b[0m\u001b[0;34m\u001b[0m\u001b[0m\n\u001b[0;32m---> 15\u001b[0;31m         \u001b[0maxes\u001b[0m\u001b[0;34m[\u001b[0m\u001b[0;36m0\u001b[0m\u001b[0;34m]\u001b[0m\u001b[0;34m.\u001b[0m\u001b[0mimshow\u001b[0m\u001b[0;34m(\u001b[0m\u001b[0mnp\u001b[0m\u001b[0;34m.\u001b[0m\u001b[0msqueeze\u001b[0m\u001b[0;34m(\u001b[0m\u001b[0mimg\u001b[0m\u001b[0;34m.\u001b[0m\u001b[0mnumpy\u001b[0m\u001b[0;34m(\u001b[0m\u001b[0;34m)\u001b[0m\u001b[0;34m)\u001b[0m\u001b[0;34m,\u001b[0m \u001b[0mcmap\u001b[0m\u001b[0;34m=\u001b[0m\u001b[0;34m'gray'\u001b[0m\u001b[0;34m)\u001b[0m\u001b[0;34m\u001b[0m\u001b[0;34m\u001b[0m\u001b[0m\n\u001b[0m\u001b[1;32m     16\u001b[0m         \u001b[0maxes\u001b[0m\u001b[0;34m[\u001b[0m\u001b[0;36m0\u001b[0m\u001b[0;34m]\u001b[0m\u001b[0;34m.\u001b[0m\u001b[0mset_title\u001b[0m\u001b[0;34m(\u001b[0m\u001b[0;34m'imagen'\u001b[0m\u001b[0;34m)\u001b[0m\u001b[0;34m\u001b[0m\u001b[0;34m\u001b[0m\u001b[0m\n\u001b[1;32m     17\u001b[0m         \u001b[0maxes\u001b[0m\u001b[0;34m[\u001b[0m\u001b[0;36m1\u001b[0m\u001b[0;34m]\u001b[0m\u001b[0;34m.\u001b[0m\u001b[0mimshow\u001b[0m\u001b[0;34m(\u001b[0m\u001b[0mnp\u001b[0m\u001b[0;34m.\u001b[0m\u001b[0msqueeze\u001b[0m\u001b[0;34m(\u001b[0m\u001b[0mimage_with_loss\u001b[0m\u001b[0;34m.\u001b[0m\u001b[0mnumpy\u001b[0m\u001b[0;34m(\u001b[0m\u001b[0;34m)\u001b[0m\u001b[0;34m)\u001b[0m\u001b[0;34m,\u001b[0m \u001b[0mcmap\u001b[0m\u001b[0;34m=\u001b[0m\u001b[0;34m'gray'\u001b[0m\u001b[0;34m)\u001b[0m\u001b[0;34m\u001b[0m\u001b[0;34m\u001b[0m\u001b[0m\n",
            "\u001b[0;32m/usr/local/lib/python3.7/dist-packages/matplotlib/__init__.py\u001b[0m in \u001b[0;36minner\u001b[0;34m(ax, data, *args, **kwargs)\u001b[0m\n\u001b[1;32m   1359\u001b[0m     \u001b[0;32mdef\u001b[0m \u001b[0minner\u001b[0m\u001b[0;34m(\u001b[0m\u001b[0max\u001b[0m\u001b[0;34m,\u001b[0m \u001b[0;34m*\u001b[0m\u001b[0margs\u001b[0m\u001b[0;34m,\u001b[0m \u001b[0mdata\u001b[0m\u001b[0;34m=\u001b[0m\u001b[0;32mNone\u001b[0m\u001b[0;34m,\u001b[0m \u001b[0;34m**\u001b[0m\u001b[0mkwargs\u001b[0m\u001b[0;34m)\u001b[0m\u001b[0;34m:\u001b[0m\u001b[0;34m\u001b[0m\u001b[0;34m\u001b[0m\u001b[0m\n\u001b[1;32m   1360\u001b[0m         \u001b[0;32mif\u001b[0m \u001b[0mdata\u001b[0m \u001b[0;32mis\u001b[0m \u001b[0;32mNone\u001b[0m\u001b[0;34m:\u001b[0m\u001b[0;34m\u001b[0m\u001b[0;34m\u001b[0m\u001b[0m\n\u001b[0;32m-> 1361\u001b[0;31m             \u001b[0;32mreturn\u001b[0m \u001b[0mfunc\u001b[0m\u001b[0;34m(\u001b[0m\u001b[0max\u001b[0m\u001b[0;34m,\u001b[0m \u001b[0;34m*\u001b[0m\u001b[0mmap\u001b[0m\u001b[0;34m(\u001b[0m\u001b[0msanitize_sequence\u001b[0m\u001b[0;34m,\u001b[0m \u001b[0margs\u001b[0m\u001b[0;34m)\u001b[0m\u001b[0;34m,\u001b[0m \u001b[0;34m**\u001b[0m\u001b[0mkwargs\u001b[0m\u001b[0;34m)\u001b[0m\u001b[0;34m\u001b[0m\u001b[0;34m\u001b[0m\u001b[0m\n\u001b[0m\u001b[1;32m   1362\u001b[0m \u001b[0;34m\u001b[0m\u001b[0m\n\u001b[1;32m   1363\u001b[0m         \u001b[0mbound\u001b[0m \u001b[0;34m=\u001b[0m \u001b[0mnew_sig\u001b[0m\u001b[0;34m.\u001b[0m\u001b[0mbind\u001b[0m\u001b[0;34m(\u001b[0m\u001b[0max\u001b[0m\u001b[0;34m,\u001b[0m \u001b[0;34m*\u001b[0m\u001b[0margs\u001b[0m\u001b[0;34m,\u001b[0m \u001b[0;34m**\u001b[0m\u001b[0mkwargs\u001b[0m\u001b[0;34m)\u001b[0m\u001b[0;34m\u001b[0m\u001b[0;34m\u001b[0m\u001b[0m\n",
            "\u001b[0;32m/usr/local/lib/python3.7/dist-packages/matplotlib/axes/_axes.py\u001b[0m in \u001b[0;36mimshow\u001b[0;34m(self, X, cmap, norm, aspect, interpolation, alpha, vmin, vmax, origin, extent, filternorm, filterrad, resample, url, **kwargs)\u001b[0m\n\u001b[1;32m   5607\u001b[0m                               resample=resample, **kwargs)\n\u001b[1;32m   5608\u001b[0m \u001b[0;34m\u001b[0m\u001b[0m\n\u001b[0;32m-> 5609\u001b[0;31m         \u001b[0mim\u001b[0m\u001b[0;34m.\u001b[0m\u001b[0mset_data\u001b[0m\u001b[0;34m(\u001b[0m\u001b[0mX\u001b[0m\u001b[0;34m)\u001b[0m\u001b[0;34m\u001b[0m\u001b[0;34m\u001b[0m\u001b[0m\n\u001b[0m\u001b[1;32m   5610\u001b[0m         \u001b[0mim\u001b[0m\u001b[0;34m.\u001b[0m\u001b[0mset_alpha\u001b[0m\u001b[0;34m(\u001b[0m\u001b[0malpha\u001b[0m\u001b[0;34m)\u001b[0m\u001b[0;34m\u001b[0m\u001b[0;34m\u001b[0m\u001b[0m\n\u001b[1;32m   5611\u001b[0m         \u001b[0;32mif\u001b[0m \u001b[0mim\u001b[0m\u001b[0;34m.\u001b[0m\u001b[0mget_clip_path\u001b[0m\u001b[0;34m(\u001b[0m\u001b[0;34m)\u001b[0m \u001b[0;32mis\u001b[0m \u001b[0;32mNone\u001b[0m\u001b[0;34m:\u001b[0m\u001b[0;34m\u001b[0m\u001b[0;34m\u001b[0m\u001b[0m\n",
            "\u001b[0;32m/usr/local/lib/python3.7/dist-packages/matplotlib/image.py\u001b[0m in \u001b[0;36mset_data\u001b[0;34m(self, A)\u001b[0m\n\u001b[1;32m    708\u001b[0m                 or self._A.ndim == 3 and self._A.shape[-1] in [3, 4]):\n\u001b[1;32m    709\u001b[0m             raise TypeError(\"Invalid shape {} for image data\"\n\u001b[0;32m--> 710\u001b[0;31m                             .format(self._A.shape))\n\u001b[0m\u001b[1;32m    711\u001b[0m \u001b[0;34m\u001b[0m\u001b[0m\n\u001b[1;32m    712\u001b[0m         \u001b[0;32mif\u001b[0m \u001b[0mself\u001b[0m\u001b[0;34m.\u001b[0m\u001b[0m_A\u001b[0m\u001b[0;34m.\u001b[0m\u001b[0mndim\u001b[0m \u001b[0;34m==\u001b[0m \u001b[0;36m3\u001b[0m\u001b[0;34m:\u001b[0m\u001b[0;34m\u001b[0m\u001b[0;34m\u001b[0m\u001b[0m\n",
            "\u001b[0;31mTypeError\u001b[0m: Invalid shape (0,) for image data"
          ]
        },
        {
          "output_type": "display_data",
          "data": {
            "image/png": "[encoded data removed]",
            "text/plain": [
              "<Figure size 720x720 with 2 Axes>"
            ]
          },
          "metadata": {
            "needs_background": "light"
          }
        }
      ]
    },
    {
      "cell_type": "markdown",
      "metadata": {
        "id": "ECcmtBajK_bc"
      },
      "source": [
        "## Conclusiones\n",
        "\n",
        "\n",
        "\n",
        "*   Se encontró que la información Opacity y None no está uniformemente distribuida entre ambas variables. Es decir, la mayoría de imágenes muestran unos rayos X de pulmones de pacientes afectados por COVID-19.\n",
        "*   Los resultados encontrados en la distribución de los tipos de clases de neumonía que aparecen en las imágenes muestran que: la 'typical pneumonia' predomina, le sigue 'negative pneumonia', luego 'ideterminate pneumonia' y por último 'atypical pneumonia'.\n",
        "\n",
        "\n",
        "*   El conjunto de datos (imágenes) no estaban clasificadas previamente, por lo cual no es posible crear una red neuronal para poder clasificar otras muestras de manera automática.\n",
        "\n",
        "\n",
        "*   Las imágenes deslpegadas deberían de pasar por un proceso de cambios para poderlas adaptar a un modelo, ya que son imágenes grandes que pueden ser dificiles de procesar."
      ]
    },
    {
      "cell_type": "code",
      "metadata": {
        "id": "Op4h6sL-7whV"
      },
      "source": [
        ""
      ],
      "execution_count": null,
      "outputs": []
    },
    {
      "cell_type": "code",
      "metadata": {
        "id": "5bwfZTWg7whV"
      },
      "source": [
        ""
      ],
      "execution_count": null,
      "outputs": []
    }
  ]
}